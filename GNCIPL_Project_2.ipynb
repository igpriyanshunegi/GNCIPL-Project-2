{
  "cells": [
    {
      "cell_type": "markdown",
      "metadata": {
        "id": "vncDsAP0Gaoa"
      },
      "source": [
        "# **Project Name**    - **Cyber Attacks by Industry Sector.**\n",
        "\n"
      ]
    },
    {
      "cell_type": "markdown",
      "metadata": {
        "id": "beRrZCGUAJYm"
      },
      "source": [
        "\n",
        "**By Priyanshu**"
      ]
    },
    {
      "cell_type": "markdown",
      "metadata": {
        "id": "FJNUwmbgGyua"
      },
      "source": [
        "# **Project Summary**"
      ]
    },
    {
      "cell_type": "markdown",
      "metadata": {
        "id": "F6v_1wHtG2nS"
      },
      "source": [
        "**Project Objective:**\n",
        "\n",
        "The objective of this project, “Cyber Attacks by Industry Sector”, is to analyze and derive actionable insights into global cyberattack patterns using Verizon DBIR and Kaggle datasets within the IT Security domain. The primary focus is to understand attack types, industry-specific risks, temporal trends, and breach resolution timelines, thereby supporting organizations in strengthening their cybersecurity posture.\n",
        "\n",
        "**Through Exploratory Data Analysis (EDA), the project aims to:**\n",
        "\n",
        "1. Examine Attack Patterns Over Time\n",
        "\n",
        "Perform time-series analysis to uncover historical attack trends, seasonal patterns, and year-over-year shifts in threat intensity.\n",
        "\n",
        "2. Identify Industry Vulnerabilities\n",
        "\n",
        "Compare industries (e.g., finance, healthcare, retail, government) to highlight sectors with the highest exposure, user impact, and financial loss.\n",
        "\n",
        "3. Explore Attack Types & Breach Timelines\n",
        "\n",
        "Analyze the relationship between attack types (e.g., phishing, ransomware, DDoS), their financial consequences, and incident resolution times.\n",
        "\n",
        "4. Uncover Correlations & Root Causes\n",
        "\n",
        "Apply correlation analysis and heatmaps to study links between attack sources, vulnerabilities, defense mechanisms, and breach outcomes."
      ]
    },
    {
      "cell_type": "markdown",
      "metadata": {
        "id": "yQaldy8SH6Dl"
      },
      "source": [
        "# **Problem Statement**\n"
      ]
    },
    {
      "cell_type": "markdown",
      "metadata": {
        "id": "DpeJGUA3kjGy"
      },
      "source": [
        "The increasing frequency and sophistication of cyberattacks pose a critical challenge to organizations across all industry sectors. Despite extensive reports such as the Verizon DBIR and open datasets available on Kaggle, there remains a lack of consolidated, data-driven insights that reveal:\n",
        "\n",
        "Which industries are most vulnerable,\n",
        "\n",
        "What attack types dominate across timelines,\n",
        "\n",
        "How breach timelines and resolution vary, and\n",
        "\n",
        "What economic and demographic factors influence risk exposure.\n",
        "\n",
        "Without such analysis, businesses struggle to prioritize security investments, governments face difficulty in identifying systemic vulnerabilities, and cybersecurity teams lack evidence-based strategies to defend against emerging threats.\n",
        "\n",
        "This project addresses the gap by conducting comprehensive Exploratory Data Analysis (EDA) to uncover attack trends, correlations, and anomalies, with a focus on attack types, industry targets, geospatial distributions, and breach timelines. The ultimate aim is to generate actionable intelligence that can guide cybersecurity policy, incident response planning, and resource allocation."
      ]
    },
    {
      "cell_type": "markdown",
      "metadata": {
        "id": "w6K7xa23Elo4"
      },
      "source": [
        "# **GitHub Link**"
      ]
    },
    {
      "cell_type": "markdown",
      "metadata": {
        "id": "h1o69JH3Eqqn"
      },
      "source": [
        "[GitHub Link here.](https://github.com/igpriyanshunegi/GNCIPL-Project-2)\n",
        "\n"
      ]
    },
    {
      "cell_type": "markdown",
      "metadata": {
        "id": "O_i_v8NEhb9l"
      },
      "source": [
        "# ***Data Analysis Start***"
      ]
    },
    {
      "cell_type": "markdown",
      "metadata": {
        "id": "Y3lxredqlCYt"
      },
      "source": [
        "### Import Libraries"
      ]
    },
    {
      "cell_type": "code",
      "execution_count": null,
      "metadata": {
        "id": "M8Vqi-pPk-HR"
      },
      "outputs": [],
      "source": [
        "# Import Libraries\n",
        "import pandas as pd\n",
        "import matplotlib.pyplot as plt\n",
        "import seaborn as sns\n",
        "import numpy as np\n",
        "import plotly.express as px"
      ]
    },
    {
      "cell_type": "markdown",
      "metadata": {
        "id": "JlHwYmJAmNHm"
      },
      "source": [
        "### Dataset Information"
      ]
    },
    {
      "cell_type": "code",
      "execution_count": null,
      "metadata": {
        "id": "e9hRXRi6meOf"
      },
      "outputs": [],
      "source": [
        "# Dataset Info\n",
        "df = pd.read_csv('Global_Cybersecurity_Threats_2015-2024.csv')\n",
        "print(\"\\nDataset Information: \")\n",
        "print(df.info())"
      ]
    },
    {
      "cell_type": "markdown",
      "metadata": {
        "id": "PXjbivTnmyLK"
      },
      "source": [
        "### Description about Dataset"
      ]
    },
    {
      "cell_type": "code",
      "execution_count": null,
      "metadata": {
        "id": "DnOaZdaE5Q5t"
      },
      "outputs": [],
      "source": [
        "# Dataset Describe\n",
        "print(\"\\nDescription of the Dataset:\")\n",
        "print(df.describe())"
      ]
    },
    {
      "cell_type": "markdown",
      "metadata": {
        "id": "nA9Y7ga8ng1Z"
      },
      "source": [
        "### Information about columns"
      ]
    },
    {
      "cell_type": "code",
      "execution_count": null,
      "metadata": {
        "id": "j7xfkqrt5Ag5"
      },
      "outputs": [],
      "source": [
        "# Dataset Columns\n",
        "print(\"\\nColumns Present in the Dataset:\")\n",
        "print(df.columns)\n",
        "\n",
        "print(\"\\n Data types of the columns of the dataset: \")\n",
        "print(df.dtypes)"
      ]
    },
    {
      "cell_type": "markdown",
      "metadata": {
        "id": "jfnYecS86v1G"
      },
      "source": [
        "### Incident by year"
      ]
    },
    {
      "cell_type": "code",
      "execution_count": null,
      "metadata": {
        "id": "6xlmART562wH"
      },
      "outputs": [],
      "source": [
        "print(\"\\nIncidents by year:\")\n",
        "print(df['Year'].value_counts().sort_index())"
      ]
    },
    {
      "cell_type": "markdown",
      "metadata": {
        "id": "x71ZqKXriCWQ"
      },
      "source": [
        "### Top 5 data"
      ]
    },
    {
      "cell_type": "code",
      "execution_count": null,
      "metadata": {
        "id": "LWNFOSvLl09H"
      },
      "outputs": [],
      "source": [
        "# Dataset First Look\n",
        "print(\"\\nFirst 5 Rows of the Dataset:\")\n",
        "print(df.head())"
      ]
    },
    {
      "cell_type": "markdown",
      "metadata": {
        "id": "3uAlIYqr6_tP"
      },
      "source": [
        "### Top 7  most targeted industries"
      ]
    },
    {
      "cell_type": "code",
      "execution_count": null,
      "metadata": {
        "id": "Ir6oGZQx7HWo"
      },
      "outputs": [],
      "source": [
        "(\"\\nTop 7 most targeted industries:\")\n",
        "print(df['Target Industry'].value_counts().head(7))"
      ]
    },
    {
      "cell_type": "markdown",
      "metadata": {
        "id": "DBXBUnx07We9"
      },
      "source": [
        "### Top 6 attack types"
      ]
    },
    {
      "cell_type": "code",
      "execution_count": null,
      "metadata": {
        "id": "r2sXK2TV7YFZ"
      },
      "outputs": [],
      "source": [
        "print(\"\\nTop 6 attack types:\")\n",
        "print(df['Attack Type'].value_counts().head(6))"
      ]
    },
    {
      "cell_type": "markdown",
      "metadata": {
        "id": "KOPv_VNP7ima"
      },
      "source": [
        "### Average financial loss by attack type (in Million $)"
      ]
    },
    {
      "cell_type": "code",
      "execution_count": null,
      "metadata": {
        "id": "UMmpTnd07kLr"
      },
      "outputs": [],
      "source": [
        "print(\"\\nAverage financial loss by attack type (in Million $):\")\n",
        "print(df.groupby('Attack Type')['Financial Loss (in Million $)'].mean().sort_values(ascending=False))"
      ]
    },
    {
      "cell_type": "markdown",
      "metadata": {
        "id": "kr6jTq2O7rbE"
      },
      "source": [
        "### Most common attack sources"
      ]
    },
    {
      "cell_type": "code",
      "execution_count": null,
      "metadata": {
        "id": "JqSl-SBw7wJc"
      },
      "outputs": [],
      "source": [
        "print(\"\\nMost common attack sources:\")\n",
        "print(df['Attack Source'].value_counts())"
      ]
    },
    {
      "cell_type": "markdown",
      "metadata": {
        "id": "u3PMJOP6ngxN"
      },
      "source": [
        "### Check Unique Values for each columns"
      ]
    },
    {
      "cell_type": "code",
      "execution_count": null,
      "metadata": {
        "id": "zms12Yq5n-jE"
      },
      "outputs": [],
      "source": [
        "# Check Unique Values for each columns\n",
        "print(\"\\nUnique Values in each Columns of the Dataset: \")\n",
        "print(df.nunique())"
      ]
    },
    {
      "cell_type": "markdown",
      "metadata": {
        "id": "52kEZbiuuRJ9"
      },
      "source": [
        "### Chart - Time-Series Analysis → Trends by Year"
      ]
    },
    {
      "cell_type": "code",
      "execution_count": null,
      "metadata": {
        "id": "zTqxgl3YuRJ9"
      },
      "outputs": [],
      "source": [
        "plt.figure(figsize=(10,6))\n",
        "loss_by_year = df.groupby(\"Year\")[\"Financial Loss (in Million $)\"].sum().reset_index()\n",
        "\n",
        "sns.lineplot(data=loss_by_year, x=\"Year\", y=\"Financial Loss (in Million $)\", marker=\"o\")\n",
        "plt.title(\"Total Financial Loss Over Time\", fontsize=14)\n",
        "plt.xlabel(\"Year\")\n",
        "plt.ylabel(\"Financial Loss (in Million $)\")\n",
        "plt.grid(True, linestyle=\"--\", alpha=0.7)\n",
        "plt.show()\n"
      ]
    },
    {
      "cell_type": "markdown",
      "metadata": {
        "id": "-zemJAdPuRJ9"
      },
      "source": [
        "#####  What are the insight found from the chart?"
      ]
    },
    {
      "cell_type": "markdown",
      "metadata": {
        "id": "QwR1sFWBuRJ-"
      },
      "source": [
        "**Time-Series Analysis: Financial Loss Over Time**\n",
        "This chart illustrates the trend of total financial losses attributed to cyber attacks over a multi-year period. It helps in understanding the evolving financial impact of cyber threats and identifying periods of heightened activity.\n",
        "\n",
        "**Key Observations:**\n",
        "\n",
        "**Overall Trend:** The line's general direction (upward, downward, or flat) indicates whether the financial damage from cyber attacks is increasing, decreasing, or stabilizing over time.\n",
        "\n",
        "**Sudden Spikes:** Sharp increases in specific years pinpoint periods with exceptionally high-cost cyber incidents. These could correspond to the emergence of new, potent ransomware strains, major state-sponsored attacks, or large-scale data breaches affecting high-value targets.\n",
        "\n",
        "**Periods of Stability or Decline:** Flattened or dipping sections of the line may suggest the effectiveness of newly implemented security measures across industries or a temporary shift in attackers' tactics.\n",
        "\n",
        "**Volatility:** A highly fluctuating line indicates an unpredictable and unstable threat landscape, making it difficult for organizations to forecast and budget for cyber-related financial risks."
      ]
    },
    {
      "cell_type": "markdown",
      "metadata": {
        "id": "EM7whBJCYoAo"
      },
      "source": [
        "### Chart - Attack according to sector and year"
      ]
    },
    {
      "cell_type": "code",
      "execution_count": null,
      "metadata": {
        "id": "t6GMdE67YoAp"
      },
      "outputs": [],
      "source": [
        "\n",
        "attacks_by_sector_year = pd.crosstab(df['Target Industry'], df['Year'])\n",
        "\n",
        "plt.figure(figsize=(12, 8))\n",
        "sns.heatmap(attacks_by_sector_year, cmap='YlOrRd', annot=True, fmt='d')\n",
        "plt.title('Frequency of Cyber Attacks by Sector and Year')\n",
        "plt.xlabel('Year')\n",
        "plt.ylabel('Target Industry')\n",
        "plt.tight_layout()\n",
        "plt.show()"
      ]
    },
    {
      "cell_type": "markdown",
      "metadata": {
        "id": "85gYPyotYoAp"
      },
      "source": [
        "##### What are the insight found from the chart?"
      ]
    },
    {
      "cell_type": "markdown",
      "metadata": {
        "id": "4jstXR6OYoAp"
      },
      "source": [
        "**IT Sector is consistently targeted:**\n",
        "\n",
        " The IT industry has been a frequent target of attacks throughout the entire period from 2015 to 2024, with high numbers of incidents in most years.\n",
        "\n",
        "**Education Sector shows a high spike in 2018:**\n",
        "\n",
        " The number of cyberattacks on the Education sector peaked significantly in 2018, with 59 incidents, which is notably higher than other years for this sector.\n",
        "\n",
        "**Government Sector has a relatively stable but high number of attacks:**\n",
        "\n",
        " The Government sector experiences a consistent and high volume of attacks each year, with the number of incidents remaining in a narrow range.\n",
        "\n",
        "**Healthcare and Retail Sectors show a general upward trend:**\n",
        "\n",
        " While there are year-to-year fluctuations, both the Healthcare and Retail sectors show a gradual increase in the number of cyberattacks over the years, with a notable peak for Healthcare in 2017.\n",
        "\n",
        "**Banking and Telecommunications sectors have fluctuating attack frequencies:**\n",
        "\n",
        " The number of attacks in the Banking and Telecommunications sectors varies from year to year, with no clear long-term trend."
      ]
    },
    {
      "cell_type": "markdown",
      "metadata": {
        "id": "4Of9eVA-YrdM"
      },
      "source": [
        "### Chart - Total attacks by sector"
      ]
    },
    {
      "cell_type": "code",
      "execution_count": null,
      "metadata": {
        "id": "irlUoxc8YrdO"
      },
      "outputs": [],
      "source": [
        "total_by_sector = df['Target Industry'].value_counts()\n",
        "\n",
        "plt.figure(figsize=(12, 6))\n",
        "total_by_sector.plot(kind='bar')\n",
        "plt.title('Total Cyber Attacks by Industry Sector')\n",
        "plt.xlabel('Target Industry')\n",
        "plt.ylabel('Number of Attacks')\n",
        "plt.xticks(rotation=45, ha='right')\n",
        "plt.tight_layout()\n",
        "plt.show()"
      ]
    },
    {
      "cell_type": "markdown",
      "metadata": {
        "id": "F6T5p64dYrdO"
      },
      "source": [
        "##### What are the insight found from the chart?"
      ]
    },
    {
      "cell_type": "markdown",
      "metadata": {
        "id": "Xx8WAJvtYrdO"
      },
      "source": [
        "**IT Sector is the most targeted:**\n",
        "\n",
        " The IT sector has the highest number of reported attacks with a total of 478 incidents.\n",
        "\n",
        "**Banking and Healthcare sectors are the next most targeted:**\n",
        "\n",
        " Following the IT sector, the Banking and Healthcare sectors are also high-frequency targets with 445 and 429 incidents, respectively.\n",
        "\n",
        "**Retail and Education are close behind:**\n",
        "\n",
        " The Retail and Education sectors experienced a high number of attacks, with 423 and 419 incidents each.\n",
        "\n",
        "**Government and Telecommunications have the lowest number of attacks among the top sectors:**\n",
        "\n",
        " The Government and Telecommunications sectors have the lowest number of attacks among the sectors analyzed, both with 403 incidents."
      ]
    },
    {
      "cell_type": "markdown",
      "metadata": {
        "id": "ZkIuITJ4uRKT"
      },
      "source": [
        "### Chart - Time-Series: Affected Users Over Time"
      ]
    },
    {
      "cell_type": "code",
      "execution_count": null,
      "metadata": {
        "id": "gAxfMGbnuRKU"
      },
      "outputs": [],
      "source": [
        "plt.figure(figsize=(10,6))\n",
        "users_by_year = df.groupby(\"Year\")[\"Number of Affected Users\"].sum().reset_index()\n",
        "sns.lineplot(data=users_by_year, x=\"Year\", y=\"Number of Affected Users\", marker=\"o\", color=\"orange\")\n",
        "plt.title(\"Total Affected Users Over Time\")\n",
        "plt.show()\n"
      ]
    },
    {
      "cell_type": "markdown",
      "metadata": {
        "id": "2BXkruC7uRKU"
      },
      "source": [
        "##### What are the insight found from the chart?"
      ]
    },
    {
      "cell_type": "markdown",
      "metadata": {
        "id": "SDLK9UnDuRKV"
      },
      "source": [
        "Time-Series Analysis: Affected Users Over Time\n",
        "\n",
        "This chart shows the total number of users impacted each year, focusing on the human scale of cyberattacks rather than just financial loss.\n",
        "\n",
        "Key Insights:\n",
        "\n",
        "Peak Years: Spikes highlight massive breaches, often tied to attacks on major tech, retail, or service providers.\n",
        "\n",
        "Upward Trend: Indicates attackers are compromising larger datasets over time.\n",
        "\n",
        "Correlation with Cost:\n",
        "\n",
        "High correlation → big breaches drive big financial losses.\n",
        "\n",
        "Low correlation → attacks may target non-financial data (credentials, personal info) for later use.\n",
        "\n",
        "Shifting Tactics: Declines may signal a move toward smaller, targeted, high-value attacks instead of mass breaches."
      ]
    },
    {
      "cell_type": "markdown",
      "metadata": {
        "id": "ALXPuQM9uRKX"
      },
      "source": [
        "### Chart - Average Users Affected by Industry"
      ]
    },
    {
      "cell_type": "code",
      "execution_count": null,
      "metadata": {
        "id": "UBalfZB2uRKX"
      },
      "outputs": [],
      "source": [
        "plt.figure(figsize=(10,6))\n",
        "industry_users = (\n",
        "    df.groupby(\"Target Industry\")[\"Number of Affected Users\"]\n",
        "    .mean()\n",
        "    .sort_values(ascending=False)\n",
        "    .reset_index()\n",
        ")\n",
        "\n",
        "sns.barplot(\n",
        "    data=industry_users,\n",
        "    x=\"Number of Affected Users\",\n",
        "    y=\"Target Industry\",\n",
        "    hue=\"Target Industry\",\n",
        "    palette=\"flare\",\n",
        "    legend=False\n",
        ")\n",
        "\n",
        "plt.title(\"Average Users Affected by Industry\")\n",
        "plt.xlabel(\"Average Affected Users\")\n",
        "plt.ylabel(\"Target Industry\")\n",
        "plt.show()\n"
      ]
    },
    {
      "cell_type": "markdown",
      "metadata": {
        "id": "4Hj-_XiEuRKY"
      },
      "source": [
        "##### What are the insight found from the chart?"
      ]
    },
    {
      "cell_type": "markdown",
      "metadata": {
        "id": "OaY4rZOEuRKY"
      },
      "source": [
        "Analysis of Average Breach Scale by Industry\n",
        "\n",
        "This chart shows the average number of users affected per incident in each industry, highlighting the scale of breaches rather than their frequency.\n",
        "\n",
        "Key Insights:\n",
        "\n",
        "High-Impact vs. High-Frequency:\n",
        "\n",
        "Some industries face rare but catastrophic breaches (“whale targets,” e.g., credit bureaus, social media).\n",
        "\n",
        "Others face both frequent and large-scale attacks, making them constant high-risk sectors.\n",
        "\n",
        "Data Aggregators:\n",
        "\n",
        "Industries like Technology, Telecom, Finance, and Government usually top the chart because they handle massive datasets.\n",
        "\n",
        "Disproportionate Impact:\n",
        "\n",
        "Retail may see frequent small breaches, while Technology can suffer fewer but exponentially larger breaches.\n",
        "\n",
        "Nature of Data:\n",
        "\n",
        "Top industries manage broad datasets (many users), while lower ones may have more sensitive but smaller-scale data."
      ]
    },
    {
      "cell_type": "markdown",
      "metadata": {
        "id": "Donem1EbuRKY"
      },
      "source": [
        "### Chart -  Loss vs. Resolution Time by Attack Type"
      ]
    },
    {
      "cell_type": "code",
      "execution_count": null,
      "metadata": {
        "id": "sMBY_MbRuRKY"
      },
      "outputs": [],
      "source": [
        "plt.figure(figsize=(12,6))\n",
        "\n",
        "attack_stats = df.groupby(\"Attack Type\").agg({\n",
        "    \"Financial Loss (in Million $)\": \"mean\",\n",
        "    \"Incident Resolution Time (in Hours)\": \"mean\"\n",
        "}).reset_index()\n",
        "\n",
        "x = np.arange(len(attack_stats))\n",
        "width = 0.4\n",
        "\n",
        "plt.bar(x - width/2, attack_stats[\"Financial Loss (in Million $)\"], width, label=\"Avg Financial Loss ($M)\", color=\"tomato\")\n",
        "plt.bar(x + width/2, attack_stats[\"Incident Resolution Time (in Hours)\"], width, label=\"Avg Resolution Time (hrs)\", color=\"steelblue\")\n",
        "\n",
        "plt.xticks(x, attack_stats[\"Attack Type\"], rotation=45, ha=\"right\")\n",
        "plt.title(\"Attack Type Comparison: Financial Loss vs Resolution Time\")\n",
        "plt.xlabel(\"Attack Type\")\n",
        "plt.ylabel(\"Value\")\n",
        "plt.legend()\n",
        "plt.tight_layout()\n",
        "plt.show()"
      ]
    },
    {
      "cell_type": "markdown",
      "metadata": {
        "id": "pmp8S3wiuRKZ"
      },
      "source": [
        "##### What are the insight found from the chart?"
      ]
    },
    {
      "cell_type": "markdown",
      "metadata": {
        "id": "IANgLRLzuRKZ"
      },
      "source": [
        "This chart compares the average financial loss and average resolution time for each attack type, showing their distinct impact patterns.\n",
        "\n",
        "Key Insights:\n",
        "\n",
        "High Cost, High Time: The most destructive attacks (e.g., ransomware) – very expensive and take longest to fix.\n",
        "\n",
        "High Cost, Low Time: Swift but financially damaging attacks (e.g., BEC, wire fraud) – big monetary hit but quick to resolve technically.\n",
        "\n",
        "Low Cost, High Time: Operationally draining attacks (e.g., DDoS, spyware) – lower direct costs but cause long-lasting disruption.\n",
        "\n",
        "Relative Impact: Helps assess whether an attack’s biggest risk is financial loss or operational downtime."
      ]
    },
    {
      "cell_type": "markdown",
      "metadata": {
        "id": "pbVL-C8AuRKZ"
      },
      "source": [
        "### Chart - Correlation Heatmap"
      ]
    },
    {
      "cell_type": "code",
      "execution_count": null,
      "metadata": {
        "id": "i3nzsoXvuRKa"
      },
      "outputs": [],
      "source": [
        "plt.figure(figsize=(10,6))\n",
        "corr = df[[\n",
        "    \"Financial Loss (in Million $)\",\n",
        "    \"Number of Affected Users\",\n",
        "    \"Incident Resolution Time (in Hours)\"\n",
        "]].corr()\n",
        "\n",
        "sns.heatmap(corr, annot=True, cmap=\"coolwarm\", fmt=\".2f\")\n",
        "plt.title(\"Correlation Heatmap: Loss, Users & Resolution Time\")\n",
        "plt.show()\n"
      ]
    },
    {
      "cell_type": "markdown",
      "metadata": {
        "id": "Z0Xh-D2IuRKc"
      },
      "source": [
        "##### What are the insight found from the chart?"
      ]
    },
    {
      "cell_type": "markdown",
      "metadata": {
        "id": "8h9aRqAZuRKc"
      },
      "source": [
        "This heatmap shows how the core metrics of cyber incidents—financial loss, affected users, and resolution time—are related. Correlation values range from -1 to +1, where higher positive values mean stronger relationships.\n",
        "\n",
        "Key Insights:\n",
        "\n",
        "Financial Loss vs. Affected Users:\n",
        "\n",
        "Strong positive → More users affected = higher cost (fines, recovery, brand damage).\n",
        "\n",
        "Weak correlation → Some costly attacks (like ransomware) may affect fewer users but still cause huge losses.\n",
        "\n",
        "Financial Loss vs. Resolution Time:\n",
        "\n",
        "Strong positive → Longer resolution means higher cost (downtime, investigation fees).\n",
        "\n",
        "Shows the value of fast incident response.\n",
        "\n",
        "Affected Users vs. Resolution Time:\n",
        "\n",
        "Strong positive → Larger-scale attacks take longer to contain and recover from.\n",
        "\n",
        "In short: The heatmap reveals how user impact, cost, and duration are connected, highlighting why fast detection and response are critical."
      ]
    },
    {
      "cell_type": "markdown",
      "source": [
        "### Chart - Financial Loss by Attack Type"
      ],
      "metadata": {
        "id": "YvjQVPkJkc5T"
      }
    },
    {
      "cell_type": "code",
      "source": [
        "fig1 = px.bar(\n",
        "    df.groupby(\"Attack Type\")[\"Financial Loss (in Million $)\"].sum().reset_index(),\n",
        "    x=\"Attack Type\",\n",
        "    y=\"Financial Loss (in Million $)\",\n",
        "    title=\"Total Financial Loss by Attack Type (2015-2024)\",\n",
        "    hover_data={\"Financial Loss (in Million $)\":\":.2f\"},\n",
        "    color=\"Financial Loss (in Million $)\"\n",
        ")\n",
        "\n",
        "fig1.show()\n"
      ],
      "metadata": {
        "id": "iEk9xKi6j8ap"
      },
      "execution_count": null,
      "outputs": []
    },
    {
      "cell_type": "markdown",
      "source": [
        "##### What are the insight found from the chart?"
      ],
      "metadata": {
        "id": "cbzQ7KI6lKAn"
      }
    },
    {
      "cell_type": "markdown",
      "source": [
        "Costliest Attacks: The tallest bars show which attack types caused the highest financial losses.\n",
        "\n",
        "Comparison: Easy to see which attacks are more damaging (e.g., ransomware vs phishing).\n",
        "\n",
        "Risk Focus: Organizations should prioritize defenses against the top 2–3 most financially harmful attack types.\n",
        "\n",
        "In short: The chart reveals the most expensive attack types globally and helps in prioritizing cybersecurity efforts."
      ],
      "metadata": {
        "id": "1_qG9gk9lGwX"
      }
    },
    {
      "cell_type": "markdown",
      "source": [
        "### Chart - Number of Attacks by Year"
      ],
      "metadata": {
        "id": "nDMfa4k2lO15"
      }
    },
    {
      "cell_type": "code",
      "source": [
        "attacks_per_year = df.groupby(\"Year\").size().reset_index(name=\"Number of Attacks\")\n",
        "fig2 = px.line(\n",
        "    attacks_per_year,\n",
        "    x=\"Year\",\n",
        "    y=\"Number of Attacks\",\n",
        "    title=\"Cyber Attacks Over the Years\",\n",
        "    markers=True\n",
        ")\n",
        "\n",
        "fig2.show()"
      ],
      "metadata": {
        "id": "TUzfOEuglT7J"
      },
      "execution_count": null,
      "outputs": []
    },
    {
      "cell_type": "markdown",
      "source": [
        "##### What are the insight found from the chart?"
      ],
      "metadata": {
        "id": "GFh_gPaLlhfx"
      }
    },
    {
      "cell_type": "markdown",
      "source": [
        "Trend: Shows if cyberattacks are rising, falling, or fluctuating from 2015–2024.\n",
        "\n",
        "Peaks: High points = years with the most widespread attacks (often tied to global events).\n",
        "\n",
        "Comparison: Recent years usually show more attacks than early years → proving the threat landscape is worsening.\n",
        "\n",
        "In short: The chart highlights the growth and peak years of cyberattacks, showing how threats have intensified over time."
      ],
      "metadata": {
        "id": "KfQhm3yfliZz"
      }
    },
    {
      "cell_type": "markdown",
      "source": [
        "### Chart - Attack Type → Target Industry → Country\n"
      ],
      "metadata": {
        "id": "4kogs-Vml2AE"
      }
    },
    {
      "cell_type": "code",
      "source": [
        "fig3 = px.sunburst(\n",
        "    df,\n",
        "    path=[\"Attack Type\", \"Target Industry\", \"Country\"],\n",
        "    values=\"Financial Loss (in Million $)\",\n",
        "    title=\"Attack Distribution by Type, Industry, and Country\",\n",
        "    color=\"Financial Loss (in Million $)\",\n",
        "    hover_data={\"Financial Loss (in Million $)\":\":.2f\"}\n",
        ")\n",
        "\n",
        "fig3.show()"
      ],
      "metadata": {
        "id": "KfBDZRKal7vF"
      },
      "execution_count": null,
      "outputs": []
    },
    {
      "cell_type": "markdown",
      "source": [
        "##### What are the insight found from the chart?"
      ],
      "metadata": {
        "id": "vMce5M5Zl6T1"
      }
    },
    {
      "cell_type": "markdown",
      "source": [
        "Dominant Attack Type: The largest center slice shows which attack type causes the highest global losses.\n",
        "\n",
        "Industry Impact: Bigger slices within each attack type = industries most targeted.\n",
        "\n",
        "Country Hotspots: Outer ring highlights countries with the highest losses in each industry.\n",
        "\n",
        "Risk Patterns: Some industries appear under multiple attack types, showing a broad attack surface.\n",
        "\n",
        "In short: The chart reveals which attack type dominates, which industries and countries are hit hardest, and which sectors face multiple threats."
      ],
      "metadata": {
        "id": "ALlYFEJ1l8Qt"
      }
    },
    {
      "cell_type": "markdown",
      "source": [
        "### Scatter plot - Financial Loss vs Affected Users"
      ],
      "metadata": {
        "id": "EawouJnFmZLR"
      }
    },
    {
      "cell_type": "code",
      "source": [
        "fig4 = px.scatter(\n",
        "    df,\n",
        "    x=\"Number of Affected Users\",\n",
        "    y=\"Financial Loss (in Million $)\",\n",
        "    color=\"Attack Type\",\n",
        "    size=\"Financial Loss (in Million $)\",\n",
        "    hover_name=\"Country\",\n",
        "    title=\"Financial Loss vs Affected Users (Colored by Attack Type)\",\n",
        "    log_x=True,  # log scale to handle large variation\n",
        "    log_y=True\n",
        ")\n",
        "\n",
        "fig4.show()"
      ],
      "metadata": {
        "id": "HpaeZMAPmZjA"
      },
      "execution_count": null,
      "outputs": []
    },
    {
      "cell_type": "markdown",
      "source": [
        "##### What are the insight found from the chart?"
      ],
      "metadata": {
        "id": "CHpIZ80tmfoy"
      }
    },
    {
      "cell_type": "markdown",
      "source": [
        "The chart reveals a trade-off between financial loss and user exposure — some attacks are “wide but shallow,” others are “narrow but deep,” and the outliers show the most devastating breaches."
      ],
      "metadata": {
        "id": "VSX_vvUymgJ4"
      }
    },
    {
      "cell_type": "markdown",
      "source": [
        "# Thank you"
      ],
      "metadata": {
        "id": "EAX8aMRpubjW"
      }
    }
  ],
  "metadata": {
    "colab": {
      "collapsed_sections": [
        "vncDsAP0Gaoa",
        "FJNUwmbgGyua",
        "yQaldy8SH6Dl",
        "H0kj-8xxnORC",
        "O_i_v8NEhb9l",
        "Y3lxredqlCYt",
        "lQ7QKXXCp7Bj",
        "vNBQ7pf0Y38p",
        "ijmpgYnKYklI",
        "85gYPyotYoAp",
        "F6T5p64dYrdO"
      ],
      "private_outputs": true,
      "provenance": []
    },
    "kernelspec": {
      "display_name": "Python 3",
      "name": "python3"
    },
    "language_info": {
      "codemirror_mode": {
        "name": "ipython",
        "version": 3
      },
      "file_extension": ".py",
      "mimetype": "text/x-python",
      "name": "python",
      "nbconvert_exporter": "python",
      "pygments_lexer": "ipython3",
      "version": "3.13.5"
    }
  },
  "nbformat": 4,
  "nbformat_minor": 0
}