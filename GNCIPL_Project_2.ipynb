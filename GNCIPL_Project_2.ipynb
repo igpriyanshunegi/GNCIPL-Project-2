{
  "cells": [
    {
      "cell_type": "markdown",
      "metadata": {
        "id": "vncDsAP0Gaoa"
      },
      "source": [
        "# **Project Name**    - **Cyber Attacks by Industry Sector.**\n",
        "\n"
      ]
    },
    {
      "cell_type": "markdown",
      "metadata": {
        "id": "beRrZCGUAJYm"
      },
      "source": [
        "\n",
        "**By Priyanshu**"
      ]
    },
    {
      "cell_type": "markdown",
      "metadata": {
        "id": "FJNUwmbgGyua"
      },
      "source": [
        "# **Project Summary**"
      ]
    },
    {
      "cell_type": "markdown",
      "metadata": {
        "id": "F6v_1wHtG2nS"
      },
      "source": [
        "**Project Objective:**\n",
        "\n",
        "The objective of this project, “Cyber Attacks by Industry Sector”, is to analyze and derive actionable insights into global cyberattack patterns using Verizon DBIR and Kaggle datasets within the IT Security domain. The primary focus is to understand attack types, industry-specific risks, temporal trends, and breach resolution timelines, thereby supporting organizations in strengthening their cybersecurity posture.\n",
        "\n",
        "**Through Exploratory Data Analysis (EDA), the project aims to:**\n",
        "\n",
        "1. Examine Attack Patterns Over Time\n",
        "\n",
        "Perform time-series analysis to uncover historical attack trends, seasonal patterns, and year-over-year shifts in threat intensity.\n",
        "\n",
        "2. Identify Industry Vulnerabilities\n",
        "\n",
        "Compare industries (e.g., finance, healthcare, retail, government) to highlight sectors with the highest exposure, user impact, and financial loss.\n",
        "\n",
        "3. Explore Attack Types & Breach Timelines\n",
        "\n",
        "Analyze the relationship between attack types (e.g., phishing, ransomware, DDoS), their financial consequences, and incident resolution times.\n",
        "\n",
        "4. Uncover Correlations & Root Causes\n",
        "\n",
        "Apply correlation analysis and heatmaps to study links between attack sources, vulnerabilities, defense mechanisms, and breach outcomes."
      ]
    },
    {
      "cell_type": "markdown",
      "metadata": {
        "id": "yQaldy8SH6Dl"
      },
      "source": [
        "# **Problem Statement**\n"
      ]
    },
    {
      "cell_type": "markdown",
      "metadata": {
        "id": "DpeJGUA3kjGy"
      },
      "source": [
        "The increasing frequency and sophistication of cyberattacks pose a critical challenge to organizations across all industry sectors. Despite extensive reports such as the Verizon DBIR and open datasets available on Kaggle, there remains a lack of consolidated, data-driven insights that reveal:\n",
        "\n",
        "Which industries are most vulnerable,\n",
        "\n",
        "What attack types dominate across timelines,\n",
        "\n",
        "How breach timelines and resolution vary, and\n",
        "\n",
        "What economic and demographic factors influence risk exposure.\n",
        "\n",
        "Without such analysis, businesses struggle to prioritize security investments, governments face difficulty in identifying systemic vulnerabilities, and cybersecurity teams lack evidence-based strategies to defend against emerging threats.\n",
        "\n",
        "This project addresses the gap by conducting comprehensive Exploratory Data Analysis (EDA) to uncover attack trends, correlations, and anomalies, with a focus on attack types, industry targets, geospatial distributions, and breach timelines. The ultimate aim is to generate actionable intelligence that can guide cybersecurity policy, incident response planning, and resource allocation."
      ]
    },
    {
      "cell_type": "markdown",
      "metadata": {
        "id": "w6K7xa23Elo4"
      },
      "source": [
        "# **GitHub Link**"
      ]
    },
    {
      "cell_type": "markdown",
      "metadata": {
        "id": "h1o69JH3Eqqn"
      },
      "source": [
        "[GitHub Link here.](https://github.com/igpriyanshunegi/GNCIPL-Project-2)\n",
        "\n"
      ]
    },
    {
      "cell_type": "markdown",
      "metadata": {
        "id": "O_i_v8NEhb9l"
      },
      "source": [
        "# ***Data Analysis Start***"
      ]
    },
    {
      "cell_type": "markdown",
      "metadata": {
        "id": "Y3lxredqlCYt"
      },
      "source": [
        "### Import Libraries"
      ]
    },
    {
      "cell_type": "code",
      "execution_count": 23,
      "metadata": {
        "id": "M8Vqi-pPk-HR"
      },
      "outputs": [],
      "source": [
        "# Import Libraries\n",
        "import pandas as pd\n",
        "import matplotlib.pyplot as plt\n",
        "import seaborn as sns\n",
        "import numpy as np\n",
        "import plotly.express as px"
      ]
    },
    {
      "cell_type": "markdown",
      "metadata": {
        "id": "JlHwYmJAmNHm"
      },
      "source": [
        "### Dataset Information"
      ]
    },
    {
      "cell_type": "code",
      "execution_count": 24,
      "metadata": {
        "id": "e9hRXRi6meOf"
      },
      "outputs": [
        {
          "name": "stdout",
          "output_type": "stream",
          "text": [
            "\n",
            "Dataset Information: \n",
            "<class 'pandas.core.frame.DataFrame'>\n",
            "RangeIndex: 3000 entries, 0 to 2999\n",
            "Data columns (total 10 columns):\n",
            " #   Column                               Non-Null Count  Dtype  \n",
            "---  ------                               --------------  -----  \n",
            " 0   Country                              3000 non-null   object \n",
            " 1   Year                                 3000 non-null   int64  \n",
            " 2   Attack Type                          3000 non-null   object \n",
            " 3   Target Industry                      3000 non-null   object \n",
            " 4   Financial Loss (in Million $)        3000 non-null   float64\n",
            " 5   Number of Affected Users             3000 non-null   int64  \n",
            " 6   Attack Source                        3000 non-null   object \n",
            " 7   Security Vulnerability Type          3000 non-null   object \n",
            " 8   Defense Mechanism Used               3000 non-null   object \n",
            " 9   Incident Resolution Time (in Hours)  3000 non-null   int64  \n",
            "dtypes: float64(1), int64(3), object(6)\n",
            "memory usage: 234.5+ KB\n",
            "None\n"
          ]
        }
      ],
      "source": [
        "# Dataset Info\n",
        "df = pd.read_csv('Global_Cybersecurity_Threats_2015-2024.csv')\n",
        "print(\"\\nDataset Information: \")\n",
        "print(df.info())"
      ]
    },
    {
      "cell_type": "markdown",
      "metadata": {
        "id": "PXjbivTnmyLK"
      },
      "source": [
        "### Description about Dataset"
      ]
    },
    {
      "cell_type": "code",
      "execution_count": 25,
      "metadata": {
        "id": "DnOaZdaE5Q5t"
      },
      "outputs": [
        {
          "name": "stdout",
          "output_type": "stream",
          "text": [
            "\n",
            "Description of the Dataset:\n",
            "              Year  Financial Loss (in Million $)  Number of Affected Users  \\\n",
            "count  3000.000000                    3000.000000               3000.000000   \n",
            "mean   2019.570333                      50.492970             504684.136333   \n",
            "std       2.857932                      28.791415             289944.084972   \n",
            "min    2015.000000                       0.500000                424.000000   \n",
            "25%    2017.000000                      25.757500             255805.250000   \n",
            "50%    2020.000000                      50.795000             504513.000000   \n",
            "75%    2022.000000                      75.630000             758088.500000   \n",
            "max    2024.000000                      99.990000             999635.000000   \n",
            "\n",
            "       Incident Resolution Time (in Hours)  \n",
            "count                          3000.000000  \n",
            "mean                             36.476000  \n",
            "std                              20.570768  \n",
            "min                               1.000000  \n",
            "25%                              19.000000  \n",
            "50%                              37.000000  \n",
            "75%                              55.000000  \n",
            "max                              72.000000  \n"
          ]
        }
      ],
      "source": [
        "# Dataset Describe\n",
        "print(\"\\nDescription of the Dataset:\")\n",
        "print(df.describe())"
      ]
    },
    {
      "cell_type": "markdown",
      "metadata": {
        "id": "nA9Y7ga8ng1Z"
      },
      "source": [
        "### Information about columns"
      ]
    },
    {
      "cell_type": "code",
      "execution_count": 26,
      "metadata": {
        "id": "j7xfkqrt5Ag5"
      },
      "outputs": [
        {
          "name": "stdout",
          "output_type": "stream",
          "text": [
            "\n",
            "Columns Present in the Dataset:\n",
            "Index(['Country', 'Year', 'Attack Type', 'Target Industry',\n",
            "       'Financial Loss (in Million $)', 'Number of Affected Users',\n",
            "       'Attack Source', 'Security Vulnerability Type',\n",
            "       'Defense Mechanism Used', 'Incident Resolution Time (in Hours)'],\n",
            "      dtype='object')\n",
            "\n",
            " Data types of the columns of the dataset: \n",
            "Country                                 object\n",
            "Year                                     int64\n",
            "Attack Type                             object\n",
            "Target Industry                         object\n",
            "Financial Loss (in Million $)          float64\n",
            "Number of Affected Users                 int64\n",
            "Attack Source                           object\n",
            "Security Vulnerability Type             object\n",
            "Defense Mechanism Used                  object\n",
            "Incident Resolution Time (in Hours)      int64\n",
            "dtype: object\n"
          ]
        }
      ],
      "source": [
        "# Dataset Columns\n",
        "print(\"\\nColumns Present in the Dataset:\")\n",
        "print(df.columns)\n",
        "\n",
        "print(\"\\n Data types of the columns of the dataset: \")\n",
        "print(df.dtypes)"
      ]
    },
    {
      "cell_type": "markdown",
      "metadata": {
        "id": "jfnYecS86v1G"
      },
      "source": [
        "### Incident by year"
      ]
    },
    {
      "cell_type": "code",
      "execution_count": 27,
      "metadata": {
        "id": "6xlmART562wH"
      },
      "outputs": [
        {
          "name": "stdout",
          "output_type": "stream",
          "text": [
            "\n",
            "Incidents by year:\n",
            "Year\n",
            "2015    277\n",
            "2016    285\n",
            "2017    319\n",
            "2018    310\n",
            "2019    263\n",
            "2020    315\n",
            "2021    299\n",
            "2022    318\n",
            "2023    315\n",
            "2024    299\n",
            "Name: count, dtype: int64\n"
          ]
        }
      ],
      "source": [
        "print(\"\\nIncidents by year:\")\n",
        "print(df['Year'].value_counts().sort_index())"
      ]
    },
    {
      "cell_type": "markdown",
      "metadata": {
        "id": "x71ZqKXriCWQ"
      },
      "source": [
        "### Top 5 data"
      ]
    },
    {
      "cell_type": "code",
      "execution_count": 28,
      "metadata": {
        "id": "LWNFOSvLl09H"
      },
      "outputs": [
        {
          "name": "stdout",
          "output_type": "stream",
          "text": [
            "\n",
            "First 5 Rows of the Dataset:\n",
            "   Country  Year        Attack Type     Target Industry  \\\n",
            "0    China  2019           Phishing           Education   \n",
            "1    China  2019         Ransomware              Retail   \n",
            "2    India  2017  Man-in-the-Middle                  IT   \n",
            "3       UK  2024         Ransomware  Telecommunications   \n",
            "4  Germany  2018  Man-in-the-Middle                  IT   \n",
            "\n",
            "   Financial Loss (in Million $)  Number of Affected Users Attack Source  \\\n",
            "0                          80.53                    773169  Hacker Group   \n",
            "1                          62.19                    295961  Hacker Group   \n",
            "2                          38.65                    605895  Hacker Group   \n",
            "3                          41.44                    659320  Nation-state   \n",
            "4                          74.41                    810682       Insider   \n",
            "\n",
            "  Security Vulnerability Type Defense Mechanism Used  \\\n",
            "0          Unpatched Software                    VPN   \n",
            "1          Unpatched Software               Firewall   \n",
            "2              Weak Passwords                    VPN   \n",
            "3          Social Engineering     AI-based Detection   \n",
            "4          Social Engineering                    VPN   \n",
            "\n",
            "   Incident Resolution Time (in Hours)  \n",
            "0                                   63  \n",
            "1                                   71  \n",
            "2                                   20  \n",
            "3                                    7  \n",
            "4                                   68  \n"
          ]
        }
      ],
      "source": [
        "# Dataset First Look\n",
        "print(\"\\nFirst 5 Rows of the Dataset:\")\n",
        "print(df.head())"
      ]
    },
    {
      "cell_type": "markdown",
      "metadata": {
        "id": "3uAlIYqr6_tP"
      },
      "source": [
        "### Top 7  most targeted industries"
      ]
    },
    {
      "cell_type": "code",
      "execution_count": 29,
      "metadata": {
        "id": "Ir6oGZQx7HWo"
      },
      "outputs": [
        {
          "name": "stdout",
          "output_type": "stream",
          "text": [
            "Target Industry\n",
            "IT                    478\n",
            "Banking               445\n",
            "Healthcare            429\n",
            "Retail                423\n",
            "Education             419\n",
            "Government            403\n",
            "Telecommunications    403\n",
            "Name: count, dtype: int64\n"
          ]
        }
      ],
      "source": [
        "(\"\\nTop 7 most targeted industries:\")\n",
        "print(df['Target Industry'].value_counts().head(7))"
      ]
    },
    {
      "cell_type": "markdown",
      "metadata": {
        "id": "DBXBUnx07We9"
      },
      "source": [
        "### Top 6 attack types"
      ]
    },
    {
      "cell_type": "code",
      "execution_count": 30,
      "metadata": {
        "id": "r2sXK2TV7YFZ"
      },
      "outputs": [
        {
          "name": "stdout",
          "output_type": "stream",
          "text": [
            "\n",
            "Top 6 attack types:\n",
            "Attack Type\n",
            "DDoS                 531\n",
            "Phishing             529\n",
            "SQL Injection        503\n",
            "Ransomware           493\n",
            "Malware              485\n",
            "Man-in-the-Middle    459\n",
            "Name: count, dtype: int64\n"
          ]
        }
      ],
      "source": [
        "print(\"\\nTop 6 attack types:\")\n",
        "print(df['Attack Type'].value_counts().head(6))"
      ]
    },
    {
      "cell_type": "markdown",
      "metadata": {
        "id": "KOPv_VNP7ima"
      },
      "source": [
        "### Average financial loss by attack type (in Million $)"
      ]
    },
    {
      "cell_type": "code",
      "execution_count": 31,
      "metadata": {
        "id": "UMmpTnd07kLr"
      },
      "outputs": [
        {
          "name": "stdout",
          "output_type": "stream",
          "text": [
            "\n",
            "Average financial loss by attack type (in Million $):\n",
            "Attack Type\n",
            "DDoS                 52.035631\n",
            "Man-in-the-Middle    51.309085\n",
            "Phishing             50.459905\n",
            "SQL Injection        50.013042\n",
            "Ransomware           49.653793\n",
            "Malware              49.418454\n",
            "Name: Financial Loss (in Million $), dtype: float64\n"
          ]
        }
      ],
      "source": [
        "print(\"\\nAverage financial loss by attack type (in Million $):\")\n",
        "print(df.groupby('Attack Type')['Financial Loss (in Million $)'].mean().sort_values(ascending=False))"
      ]
    },
    {
      "cell_type": "markdown",
      "metadata": {
        "id": "kr6jTq2O7rbE"
      },
      "source": [
        "### Most common attack sources"
      ]
    },
    {
      "cell_type": "code",
      "execution_count": 32,
      "metadata": {
        "id": "JqSl-SBw7wJc"
      },
      "outputs": [
        {
          "name": "stdout",
          "output_type": "stream",
          "text": [
            "\n",
            "Most common attack sources:\n",
            "Attack Source\n",
            "Nation-state    794\n",
            "Unknown         768\n",
            "Insider         752\n",
            "Hacker Group    686\n",
            "Name: count, dtype: int64\n"
          ]
        }
      ],
      "source": [
        "print(\"\\nMost common attack sources:\")\n",
        "print(df['Attack Source'].value_counts())"
      ]
    },
    {
      "cell_type": "markdown",
      "metadata": {
        "id": "u3PMJOP6ngxN"
      },
      "source": [
        "### Check Unique Values for each columns"
      ]
    },
    {
      "cell_type": "code",
      "execution_count": 33,
      "metadata": {
        "id": "zms12Yq5n-jE"
      },
      "outputs": [
        {
          "name": "stdout",
          "output_type": "stream",
          "text": [
            "\n",
            "Unique Values in each Columns of the Dataset: \n",
            "Country                                  10\n",
            "Year                                     10\n",
            "Attack Type                               6\n",
            "Target Industry                           7\n",
            "Financial Loss (in Million $)          2536\n",
            "Number of Affected Users               2998\n",
            "Attack Source                             4\n",
            "Security Vulnerability Type               4\n",
            "Defense Mechanism Used                    5\n",
            "Incident Resolution Time (in Hours)      72\n",
            "dtype: int64\n"
          ]
        }
      ],
      "source": [
        "# Check Unique Values for each columns\n",
        "print(\"\\nUnique Values in each Columns of the Dataset: \")\n",
        "print(df.nunique())"
      ]
    },
    {
      "cell_type": "markdown",
      "metadata": {
        "id": "52kEZbiuuRJ9"
      },
      "source": [
        "### Chart - Time-Series Analysis → Trends by Year"
      ]
    },
    {
      "cell_type": "code",
      "execution_count": 34,
      "metadata": {
        "id": "zTqxgl3YuRJ9"
      },
      "outputs": [
        {
          "data": {
            "image/png": "[encoded data removed]",
            "text/plain": [
              "<Figure size 1000x600 with 1 Axes>"
            ]
          },
          "metadata": {},
          "output_type": "display_data"
        }
      ],
      "source": [
        "plt.figure(figsize=(10,6))\n",
        "loss_by_year = df.groupby(\"Year\")[\"Financial Loss (in Million $)\"].sum().reset_index()\n",
        "\n",
        "sns.lineplot(data=loss_by_year, x=\"Year\", y=\"Financial Loss (in Million $)\", marker=\"o\")\n",
        "plt.title(\"Total Financial Loss Over Time\", fontsize=14)\n",
        "plt.xlabel(\"Year\")\n",
        "plt.ylabel(\"Financial Loss (in Million $)\")\n",
        "plt.grid(True, linestyle=\"--\", alpha=0.7)\n",
        "plt.show()\n"
      ]
    },
    {
      "cell_type": "markdown",
      "metadata": {
        "id": "-zemJAdPuRJ9"
      },
      "source": [
        "#####  What are the insight found from the chart?"
      ]
    },
    {
      "cell_type": "markdown",
      "metadata": {
        "id": "QwR1sFWBuRJ-"
      },
      "source": [
        "**Time-Series Analysis: Financial Loss Over Time**\n",
        "This chart illustrates the trend of total financial losses attributed to cyber attacks over a multi-year period. It helps in understanding the evolving financial impact of cyber threats and identifying periods of heightened activity.\n",
        "\n",
        "**Key Observations:**\n",
        "\n",
        "**Overall Trend:** The line's general direction (upward, downward, or flat) indicates whether the financial damage from cyber attacks is increasing, decreasing, or stabilizing over time.\n",
        "\n",
        "**Sudden Spikes:** Sharp increases in specific years pinpoint periods with exceptionally high-cost cyber incidents. These could correspond to the emergence of new, potent ransomware strains, major state-sponsored attacks, or large-scale data breaches affecting high-value targets.\n",
        "\n",
        "**Periods of Stability or Decline:** Flattened or dipping sections of the line may suggest the effectiveness of newly implemented security measures across industries or a temporary shift in attackers' tactics.\n",
        "\n",
        "**Volatility:** A highly fluctuating line indicates an unpredictable and unstable threat landscape, making it difficult for organizations to forecast and budget for cyber-related financial risks."
      ]
    },
    {
      "cell_type": "markdown",
      "metadata": {
        "id": "EM7whBJCYoAo"
      },
      "source": [
        "### Chart - Attack according to sector and year"
      ]
    },
    {
      "cell_type": "code",
      "execution_count": 35,
      "metadata": {
        "id": "t6GMdE67YoAp"
      },
      "outputs": [
        {
          "data": {
            "image/png": "[encoded data removed]",
            "text/plain": [
              "<Figure size 1200x800 with 2 Axes>"
            ]
          },
          "metadata": {},
          "output_type": "display_data"
        }
      ],
      "source": [
        "\n",
        "attacks_by_sector_year = pd.crosstab(df['Target Industry'], df['Year'])\n",
        "\n",
        "plt.figure(figsize=(12, 8))\n",
        "sns.heatmap(attacks_by_sector_year, cmap='YlOrRd', annot=True, fmt='d')\n",
        "plt.title('Frequency of Cyber Attacks by Sector and Year')\n",
        "plt.xlabel('Year')\n",
        "plt.ylabel('Target Industry')\n",
        "plt.tight_layout()\n",
        "plt.show()"
      ]
    },
    {
      "cell_type": "markdown",
      "metadata": {
        "id": "85gYPyotYoAp"
      },
      "source": [
        "##### What are the insight found from the chart?"
      ]
    },
    {
      "cell_type": "markdown",
      "metadata": {
        "id": "4jstXR6OYoAp"
      },
      "source": [
        "**IT Sector is consistently targeted:**\n",
        "\n",
        " The IT industry has been a frequent target of attacks throughout the entire period from 2015 to 2024, with high numbers of incidents in most years.\n",
        "\n",
        "**Education Sector shows a high spike in 2018:**\n",
        "\n",
        " The number of cyberattacks on the Education sector peaked significantly in 2018, with 59 incidents, which is notably higher than other years for this sector.\n",
        "\n",
        "**Government Sector has a relatively stable but high number of attacks:**\n",
        "\n",
        " The Government sector experiences a consistent and high volume of attacks each year, with the number of incidents remaining in a narrow range.\n",
        "\n",
        "**Healthcare and Retail Sectors show a general upward trend:**\n",
        "\n",
        " While there are year-to-year fluctuations, both the Healthcare and Retail sectors show a gradual increase in the number of cyberattacks over the years, with a notable peak for Healthcare in 2017.\n",
        "\n",
        "**Banking and Telecommunications sectors have fluctuating attack frequencies:**\n",
        "\n",
        " The number of attacks in the Banking and Telecommunications sectors varies from year to year, with no clear long-term trend."
      ]
    },
    {
      "cell_type": "markdown",
      "metadata": {
        "id": "4Of9eVA-YrdM"
      },
      "source": [
        "### Chart - Total attacks by sector"
      ]
    },
    {
      "cell_type": "code",
      "execution_count": 36,
      "metadata": {
        "id": "irlUoxc8YrdO"
      },
      "outputs": [
        {
          "data": {
            "image/png": "[encoded data removed]",
            "text/plain": [
              "<Figure size 1200x600 with 1 Axes>"
            ]
          },
          "metadata": {},
          "output_type": "display_data"
        }
      ],
      "source": [
        "total_by_sector = df['Target Industry'].value_counts()\n",
        "\n",
        "plt.figure(figsize=(12, 6))\n",
        "total_by_sector.plot(kind='bar')\n",
        "plt.title('Total Cyber Attacks by Industry Sector')\n",
        "plt.xlabel('Target Industry')\n",
        "plt.ylabel('Number of Attacks')\n",
        "plt.xticks(rotation=45, ha='right')\n",
        "plt.tight_layout()\n",
        "plt.show()"
      ]
    },
    {
      "cell_type": "markdown",
      "metadata": {
        "id": "F6T5p64dYrdO"
      },
      "source": [
        "##### What are the insight found from the chart?"
      ]
    },
    {
      "cell_type": "markdown",
      "metadata": {
        "id": "Xx8WAJvtYrdO"
      },
      "source": [
        "**IT Sector is the most targeted:**\n",
        "\n",
        " The IT sector has the highest number of reported attacks with a total of 478 incidents.\n",
        "\n",
        "**Banking and Healthcare sectors are the next most targeted:**\n",
        "\n",
        " Following the IT sector, the Banking and Healthcare sectors are also high-frequency targets with 445 and 429 incidents, respectively.\n",
        "\n",
        "**Retail and Education are close behind:**\n",
        "\n",
        " The Retail and Education sectors experienced a high number of attacks, with 423 and 419 incidents each.\n",
        "\n",
        "**Government and Telecommunications have the lowest number of attacks among the top sectors:**\n",
        "\n",
        " The Government and Telecommunications sectors have the lowest number of attacks among the sectors analyzed, both with 403 incidents."
      ]
    },
    {
      "cell_type": "markdown",
      "metadata": {
        "id": "ZkIuITJ4uRKT"
      },
      "source": [
        "### Chart - Time-Series: Affected Users Over Time"
      ]
    },
    {
      "cell_type": "code",
      "execution_count": 37,
      "metadata": {
        "id": "gAxfMGbnuRKU"
      },
      "outputs": [
        {
          "data": {
            "image/png": "[encoded data removed]",
            "text/plain": [
              "<Figure size 1000x600 with 1 Axes>"
            ]
          },
          "metadata": {},
          "output_type": "display_data"
        }
      ],
      "source": [
        "plt.figure(figsize=(10,6))\n",
        "users_by_year = df.groupby(\"Year\")[\"Number of Affected Users\"].sum().reset_index()\n",
        "sns.lineplot(data=users_by_year, x=\"Year\", y=\"Number of Affected Users\", marker=\"o\", color=\"orange\")\n",
        "plt.title(\"Total Affected Users Over Time\")\n",
        "plt.show()\n"
      ]
    },
    {
      "cell_type": "markdown",
      "metadata": {
        "id": "2BXkruC7uRKU"
      },
      "source": [
        "##### What are the insight found from the chart?"
      ]
    },
    {
      "cell_type": "markdown",
      "metadata": {
        "id": "SDLK9UnDuRKV"
      },
      "source": [
        "Time-Series Analysis: Affected Users Over Time\n",
        "\n",
        "This chart shows the total number of users impacted each year, focusing on the human scale of cyberattacks rather than just financial loss.\n",
        "\n",
        "Key Insights:\n",
        "\n",
        "Peak Years: Spikes highlight massive breaches, often tied to attacks on major tech, retail, or service providers.\n",
        "\n",
        "Upward Trend: Indicates attackers are compromising larger datasets over time.\n",
        "\n",
        "Correlation with Cost:\n",
        "\n",
        "High correlation → big breaches drive big financial losses.\n",
        "\n",
        "Low correlation → attacks may target non-financial data (credentials, personal info) for later use.\n",
        "\n",
        "Shifting Tactics: Declines may signal a move toward smaller, targeted, high-value attacks instead of mass breaches."
      ]
    },
    {
      "cell_type": "markdown",
      "metadata": {
        "id": "ALXPuQM9uRKX"
      },
      "source": [
        "### Chart - Average Users Affected by Industry"
      ]
    },
    {
      "cell_type": "code",
      "execution_count": 38,
      "metadata": {
        "id": "UBalfZB2uRKX"
      },
      "outputs": [
        {
          "data": {
            "image/png": "[encoded data removed]",
            "text/plain": [
              "<Figure size 1000x600 with 1 Axes>"
            ]
          },
          "metadata": {},
          "output_type": "display_data"
        }
      ],
      "source": [
        "plt.figure(figsize=(10,6))\n",
        "industry_users = (\n",
        "    df.groupby(\"Target Industry\")[\"Number of Affected Users\"]\n",
        "    .mean()\n",
        "    .sort_values(ascending=False)\n",
        "    .reset_index()\n",
        ")\n",
        "\n",
        "sns.barplot(\n",
        "    data=industry_users,\n",
        "    x=\"Number of Affected Users\",\n",
        "    y=\"Target Industry\",\n",
        "    hue=\"Target Industry\",\n",
        "    palette=\"flare\",\n",
        "    legend=False\n",
        ")\n",
        "\n",
        "plt.title(\"Average Users Affected by Industry\")\n",
        "plt.xlabel(\"Average Affected Users\")\n",
        "plt.ylabel(\"Target Industry\")\n",
        "plt.show()\n"
      ]
    },
    {
      "cell_type": "markdown",
      "metadata": {
        "id": "4Hj-_XiEuRKY"
      },
      "source": [
        "##### What are the insight found from the chart?"
      ]
    },
    {
      "cell_type": "markdown",
      "metadata": {
        "id": "OaY4rZOEuRKY"
      },
      "source": [
        "Analysis of Average Breach Scale by Industry\n",
        "\n",
        "This chart shows the average number of users affected per incident in each industry, highlighting the scale of breaches rather than their frequency.\n",
        "\n",
        "Key Insights:\n",
        "\n",
        "High-Impact vs. High-Frequency:\n",
        "\n",
        "Some industries face rare but catastrophic breaches (“whale targets,” e.g., credit bureaus, social media).\n",
        "\n",
        "Others face both frequent and large-scale attacks, making them constant high-risk sectors.\n",
        "\n",
        "Data Aggregators:\n",
        "\n",
        "Industries like Technology, Telecom, Finance, and Government usually top the chart because they handle massive datasets.\n",
        "\n",
        "Disproportionate Impact:\n",
        "\n",
        "Retail may see frequent small breaches, while Technology can suffer fewer but exponentially larger breaches.\n",
        "\n",
        "Nature of Data:\n",
        "\n",
        "Top industries manage broad datasets (many users), while lower ones may have more sensitive but smaller-scale data."
      ]
    },
    {
      "cell_type": "markdown",
      "metadata": {
        "id": "Donem1EbuRKY"
      },
      "source": [
        "### Chart -  Loss vs. Resolution Time by Attack Type"
      ]
    },
    {
      "cell_type": "code",
      "execution_count": 39,
      "metadata": {
        "id": "sMBY_MbRuRKY"
      },
      "outputs": [
        {
          "data": {
            "image/png": "[encoded data removed]",
            "text/plain": [
              "<Figure size 1200x600 with 1 Axes>"
            ]
          },
          "metadata": {},
          "output_type": "display_data"
        }
      ],
      "source": [
        "plt.figure(figsize=(12,6))\n",
        "\n",
        "attack_stats = df.groupby(\"Attack Type\").agg({\n",
        "    \"Financial Loss (in Million $)\": \"mean\",\n",
        "    \"Incident Resolution Time (in Hours)\": \"mean\"\n",
        "}).reset_index()\n",
        "\n",
        "x = np.arange(len(attack_stats))\n",
        "width = 0.4\n",
        "\n",
        "plt.bar(x - width/2, attack_stats[\"Financial Loss (in Million $)\"], width, label=\"Avg Financial Loss ($M)\", color=\"tomato\")\n",
        "plt.bar(x + width/2, attack_stats[\"Incident Resolution Time (in Hours)\"], width, label=\"Avg Resolution Time (hrs)\", color=\"steelblue\")\n",
        "\n",
        "plt.xticks(x, attack_stats[\"Attack Type\"], rotation=45, ha=\"right\")\n",
        "plt.title(\"Attack Type Comparison: Financial Loss vs Resolution Time\")\n",
        "plt.xlabel(\"Attack Type\")\n",
        "plt.ylabel(\"Value\")\n",
        "plt.legend()\n",
        "plt.tight_layout()\n",
        "plt.show()"
      ]
    },
    {
      "cell_type": "markdown",
      "metadata": {
        "id": "pmp8S3wiuRKZ"
      },
      "source": [
        "##### What are the insight found from the chart?"
      ]
    },
    {
      "cell_type": "markdown",
      "metadata": {
        "id": "IANgLRLzuRKZ"
      },
      "source": [
        "This chart compares the average financial loss and average resolution time for each attack type, showing their distinct impact patterns.\n",
        "\n",
        "Key Insights:\n",
        "\n",
        "High Cost, High Time: The most destructive attacks (e.g., ransomware) – very expensive and take longest to fix.\n",
        "\n",
        "High Cost, Low Time: Swift but financially damaging attacks (e.g., BEC, wire fraud) – big monetary hit but quick to resolve technically.\n",
        "\n",
        "Low Cost, High Time: Operationally draining attacks (e.g., DDoS, spyware) – lower direct costs but cause long-lasting disruption.\n",
        "\n",
        "Relative Impact: Helps assess whether an attack’s biggest risk is financial loss or operational downtime."
      ]
    },
    {
      "cell_type": "markdown",
      "metadata": {
        "id": "pbVL-C8AuRKZ"
      },
      "source": [
        "### Chart - Correlation Heatmap"
      ]
    },
    {
      "cell_type": "code",
      "execution_count": 40,
      "metadata": {
        "id": "i3nzsoXvuRKa"
      },
      "outputs": [
        {
          "data": {
            "image/png": "[encoded data removed]",
            "text/plain": [
              "<Figure size 1000x600 with 2 Axes>"
            ]
          },
          "metadata": {},
          "output_type": "display_data"
        }
      ],
      "source": [
        "plt.figure(figsize=(10,6))\n",
        "corr = df[[\n",
        "    \"Financial Loss (in Million $)\",\n",
        "    \"Number of Affected Users\",\n",
        "    \"Incident Resolution Time (in Hours)\"\n",
        "]].corr()\n",
        "\n",
        "sns.heatmap(corr, annot=True, cmap=\"coolwarm\", fmt=\".2f\")\n",
        "plt.title(\"Correlation Heatmap: Loss, Users & Resolution Time\")\n",
        "plt.show()\n"
      ]
    },
    {
      "cell_type": "markdown",
      "metadata": {
        "id": "Z0Xh-D2IuRKc"
      },
      "source": [
        "##### What are the insight found from the chart?"
      ]
    },
    {
      "cell_type": "markdown",
      "metadata": {
        "id": "8h9aRqAZuRKc"
      },
      "source": [
        "This heatmap shows how the core metrics of cyber incidents—financial loss, affected users, and resolution time—are related. Correlation values range from -1 to +1, where higher positive values mean stronger relationships.\n",
        "\n",
        "Key Insights:\n",
        "\n",
        "Financial Loss vs. Affected Users:\n",
        "\n",
        "Strong positive → More users affected = higher cost (fines, recovery, brand damage).\n",
        "\n",
        "Weak correlation → Some costly attacks (like ransomware) may affect fewer users but still cause huge losses.\n",
        "\n",
        "Financial Loss vs. Resolution Time:\n",
        "\n",
        "Strong positive → Longer resolution means higher cost (downtime, investigation fees).\n",
        "\n",
        "Shows the value of fast incident response.\n",
        "\n",
        "Affected Users vs. Resolution Time:\n",
        "\n",
        "Strong positive → Larger-scale attacks take longer to contain and recover from.\n",
        "\n",
        "In short: The heatmap reveals how user impact, cost, and duration are connected, highlighting why fast detection and response are critical."
      ]
    },
    {
      "cell_type": "markdown",
      "metadata": {
        "id": "YvjQVPkJkc5T"
      },
      "source": [
        "### Chart - Financial Loss by Attack Type"
      ]
    },
    {
      "cell_type": "code",
      "execution_count": 41,
      "metadata": {
        "id": "iEk9xKi6j8ap"
      },
      "outputs": [
        {
          "data": {
            "application/vnd.plotly.v1+json": {
              "config": {
                "plotlyServerURL": "https://plot.ly"
              },
              "data": [
                {
                  "hovertemplate": "Attack Type=%{x}<br>Financial Loss (in Million $)=%{marker.color:.2f}<extra></extra>",
                  "legendgroup": "",
                  "marker": {
                    "color": {
                      "bdata": "FK5H4br72kDNzMzM/GfXQOF6FK63/9ZA9ihcj1IR2kCuR+F61OfXQHE9CtcjkdhA",
                      "dtype": "f8"
                    },
                    "coloraxis": "coloraxis",
                    "pattern": {
                      "shape": ""
                    }
                  },
                  "name": "",
                  "orientation": "v",
                  "showlegend": false,
                  "textposition": "auto",
                  "type": "bar",
                  "x": [
                    "DDoS",
                    "Malware",
                    "Man-in-the-Middle",
                    "Phishing",
                    "Ransomware",
                    "SQL Injection"
                  ],
                  "xaxis": "x",
                  "y": {
                    "bdata": "FK5H4br72kDNzMzM/GfXQOF6FK63/9ZA9ihcj1IR2kCuR+F61OfXQHE9CtcjkdhA",
                    "dtype": "f8"
                  },
                  "yaxis": "y"
                }
              ],
              "layout": {
                "barmode": "relative",
                "coloraxis": {
                  "colorbar": {
                    "title": {
                      "text": "Financial Loss (in Million $)"
                    }
                  },
                  "colorscale": [
                    [
                      0,
                      "#0d0887"
                    ],
                    [
                      0.1111111111111111,
                      "#46039f"
                    ],
                    [
                      0.2222222222222222,
                      "#7201a8"
                    ],
                    [
                      0.3333333333333333,
                      "#9c179e"
                    ],
                    [
                      0.4444444444444444,
                      "#bd3786"
                    ],
                    [
                      0.5555555555555556,
                      "#d8576b"
                    ],
                    [
                      0.6666666666666666,
                      "#ed7953"
                    ],
                    [
                      0.7777777777777778,
                      "#fb9f3a"
                    ],
                    [
                      0.8888888888888888,
                      "#fdca26"
                    ],
                    [
                      1,
                      "#f0f921"
                    ]
                  ]
                },
                "legend": {
                  "tracegroupgap": 0
                },
                "template": {
                  "data": {
                    "bar": [
                      {
                        "error_x": {
                          "color": "#2a3f5f"
                        },
                        "error_y": {
                          "color": "#2a3f5f"
                        },
                        "marker": {
                          "line": {
                            "color": "#E5ECF6",
                            "width": 0.5
                          },
                          "pattern": {
                            "fillmode": "overlay",
                            "size": 10,
                            "solidity": 0.2
                          }
                        },
                        "type": "bar"
                      }
                    ],
                    "barpolar": [
                      {
                        "marker": {
                          "line": {
                            "color": "#E5ECF6",
                            "width": 0.5
                          },
                          "pattern": {
                            "fillmode": "overlay",
                            "size": 10,
                            "solidity": 0.2
                          }
                        },
                        "type": "barpolar"
                      }
                    ],
                    "carpet": [
                      {
                        "aaxis": {
                          "endlinecolor": "#2a3f5f",
                          "gridcolor": "white",
                          "linecolor": "white",
                          "minorgridcolor": "white",
                          "startlinecolor": "#2a3f5f"
                        },
                        "baxis": {
                          "endlinecolor": "#2a3f5f",
                          "gridcolor": "white",
                          "linecolor": "white",
                          "minorgridcolor": "white",
                          "startlinecolor": "#2a3f5f"
                        },
                        "type": "carpet"
                      }
                    ],
                    "choropleth": [
                      {
                        "colorbar": {
                          "outlinewidth": 0,
                          "ticks": ""
                        },
                        "type": "choropleth"
                      }
                    ],
                    "contour": [
                      {
                        "colorbar": {
                          "outlinewidth": 0,
                          "ticks": ""
                        },
                        "colorscale": [
                          [
                            0,
                            "#0d0887"
                          ],
                          [
                            0.1111111111111111,
                            "#46039f"
                          ],
                          [
                            0.2222222222222222,
                            "#7201a8"
                          ],
                          [
                            0.3333333333333333,
                            "#9c179e"
                          ],
                          [
                            0.4444444444444444,
                            "#bd3786"
                          ],
                          [
                            0.5555555555555556,
                            "#d8576b"
                          ],
                          [
                            0.6666666666666666,
                            "#ed7953"
                          ],
                          [
                            0.7777777777777778,
                            "#fb9f3a"
                          ],
                          [
                            0.8888888888888888,
                            "#fdca26"
                          ],
                          [
                            1,
                            "#f0f921"
                          ]
                        ],
                        "type": "contour"
                      }
                    ],
                    "contourcarpet": [
                      {
                        "colorbar": {
                          "outlinewidth": 0,
                          "ticks": ""
                        },
                        "type": "contourcarpet"
                      }
                    ],
                    "heatmap": [
                      {
                        "colorbar": {
                          "outlinewidth": 0,
                          "ticks": ""
                        },
                        "colorscale": [
                          [
                            0,
                            "#0d0887"
                          ],
                          [
                            0.1111111111111111,
                            "#46039f"
                          ],
                          [
                            0.2222222222222222,
                            "#7201a8"
                          ],
                          [
                            0.3333333333333333,
                            "#9c179e"
                          ],
                          [
                            0.4444444444444444,
                            "#bd3786"
                          ],
                          [
                            0.5555555555555556,
                            "#d8576b"
                          ],
                          [
                            0.6666666666666666,
                            "#ed7953"
                          ],
                          [
                            0.7777777777777778,
                            "#fb9f3a"
                          ],
                          [
                            0.8888888888888888,
                            "#fdca26"
                          ],
                          [
                            1,
                            "#f0f921"
                          ]
                        ],
                        "type": "heatmap"
                      }
                    ],
                    "histogram": [
                      {
                        "marker": {
                          "pattern": {
                            "fillmode": "overlay",
                            "size": 10,
                            "solidity": 0.2
                          }
                        },
                        "type": "histogram"
                      }
                    ],
                    "histogram2d": [
                      {
                        "colorbar": {
                          "outlinewidth": 0,
                          "ticks": ""
                        },
                        "colorscale": [
                          [
                            0,
                            "#0d0887"
                          ],
                          [
                            0.1111111111111111,
                            "#46039f"
                          ],
                          [
                            0.2222222222222222,
                            "#7201a8"
                          ],
                          [
                            0.3333333333333333,
                            "#9c179e"
                          ],
                          [
                            0.4444444444444444,
                            "#bd3786"
                          ],
                          [
                            0.5555555555555556,
                            "#d8576b"
                          ],
                          [
                            0.6666666666666666,
                            "#ed7953"
                          ],
                          [
                            0.7777777777777778,
                            "#fb9f3a"
                          ],
                          [
                            0.8888888888888888,
                            "#fdca26"
                          ],
                          [
                            1,
                            "#f0f921"
                          ]
                        ],
                        "type": "histogram2d"
                      }
                    ],
                    "histogram2dcontour": [
                      {
                        "colorbar": {
                          "outlinewidth": 0,
                          "ticks": ""
                        },
                        "colorscale": [
                          [
                            0,
                            "#0d0887"
                          ],
                          [
                            0.1111111111111111,
                            "#46039f"
                          ],
                          [
                            0.2222222222222222,
                            "#7201a8"
                          ],
                          [
                            0.3333333333333333,
                            "#9c179e"
                          ],
                          [
                            0.4444444444444444,
                            "#bd3786"
                          ],
                          [
                            0.5555555555555556,
                            "#d8576b"
                          ],
                          [
                            0.6666666666666666,
                            "#ed7953"
                          ],
                          [
                            0.7777777777777778,
                            "#fb9f3a"
                          ],
                          [
                            0.8888888888888888,
                            "#fdca26"
                          ],
                          [
                            1,
                            "#f0f921"
                          ]
                        ],
                        "type": "histogram2dcontour"
                      }
                    ],
                    "mesh3d": [
                      {
                        "colorbar": {
                          "outlinewidth": 0,
                          "ticks": ""
                        },
                        "type": "mesh3d"
                      }
                    ],
                    "parcoords": [
                      {
                        "line": {
                          "colorbar": {
                            "outlinewidth": 0,
                            "ticks": ""
                          }
                        },
                        "type": "parcoords"
                      }
                    ],
                    "pie": [
                      {
                        "automargin": true,
                        "type": "pie"
                      }
                    ],
                    "scatter": [
                      {
                        "fillpattern": {
                          "fillmode": "overlay",
                          "size": 10,
                          "solidity": 0.2
                        },
                        "type": "scatter"
                      }
                    ],
                    "scatter3d": [
                      {
                        "line": {
                          "colorbar": {
                            "outlinewidth": 0,
                            "ticks": ""
                          }
                        },
                        "marker": {
                          "colorbar": {
                            "outlinewidth": 0,
                            "ticks": ""
                          }
                        },
                        "type": "scatter3d"
                      }
                    ],
                    "scattercarpet": [
                      {
                        "marker": {
                          "colorbar": {
                            "outlinewidth": 0,
                            "ticks": ""
                          }
                        },
                        "type": "scattercarpet"
                      }
                    ],
                    "scattergeo": [
                      {
                        "marker": {
                          "colorbar": {
                            "outlinewidth": 0,
                            "ticks": ""
                          }
                        },
                        "type": "scattergeo"
                      }
                    ],
                    "scattergl": [
                      {
                        "marker": {
                          "colorbar": {
                            "outlinewidth": 0,
                            "ticks": ""
                          }
                        },
                        "type": "scattergl"
                      }
                    ],
                    "scattermap": [
                      {
                        "marker": {
                          "colorbar": {
                            "outlinewidth": 0,
                            "ticks": ""
                          }
                        },
                        "type": "scattermap"
                      }
                    ],
                    "scattermapbox": [
                      {
                        "marker": {
                          "colorbar": {
                            "outlinewidth": 0,
                            "ticks": ""
                          }
                        },
                        "type": "scattermapbox"
                      }
                    ],
                    "scatterpolar": [
                      {
                        "marker": {
                          "colorbar": {
                            "outlinewidth": 0,
                            "ticks": ""
                          }
                        },
                        "type": "scatterpolar"
                      }
                    ],
                    "scatterpolargl": [
                      {
                        "marker": {
                          "colorbar": {
                            "outlinewidth": 0,
                            "ticks": ""
                          }
                        },
                        "type": "scatterpolargl"
                      }
                    ],
                    "scatterternary": [
                      {
                        "marker": {
                          "colorbar": {
                            "outlinewidth": 0,
                            "ticks": ""
                          }
                        },
                        "type": "scatterternary"
                      }
                    ],
                    "surface": [
                      {
                        "colorbar": {
                          "outlinewidth": 0,
                          "ticks": ""
                        },
                        "colorscale": [
                          [
                            0,
                            "#0d0887"
                          ],
                          [
                            0.1111111111111111,
                            "#46039f"
                          ],
                          [
                            0.2222222222222222,
                            "#7201a8"
                          ],
                          [
                            0.3333333333333333,
                            "#9c179e"
                          ],
                          [
                            0.4444444444444444,
                            "#bd3786"
                          ],
                          [
                            0.5555555555555556,
                            "#d8576b"
                          ],
                          [
                            0.6666666666666666,
                            "#ed7953"
                          ],
                          [
                            0.7777777777777778,
                            "#fb9f3a"
                          ],
                          [
                            0.8888888888888888,
                            "#fdca26"
                          ],
                          [
                            1,
                            "#f0f921"
                          ]
                        ],
                        "type": "surface"
                      }
                    ],
                    "table": [
                      {
                        "cells": {
                          "fill": {
                            "color": "#EBF0F8"
                          },
                          "line": {
                            "color": "white"
                          }
                        },
                        "header": {
                          "fill": {
                            "color": "#C8D4E3"
                          },
                          "line": {
                            "color": "white"
                          }
                        },
                        "type": "table"
                      }
                    ]
                  },
                  "layout": {
                    "annotationdefaults": {
                      "arrowcolor": "#2a3f5f",
                      "arrowhead": 0,
                      "arrowwidth": 1
                    },
                    "autotypenumbers": "strict",
                    "coloraxis": {
                      "colorbar": {
                        "outlinewidth": 0,
                        "ticks": ""
                      }
                    },
                    "colorscale": {
                      "diverging": [
                        [
                          0,
                          "#8e0152"
                        ],
                        [
                          0.1,
                          "#c51b7d"
                        ],
                        [
                          0.2,
                          "#de77ae"
                        ],
                        [
                          0.3,
                          "#f1b6da"
                        ],
                        [
                          0.4,
                          "#fde0ef"
                        ],
                        [
                          0.5,
                          "#f7f7f7"
                        ],
                        [
                          0.6,
                          "#e6f5d0"
                        ],
                        [
                          0.7,
                          "#b8e186"
                        ],
                        [
                          0.8,
                          "#7fbc41"
                        ],
                        [
                          0.9,
                          "#4d9221"
                        ],
                        [
                          1,
                          "#276419"
                        ]
                      ],
                      "sequential": [
                        [
                          0,
                          "#0d0887"
                        ],
                        [
                          0.1111111111111111,
                          "#46039f"
                        ],
                        [
                          0.2222222222222222,
                          "#7201a8"
                        ],
                        [
                          0.3333333333333333,
                          "#9c179e"
                        ],
                        [
                          0.4444444444444444,
                          "#bd3786"
                        ],
                        [
                          0.5555555555555556,
                          "#d8576b"
                        ],
                        [
                          0.6666666666666666,
                          "#ed7953"
                        ],
                        [
                          0.7777777777777778,
                          "#fb9f3a"
                        ],
                        [
                          0.8888888888888888,
                          "#fdca26"
                        ],
                        [
                          1,
                          "#f0f921"
                        ]
                      ],
                      "sequentialminus": [
                        [
                          0,
                          "#0d0887"
                        ],
                        [
                          0.1111111111111111,
                          "#46039f"
                        ],
                        [
                          0.2222222222222222,
                          "#7201a8"
                        ],
                        [
                          0.3333333333333333,
                          "#9c179e"
                        ],
                        [
                          0.4444444444444444,
                          "#bd3786"
                        ],
                        [
                          0.5555555555555556,
                          "#d8576b"
                        ],
                        [
                          0.6666666666666666,
                          "#ed7953"
                        ],
                        [
                          0.7777777777777778,
                          "#fb9f3a"
                        ],
                        [
                          0.8888888888888888,
                          "#fdca26"
                        ],
                        [
                          1,
                          "#f0f921"
                        ]
                      ]
                    },
                    "colorway": [
                      "#636efa",
                      "#EF553B",
                      "#00cc96",
                      "#ab63fa",
                      "#FFA15A",
                      "#19d3f3",
                      "#FF6692",
                      "#B6E880",
                      "#FF97FF",
                      "#FECB52"
                    ],
                    "font": {
                      "color": "#2a3f5f"
                    },
                    "geo": {
                      "bgcolor": "white",
                      "lakecolor": "white",
                      "landcolor": "#E5ECF6",
                      "showlakes": true,
                      "showland": true,
                      "subunitcolor": "white"
                    },
                    "hoverlabel": {
                      "align": "left"
                    },
                    "hovermode": "closest",
                    "mapbox": {
                      "style": "light"
                    },
                    "paper_bgcolor": "white",
                    "plot_bgcolor": "#E5ECF6",
                    "polar": {
                      "angularaxis": {
                        "gridcolor": "white",
                        "linecolor": "white",
                        "ticks": ""
                      },
                      "bgcolor": "#E5ECF6",
                      "radialaxis": {
                        "gridcolor": "white",
                        "linecolor": "white",
                        "ticks": ""
                      }
                    },
                    "scene": {
                      "xaxis": {
                        "backgroundcolor": "#E5ECF6",
                        "gridcolor": "white",
                        "gridwidth": 2,
                        "linecolor": "white",
                        "showbackground": true,
                        "ticks": "",
                        "zerolinecolor": "white"
                      },
                      "yaxis": {
                        "backgroundcolor": "#E5ECF6",
                        "gridcolor": "white",
                        "gridwidth": 2,
                        "linecolor": "white",
                        "showbackground": true,
                        "ticks": "",
                        "zerolinecolor": "white"
                      },
                      "zaxis": {
                        "backgroundcolor": "#E5ECF6",
                        "gridcolor": "white",
                        "gridwidth": 2,
                        "linecolor": "white",
                        "showbackground": true,
                        "ticks": "",
                        "zerolinecolor": "white"
                      }
                    },
                    "shapedefaults": {
                      "line": {
                        "color": "#2a3f5f"
                      }
                    },
                    "ternary": {
                      "aaxis": {
                        "gridcolor": "white",
                        "linecolor": "white",
                        "ticks": ""
                      },
                      "baxis": {
                        "gridcolor": "white",
                        "linecolor": "white",
                        "ticks": ""
                      },
                      "bgcolor": "#E5ECF6",
                      "caxis": {
                        "gridcolor": "white",
                        "linecolor": "white",
                        "ticks": ""
                      }
                    },
                    "title": {
                      "x": 0.05
                    },
                    "xaxis": {
                      "automargin": true,
                      "gridcolor": "white",
                      "linecolor": "white",
                      "ticks": "",
                      "title": {
                        "standoff": 15
                      },
                      "zerolinecolor": "white",
                      "zerolinewidth": 2
                    },
                    "yaxis": {
                      "automargin": true,
                      "gridcolor": "white",
                      "linecolor": "white",
                      "ticks": "",
                      "title": {
                        "standoff": 15
                      },
                      "zerolinecolor": "white",
                      "zerolinewidth": 2
                    }
                  }
                },
                "title": {
                  "text": "Total Financial Loss by Attack Type (2015-2024)"
                },
                "xaxis": {
                  "anchor": "y",
                  "domain": [
                    0,
                    1
                  ],
                  "title": {
                    "text": "Attack Type"
                  }
                },
                "yaxis": {
                  "anchor": "x",
                  "domain": [
                    0,
                    1
                  ],
                  "title": {
                    "text": "Financial Loss (in Million $)"
                  }
                }
              }
            }
          },
          "metadata": {},
          "output_type": "display_data"
        }
      ],
      "source": [
        "fig1 = px.bar(\n",
        "    df.groupby(\"Attack Type\")[\"Financial Loss (in Million $)\"].sum().reset_index(),\n",
        "    x=\"Attack Type\",\n",
        "    y=\"Financial Loss (in Million $)\",\n",
        "    title=\"Total Financial Loss by Attack Type (2015-2024)\",\n",
        "    hover_data={\"Financial Loss (in Million $)\":\":.2f\"},\n",
        "    color=\"Financial Loss (in Million $)\"\n",
        ")\n",
        "\n",
        "fig1.show()\n"
      ]
    },
    {
      "cell_type": "markdown",
      "metadata": {
        "id": "cbzQ7KI6lKAn"
      },
      "source": [
        "##### What are the insight found from the chart?"
      ]
    },
    {
      "cell_type": "markdown",
      "metadata": {
        "id": "1_qG9gk9lGwX"
      },
      "source": [
        "Costliest Attacks: The tallest bars show which attack types caused the highest financial losses.\n",
        "\n",
        "Comparison: Easy to see which attacks are more damaging (e.g., ransomware vs phishing).\n",
        "\n",
        "Risk Focus: Organizations should prioritize defenses against the top 2–3 most financially harmful attack types.\n",
        "\n",
        "In short: The chart reveals the most expensive attack types globally and helps in prioritizing cybersecurity efforts."
      ]
    },
    {
      "cell_type": "markdown",
      "metadata": {
        "id": "nDMfa4k2lO15"
      },
      "source": [
        "### Chart - Number of Attacks by Year"
      ]
    },
    {
      "cell_type": "code",
      "execution_count": 42,
      "metadata": {
        "id": "TUzfOEuglT7J"
      },
      "outputs": [
        {
          "data": {
            "application/vnd.plotly.v1+json": {
              "config": {
                "plotlyServerURL": "https://plot.ly"
              },
              "data": [
                {
                  "hovertemplate": "Year=%{x}<br>Number of Attacks=%{y}<extra></extra>",
                  "legendgroup": "",
                  "line": {
                    "color": "#636efa",
                    "dash": "solid"
                  },
                  "marker": {
                    "symbol": "circle"
                  },
                  "mode": "lines+markers",
                  "name": "",
                  "orientation": "v",
                  "showlegend": false,
                  "type": "scatter",
                  "x": {
                    "bdata": "3wfgB+EH4gfjB+QH5QfmB+cH6Ac=",
                    "dtype": "i2"
                  },
                  "xaxis": "x",
                  "y": {
                    "bdata": "FQEdAT8BNgEHATsBKwE+ATsBKwE=",
                    "dtype": "i2"
                  },
                  "yaxis": "y"
                }
              ],
              "layout": {
                "legend": {
                  "tracegroupgap": 0
                },
                "template": {
                  "data": {
                    "bar": [
                      {
                        "error_x": {
                          "color": "#2a3f5f"
                        },
                        "error_y": {
                          "color": "#2a3f5f"
                        },
                        "marker": {
                          "line": {
                            "color": "#E5ECF6",
                            "width": 0.5
                          },
                          "pattern": {
                            "fillmode": "overlay",
                            "size": 10,
                            "solidity": 0.2
                          }
                        },
                        "type": "bar"
                      }
                    ],
                    "barpolar": [
                      {
                        "marker": {
                          "line": {
                            "color": "#E5ECF6",
                            "width": 0.5
                          },
                          "pattern": {
                            "fillmode": "overlay",
                            "size": 10,
                            "solidity": 0.2
                          }
                        },
                        "type": "barpolar"
                      }
                    ],
                    "carpet": [
                      {
                        "aaxis": {
                          "endlinecolor": "#2a3f5f",
                          "gridcolor": "white",
                          "linecolor": "white",
                          "minorgridcolor": "white",
                          "startlinecolor": "#2a3f5f"
                        },
                        "baxis": {
                          "endlinecolor": "#2a3f5f",
                          "gridcolor": "white",
                          "linecolor": "white",
                          "minorgridcolor": "white",
                          "startlinecolor": "#2a3f5f"
                        },
                        "type": "carpet"
                      }
                    ],
                    "choropleth": [
                      {
                        "colorbar": {
                          "outlinewidth": 0,
                          "ticks": ""
                        },
                        "type": "choropleth"
                      }
                    ],
                    "contour": [
                      {
                        "colorbar": {
                          "outlinewidth": 0,
                          "ticks": ""
                        },
                        "colorscale": [
                          [
                            0,
                            "#0d0887"
                          ],
                          [
                            0.1111111111111111,
                            "#46039f"
                          ],
                          [
                            0.2222222222222222,
                            "#7201a8"
                          ],
                          [
                            0.3333333333333333,
                            "#9c179e"
                          ],
                          [
                            0.4444444444444444,
                            "#bd3786"
                          ],
                          [
                            0.5555555555555556,
                            "#d8576b"
                          ],
                          [
                            0.6666666666666666,
                            "#ed7953"
                          ],
                          [
                            0.7777777777777778,
                            "#fb9f3a"
                          ],
                          [
                            0.8888888888888888,
                            "#fdca26"
                          ],
                          [
                            1,
                            "#f0f921"
                          ]
                        ],
                        "type": "contour"
                      }
                    ],
                    "contourcarpet": [
                      {
                        "colorbar": {
                          "outlinewidth": 0,
                          "ticks": ""
                        },
                        "type": "contourcarpet"
                      }
                    ],
                    "heatmap": [
                      {
                        "colorbar": {
                          "outlinewidth": 0,
                          "ticks": ""
                        },
                        "colorscale": [
                          [
                            0,
                            "#0d0887"
                          ],
                          [
                            0.1111111111111111,
                            "#46039f"
                          ],
                          [
                            0.2222222222222222,
                            "#7201a8"
                          ],
                          [
                            0.3333333333333333,
                            "#9c179e"
                          ],
                          [
                            0.4444444444444444,
                            "#bd3786"
                          ],
                          [
                            0.5555555555555556,
                            "#d8576b"
                          ],
                          [
                            0.6666666666666666,
                            "#ed7953"
                          ],
                          [
                            0.7777777777777778,
                            "#fb9f3a"
                          ],
                          [
                            0.8888888888888888,
                            "#fdca26"
                          ],
                          [
                            1,
                            "#f0f921"
                          ]
                        ],
                        "type": "heatmap"
                      }
                    ],
                    "histogram": [
                      {
                        "marker": {
                          "pattern": {
                            "fillmode": "overlay",
                            "size": 10,
                            "solidity": 0.2
                          }
                        },
                        "type": "histogram"
                      }
                    ],
                    "histogram2d": [
                      {
                        "colorbar": {
                          "outlinewidth": 0,
                          "ticks": ""
                        },
                        "colorscale": [
                          [
                            0,
                            "#0d0887"
                          ],
                          [
                            0.1111111111111111,
                            "#46039f"
                          ],
                          [
                            0.2222222222222222,
                            "#7201a8"
                          ],
                          [
                            0.3333333333333333,
                            "#9c179e"
                          ],
                          [
                            0.4444444444444444,
                            "#bd3786"
                          ],
                          [
                            0.5555555555555556,
                            "#d8576b"
                          ],
                          [
                            0.6666666666666666,
                            "#ed7953"
                          ],
                          [
                            0.7777777777777778,
                            "#fb9f3a"
                          ],
                          [
                            0.8888888888888888,
                            "#fdca26"
                          ],
                          [
                            1,
                            "#f0f921"
                          ]
                        ],
                        "type": "histogram2d"
                      }
                    ],
                    "histogram2dcontour": [
                      {
                        "colorbar": {
                          "outlinewidth": 0,
                          "ticks": ""
                        },
                        "colorscale": [
                          [
                            0,
                            "#0d0887"
                          ],
                          [
                            0.1111111111111111,
                            "#46039f"
                          ],
                          [
                            0.2222222222222222,
                            "#7201a8"
                          ],
                          [
                            0.3333333333333333,
                            "#9c179e"
                          ],
                          [
                            0.4444444444444444,
                            "#bd3786"
                          ],
                          [
                            0.5555555555555556,
                            "#d8576b"
                          ],
                          [
                            0.6666666666666666,
                            "#ed7953"
                          ],
                          [
                            0.7777777777777778,
                            "#fb9f3a"
                          ],
                          [
                            0.8888888888888888,
                            "#fdca26"
                          ],
                          [
                            1,
                            "#f0f921"
                          ]
                        ],
                        "type": "histogram2dcontour"
                      }
                    ],
                    "mesh3d": [
                      {
                        "colorbar": {
                          "outlinewidth": 0,
                          "ticks": ""
                        },
                        "type": "mesh3d"
                      }
                    ],
                    "parcoords": [
                      {
                        "line": {
                          "colorbar": {
                            "outlinewidth": 0,
                            "ticks": ""
                          }
                        },
                        "type": "parcoords"
                      }
                    ],
                    "pie": [
                      {
                        "automargin": true,
                        "type": "pie"
                      }
                    ],
                    "scatter": [
                      {
                        "fillpattern": {
                          "fillmode": "overlay",
                          "size": 10,
                          "solidity": 0.2
                        },
                        "type": "scatter"
                      }
                    ],
                    "scatter3d": [
                      {
                        "line": {
                          "colorbar": {
                            "outlinewidth": 0,
                            "ticks": ""
                          }
                        },
                        "marker": {
                          "colorbar": {
                            "outlinewidth": 0,
                            "ticks": ""
                          }
                        },
                        "type": "scatter3d"
                      }
                    ],
                    "scattercarpet": [
                      {
                        "marker": {
                          "colorbar": {
                            "outlinewidth": 0,
                            "ticks": ""
                          }
                        },
                        "type": "scattercarpet"
                      }
                    ],
                    "scattergeo": [
                      {
                        "marker": {
                          "colorbar": {
                            "outlinewidth": 0,
                            "ticks": ""
                          }
                        },
                        "type": "scattergeo"
                      }
                    ],
                    "scattergl": [
                      {
                        "marker": {
                          "colorbar": {
                            "outlinewidth": 0,
                            "ticks": ""
                          }
                        },
                        "type": "scattergl"
                      }
                    ],
                    "scattermap": [
                      {
                        "marker": {
                          "colorbar": {
                            "outlinewidth": 0,
                            "ticks": ""
                          }
                        },
                        "type": "scattermap"
                      }
                    ],
                    "scattermapbox": [
                      {
                        "marker": {
                          "colorbar": {
                            "outlinewidth": 0,
                            "ticks": ""
                          }
                        },
                        "type": "scattermapbox"
                      }
                    ],
                    "scatterpolar": [
                      {
                        "marker": {
                          "colorbar": {
                            "outlinewidth": 0,
                            "ticks": ""
                          }
                        },
                        "type": "scatterpolar"
                      }
                    ],
                    "scatterpolargl": [
                      {
                        "marker": {
                          "colorbar": {
                            "outlinewidth": 0,
                            "ticks": ""
                          }
                        },
                        "type": "scatterpolargl"
                      }
                    ],
                    "scatterternary": [
                      {
                        "marker": {
                          "colorbar": {
                            "outlinewidth": 0,
                            "ticks": ""
                          }
                        },
                        "type": "scatterternary"
                      }
                    ],
                    "surface": [
                      {
                        "colorbar": {
                          "outlinewidth": 0,
                          "ticks": ""
                        },
                        "colorscale": [
                          [
                            0,
                            "#0d0887"
                          ],
                          [
                            0.1111111111111111,
                            "#46039f"
                          ],
                          [
                            0.2222222222222222,
                            "#7201a8"
                          ],
                          [
                            0.3333333333333333,
                            "#9c179e"
                          ],
                          [
                            0.4444444444444444,
                            "#bd3786"
                          ],
                          [
                            0.5555555555555556,
                            "#d8576b"
                          ],
                          [
                            0.6666666666666666,
                            "#ed7953"
                          ],
                          [
                            0.7777777777777778,
                            "#fb9f3a"
                          ],
                          [
                            0.8888888888888888,
                            "#fdca26"
                          ],
                          [
                            1,
                            "#f0f921"
                          ]
                        ],
                        "type": "surface"
                      }
                    ],
                    "table": [
                      {
                        "cells": {
                          "fill": {
                            "color": "#EBF0F8"
                          },
                          "line": {
                            "color": "white"
                          }
                        },
                        "header": {
                          "fill": {
                            "color": "#C8D4E3"
                          },
                          "line": {
                            "color": "white"
                          }
                        },
                        "type": "table"
                      }
                    ]
                  },
                  "layout": {
                    "annotationdefaults": {
                      "arrowcolor": "#2a3f5f",
                      "arrowhead": 0,
                      "arrowwidth": 1
                    },
                    "autotypenumbers": "strict",
                    "coloraxis": {
                      "colorbar": {
                        "outlinewidth": 0,
                        "ticks": ""
                      }
                    },
                    "colorscale": {
                      "diverging": [
                        [
                          0,
                          "#8e0152"
                        ],
                        [
                          0.1,
                          "#c51b7d"
                        ],
                        [
                          0.2,
                          "#de77ae"
                        ],
                        [
                          0.3,
                          "#f1b6da"
                        ],
                        [
                          0.4,
                          "#fde0ef"
                        ],
                        [
                          0.5,
                          "#f7f7f7"
                        ],
                        [
                          0.6,
                          "#e6f5d0"
                        ],
                        [
                          0.7,
                          "#b8e186"
                        ],
                        [
                          0.8,
                          "#7fbc41"
                        ],
                        [
                          0.9,
                          "#4d9221"
                        ],
                        [
                          1,
                          "#276419"
                        ]
                      ],
                      "sequential": [
                        [
                          0,
                          "#0d0887"
                        ],
                        [
                          0.1111111111111111,
                          "#46039f"
                        ],
                        [
                          0.2222222222222222,
                          "#7201a8"
                        ],
                        [
                          0.3333333333333333,
                          "#9c179e"
                        ],
                        [
                          0.4444444444444444,
                          "#bd3786"
                        ],
                        [
                          0.5555555555555556,
                          "#d8576b"
                        ],
                        [
                          0.6666666666666666,
                          "#ed7953"
                        ],
                        [
                          0.7777777777777778,
                          "#fb9f3a"
                        ],
                        [
                          0.8888888888888888,
                          "#fdca26"
                        ],
                        [
                          1,
                          "#f0f921"
                        ]
                      ],
                      "sequentialminus": [
                        [
                          0,
                          "#0d0887"
                        ],
                        [
                          0.1111111111111111,
                          "#46039f"
                        ],
                        [
                          0.2222222222222222,
                          "#7201a8"
                        ],
                        [
                          0.3333333333333333,
                          "#9c179e"
                        ],
                        [
                          0.4444444444444444,
                          "#bd3786"
                        ],
                        [
                          0.5555555555555556,
                          "#d8576b"
                        ],
                        [
                          0.6666666666666666,
                          "#ed7953"
                        ],
                        [
                          0.7777777777777778,
                          "#fb9f3a"
                        ],
                        [
                          0.8888888888888888,
                          "#fdca26"
                        ],
                        [
                          1,
                          "#f0f921"
                        ]
                      ]
                    },
                    "colorway": [
                      "#636efa",
                      "#EF553B",
                      "#00cc96",
                      "#ab63fa",
                      "#FFA15A",
                      "#19d3f3",
                      "#FF6692",
                      "#B6E880",
                      "#FF97FF",
                      "#FECB52"
                    ],
                    "font": {
                      "color": "#2a3f5f"
                    },
                    "geo": {
                      "bgcolor": "white",
                      "lakecolor": "white",
                      "landcolor": "#E5ECF6",
                      "showlakes": true,
                      "showland": true,
                      "subunitcolor": "white"
                    },
                    "hoverlabel": {
                      "align": "left"
                    },
                    "hovermode": "closest",
                    "mapbox": {
                      "style": "light"
                    },
                    "paper_bgcolor": "white",
                    "plot_bgcolor": "#E5ECF6",
                    "polar": {
                      "angularaxis": {
                        "gridcolor": "white",
                        "linecolor": "white",
                        "ticks": ""
                      },
                      "bgcolor": "#E5ECF6",
                      "radialaxis": {
                        "gridcolor": "white",
                        "linecolor": "white",
                        "ticks": ""
                      }
                    },
                    "scene": {
                      "xaxis": {
                        "backgroundcolor": "#E5ECF6",
                        "gridcolor": "white",
                        "gridwidth": 2,
                        "linecolor": "white",
                        "showbackground": true,
                        "ticks": "",
                        "zerolinecolor": "white"
                      },
                      "yaxis": {
                        "backgroundcolor": "#E5ECF6",
                        "gridcolor": "white",
                        "gridwidth": 2,
                        "linecolor": "white",
                        "showbackground": true,
                        "ticks": "",
                        "zerolinecolor": "white"
                      },
                      "zaxis": {
                        "backgroundcolor": "#E5ECF6",
                        "gridcolor": "white",
                        "gridwidth": 2,
                        "linecolor": "white",
                        "showbackground": true,
                        "ticks": "",
                        "zerolinecolor": "white"
                      }
                    },
                    "shapedefaults": {
                      "line": {
                        "color": "#2a3f5f"
                      }
                    },
                    "ternary": {
                      "aaxis": {
                        "gridcolor": "white",
                        "linecolor": "white",
                        "ticks": ""
                      },
                      "baxis": {
                        "gridcolor": "white",
                        "linecolor": "white",
                        "ticks": ""
                      },
                      "bgcolor": "#E5ECF6",
                      "caxis": {
                        "gridcolor": "white",
                        "linecolor": "white",
                        "ticks": ""
                      }
                    },
                    "title": {
                      "x": 0.05
                    },
                    "xaxis": {
                      "automargin": true,
                      "gridcolor": "white",
                      "linecolor": "white",
                      "ticks": "",
                      "title": {
                        "standoff": 15
                      },
                      "zerolinecolor": "white",
                      "zerolinewidth": 2
                    },
                    "yaxis": {
                      "automargin": true,
                      "gridcolor": "white",
                      "linecolor": "white",
                      "ticks": "",
                      "title": {
                        "standoff": 15
                      },
                      "zerolinecolor": "white",
                      "zerolinewidth": 2
                    }
                  }
                },
                "title": {
                  "text": "Cyber Attacks Over the Years"
                },
                "xaxis": {
                  "anchor": "y",
                  "domain": [
                    0,
                    1
                  ],
                  "title": {
                    "text": "Year"
                  }
                },
                "yaxis": {
                  "anchor": "x",
                  "domain": [
                    0,
                    1
                  ],
                  "title": {
                    "text": "Number of Attacks"
                  }
                }
              }
            }
          },
          "metadata": {},
          "output_type": "display_data"
        }
      ],
      "source": [
        "attacks_per_year = df.groupby(\"Year\").size().reset_index(name=\"Number of Attacks\")\n",
        "fig2 = px.line(\n",
        "    attacks_per_year,\n",
        "    x=\"Year\",\n",
        "    y=\"Number of Attacks\",\n",
        "    title=\"Cyber Attacks Over the Years\",\n",
        "    markers=True\n",
        ")\n",
        "\n",
        "fig2.show()"
      ]
    },
    {
      "cell_type": "markdown",
      "metadata": {
        "id": "GFh_gPaLlhfx"
      },
      "source": [
        "##### What are the insight found from the chart?"
      ]
    },
    {
      "cell_type": "markdown",
      "metadata": {
        "id": "KfQhm3yfliZz"
      },
      "source": [
        "Trend: Shows if cyberattacks are rising, falling, or fluctuating from 2015–2024.\n",
        "\n",
        "Peaks: High points = years with the most widespread attacks (often tied to global events).\n",
        "\n",
        "Comparison: Recent years usually show more attacks than early years → proving the threat landscape is worsening.\n",
        "\n",
        "In short: The chart highlights the growth and peak years of cyberattacks, showing how threats have intensified over time."
      ]
    },
    {
      "cell_type": "markdown",
      "metadata": {
        "id": "4kogs-Vml2AE"
      },
      "source": [
        "### Chart - Attack Type → Target Industry → Country\n"
      ]
    },
    {
      "cell_type": "code",
      "execution_count": 43,
      "metadata": {
        "id": "KfBDZRKal7vF"
      },
      "outputs": [
        {
          "data": {
            "application/vnd.plotly.v1+json": {
              "config": {
                "plotlyServerURL": "https://plot.ly"
              },
              "data": [
                {
                  "branchvalues": "total",
                  "customdata": {
                    "bdata": "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",
                    "dtype": "f8",
                    "shape": "468, 1"
                  },
                  "domain": {
                    "x": [
                      0,
                      1
                    ],
                    "y": [
                      0,
                      1
                    ]
                  },
                  "hovertemplate": "labels=%{label}<br>Financial Loss (in Million $)_sum=%{value}<br>parent=%{parent}<br>id=%{id}<br>Financial Loss (in Million $)=%{color:.2f}<extra></extra>",
                  "ids": [
                    "Phishing/Education/China",
                    "Ransomware/Retail/China",
                    "Man-in-the-Middle/IT/India",
                    "Ransomware/Telecommunications/UK",
                    "Man-in-the-Middle/IT/Germany",
                    "Man-in-the-Middle/Retail/Germany",
                    "DDoS/Telecommunications/Germany",
                    "SQL Injection/Government/France",
                    "Man-in-the-Middle/Banking/India",
                    "DDoS/Healthcare/UK",
                    "Phishing/Telecommunications/China",
                    "SQL Injection/Healthcare/China",
                    "Ransomware/Education/India",
                    "DDoS/Healthcare/France",
                    "DDoS/IT/France",
                    "Phishing/Banking/Australia",
                    "Man-in-the-Middle/Healthcare/Russia",
                    "DDoS/IT/India",
                    "Malware/Telecommunications/UK",
                    "Ransomware/Retail/Brazil",
                    "Ransomware/Education/France",
                    "DDoS/Government/India",
                    "Phishing/Telecommunications/Japan",
                    "DDoS/Telecommunications/Brazil",
                    "Phishing/Retail/China",
                    "Malware/Education/Japan",
                    "Ransomware/Banking/Japan",
                    "Malware/IT/France",
                    "DDoS/Government/Australia",
                    "SQL Injection/Education/UK",
                    "Malware/Telecommunications/France",
                    "SQL Injection/IT/India",
                    "Phishing/Banking/Japan",
                    "Phishing/Healthcare/Brazil",
                    "Phishing/Banking/Brazil",
                    "Man-in-the-Middle/Education/China",
                    "SQL Injection/Retail/Japan",
                    "DDoS/Retail/USA",
                    "DDoS/Education/Brazil",
                    "DDoS/Telecommunications/Russia",
                    "Man-in-the-Middle/Retail/UK",
                    "DDoS/IT/USA",
                    "DDoS/Banking/Australia",
                    "Malware/Healthcare/France",
                    "SQL Injection/Government/Australia",
                    "DDoS/Education/India",
                    "Malware/Government/Australia",
                    "Phishing/IT/UK",
                    "Phishing/Healthcare/France",
                    "Man-in-the-Middle/Education/India",
                    "DDoS/Banking/India",
                    "Malware/Healthcare/UK",
                    "DDoS/Healthcare/India",
                    "Phishing/Education/Australia",
                    "Phishing/Healthcare/India",
                    "Phishing/Government/China",
                    "Malware/Retail/UK",
                    "Malware/Education/China",
                    "DDoS/Banking/UK",
                    "Malware/Healthcare/Australia",
                    "Man-in-the-Middle/Education/Russia",
                    "DDoS/Banking/France",
                    "Phishing/Healthcare/China",
                    "DDoS/IT/Brazil",
                    "Ransomware/Telecommunications/USA",
                    "Phishing/Telecommunications/Brazil",
                    "Ransomware/Banking/Germany",
                    "Phishing/Telecommunications/Australia",
                    "Phishing/Banking/France",
                    "Ransomware/Education/USA",
                    "SQL Injection/Banking/Russia",
                    "Malware/Education/Brazil",
                    "Phishing/Government/France",
                    "Man-in-the-Middle/Healthcare/Germany",
                    "Malware/Banking/Japan",
                    "Malware/Government/France",
                    "Man-in-the-Middle/Banking/Japan",
                    "DDoS/Telecommunications/UK",
                    "DDoS/Retail/Brazil",
                    "SQL Injection/Education/India",
                    "SQL Injection/Healthcare/Australia",
                    "Man-in-the-Middle/Retail/France",
                    "Malware/Telecommunications/Australia",
                    "Ransomware/Banking/UK",
                    "Phishing/Healthcare/Germany",
                    "DDoS/Education/UK",
                    "Ransomware/Retail/India",
                    "Ransomware/IT/Japan",
                    "Malware/Banking/Australia",
                    "SQL Injection/IT/Japan",
                    "Malware/Retail/Brazil",
                    "Phishing/Banking/Germany",
                    "SQL Injection/Education/Germany",
                    "Man-in-the-Middle/IT/Brazil",
                    "Malware/Education/UK",
                    "DDoS/Banking/Brazil",
                    "DDoS/Healthcare/Japan",
                    "Malware/Telecommunications/Russia",
                    "Malware/Retail/USA",
                    "Man-in-the-Middle/Banking/Australia",
                    "Phishing/Government/UK",
                    "Ransomware/Telecommunications/China",
                    "Malware/IT/Russia",
                    "SQL Injection/Banking/UK",
                    "Malware/Retail/Russia",
                    "Ransomware/Banking/Russia",
                    "Malware/Banking/Russia",
                    "Malware/Government/Germany",
                    "Man-in-the-Middle/Healthcare/China",
                    "Phishing/IT/India",
                    "Malware/IT/China",
                    "Ransomware/Retail/France",
                    "Malware/Telecommunications/Japan",
                    "Malware/Education/France",
                    "SQL Injection/Telecommunications/USA",
                    "Man-in-the-Middle/Retail/Japan",
                    "SQL Injection/IT/UK",
                    "Man-in-the-Middle/Government/UK",
                    "SQL Injection/Healthcare/France",
                    "DDoS/Banking/Germany",
                    "Phishing/Education/USA",
                    "DDoS/IT/Germany",
                    "Man-in-the-Middle/Telecommunications/USA",
                    "DDoS/Retail/Australia",
                    "SQL Injection/Retail/France",
                    "Phishing/Retail/USA",
                    "Phishing/Banking/USA",
                    "SQL Injection/Retail/Brazil",
                    "Phishing/Telecommunications/India",
                    "Phishing/IT/Germany",
                    "Malware/Retail/Australia",
                    "SQL Injection/Healthcare/Japan",
                    "Ransomware/Education/Australia",
                    "SQL Injection/Telecommunications/Russia",
                    "Man-in-the-Middle/Government/Australia",
                    "SQL Injection/Government/UK",
                    "SQL Injection/Retail/Germany",
                    "DDoS/Healthcare/Russia",
                    "Ransomware/Education/Germany",
                    "Man-in-the-Middle/Education/USA",
                    "DDoS/Education/Japan",
                    "Ransomware/Government/Australia",
                    "Malware/Retail/China",
                    "Malware/Government/India",
                    "SQL Injection/Banking/Brazil",
                    "DDoS/IT/UK",
                    "SQL Injection/Banking/USA",
                    "SQL Injection/Healthcare/UK",
                    "Phishing/Government/Japan",
                    "Man-in-the-Middle/Healthcare/Australia",
                    "Malware/Education/Russia",
                    "Malware/Telecommunications/Brazil",
                    "Malware/Healthcare/Brazil",
                    "Man-in-the-Middle/Telecommunications/India",
                    "Man-in-the-Middle/Telecommunications/Australia",
                    "Man-in-the-Middle/Government/India",
                    "Phishing/Banking/Russia",
                    "Ransomware/Telecommunications/Russia",
                    "SQL Injection/Healthcare/Russia",
                    "Man-in-the-Middle/Retail/China",
                    "Phishing/Government/Germany",
                    "DDoS/Telecommunications/USA",
                    "Malware/Healthcare/USA",
                    "SQL Injection/Telecommunications/Japan",
                    "Man-in-the-Middle/Telecommunications/Russia",
                    "Phishing/Retail/UK",
                    "Phishing/Telecommunications/Germany",
                    "Phishing/Healthcare/UK",
                    "Malware/IT/Brazil",
                    "Malware/Banking/Germany",
                    "Phishing/Telecommunications/UK",
                    "Ransomware/Government/UK",
                    "Malware/Banking/Brazil",
                    "DDoS/Retail/China",
                    "DDoS/Telecommunications/Australia",
                    "Man-in-the-Middle/Banking/Brazil",
                    "Ransomware/Banking/France",
                    "Phishing/IT/Japan",
                    "Malware/IT/USA",
                    "Malware/Healthcare/Japan",
                    "Ransomware/IT/UK",
                    "Phishing/Retail/Australia",
                    "DDoS/Government/China",
                    "SQL Injection/Education/Brazil",
                    "Ransomware/IT/Germany",
                    "DDoS/Government/UK",
                    "DDoS/Government/Japan",
                    "Phishing/Banking/China",
                    "Malware/Telecommunications/India",
                    "Ransomware/Telecommunications/France",
                    "Malware/Healthcare/Germany",
                    "Ransomware/Healthcare/Brazil",
                    "Phishing/Education/Japan",
                    "Phishing/Education/Russia",
                    "Phishing/IT/Russia",
                    "Ransomware/Retail/Japan",
                    "SQL Injection/IT/France",
                    "SQL Injection/Healthcare/Brazil",
                    "Malware/Healthcare/Russia",
                    "Phishing/Retail/India",
                    "Man-in-the-Middle/Telecommunications/Germany",
                    "Malware/Healthcare/China",
                    "Ransomware/IT/China",
                    "Phishing/Retail/Russia",
                    "Phishing/Healthcare/Japan",
                    "Ransomware/Retail/Russia",
                    "Ransomware/Healthcare/Australia",
                    "Phishing/Retail/Germany",
                    "Malware/Telecommunications/USA",
                    "DDoS/Telecommunications/France",
                    "Man-in-the-Middle/Retail/Brazil",
                    "Man-in-the-Middle/Healthcare/India",
                    "DDoS/Banking/Japan",
                    "Phishing/IT/China",
                    "SQL Injection/Banking/Japan",
                    "DDoS/Telecommunications/India",
                    "Phishing/IT/Brazil",
                    "Man-in-the-Middle/Government/Brazil",
                    "SQL Injection/Education/Russia",
                    "Man-in-the-Middle/Healthcare/Japan",
                    "Malware/Healthcare/India",
                    "SQL Injection/IT/Brazil",
                    "Ransomware/IT/Brazil",
                    "Phishing/Telecommunications/Russia",
                    "Ransomware/Telecommunications/India",
                    "SQL Injection/Telecommunications/Brazil",
                    "Ransomware/IT/France",
                    "Ransomware/Healthcare/UK",
                    "Malware/Retail/India",
                    "Malware/Government/USA",
                    "Malware/Banking/China",
                    "SQL Injection/Telecommunications/UK",
                    "DDoS/Education/Australia",
                    "Man-in-the-Middle/Banking/China",
                    "Malware/IT/India",
                    "Malware/Government/UK",
                    "Phishing/Banking/UK",
                    "Man-in-the-Middle/Retail/India",
                    "Ransomware/Government/Brazil",
                    "Ransomware/Government/Russia",
                    "DDoS/Healthcare/China",
                    "SQL Injection/Government/India",
                    "SQL Injection/Telecommunications/Germany",
                    "SQL Injection/Banking/Germany",
                    "SQL Injection/Education/France",
                    "Man-in-the-Middle/Banking/Russia",
                    "DDoS/Government/USA",
                    "Man-in-the-Middle/Healthcare/UK",
                    "Man-in-the-Middle/Retail/Australia",
                    "Phishing/Education/UK",
                    "Phishing/Government/Australia",
                    "Phishing/Education/France",
                    "Man-in-the-Middle/IT/France",
                    "DDoS/Retail/UK",
                    "DDoS/Healthcare/Brazil",
                    "Ransomware/Retail/Australia",
                    "DDoS/Retail/Japan",
                    "SQL Injection/Banking/Australia",
                    "Man-in-the-Middle/IT/Russia",
                    "Man-in-the-Middle/IT/China",
                    "SQL Injection/IT/Germany",
                    "SQL Injection/Retail/India",
                    "SQL Injection/IT/Australia",
                    "Man-in-the-Middle/IT/Japan",
                    "Man-in-the-Middle/IT/USA",
                    "Malware/Banking/UK",
                    "DDoS/Government/France",
                    "SQL Injection/Government/USA",
                    "DDoS/Retail/Germany",
                    "Man-in-the-Middle/Banking/USA",
                    "Phishing/Education/Germany",
                    "Phishing/Retail/France",
                    "Ransomware/Education/Russia",
                    "DDoS/Healthcare/Australia",
                    "SQL Injection/IT/China",
                    "SQL Injection/Government/China",
                    "Malware/Education/Australia",
                    "Man-in-the-Middle/Telecommunications/China",
                    "DDoS/Government/Germany",
                    "SQL Injection/Telecommunications/Australia",
                    "SQL Injection/Retail/Australia",
                    "Malware/Retail/Japan",
                    "Ransomware/Banking/China",
                    "Ransomware/Banking/USA",
                    "Ransomware/Retail/UK",
                    "Ransomware/IT/USA",
                    "Malware/Education/India",
                    "DDoS/Government/Brazil",
                    "Phishing/IT/USA",
                    "Ransomware/Government/USA",
                    "SQL Injection/Education/USA",
                    "DDoS/Telecommunications/China",
                    "Ransomware/Retail/USA",
                    "DDoS/Banking/Russia",
                    "DDoS/IT/China",
                    "SQL Injection/Retail/USA",
                    "Malware/Government/Brazil",
                    "Ransomware/Healthcare/India",
                    "Man-in-the-Middle/Telecommunications/Japan",
                    "Ransomware/IT/Australia",
                    "Ransomware/Healthcare/Russia",
                    "Man-in-the-Middle/Banking/France",
                    "Man-in-the-Middle/Banking/Germany",
                    "Phishing/Retail/Brazil",
                    "Man-in-the-Middle/Telecommunications/Brazil",
                    "Malware/Telecommunications/China",
                    "Man-in-the-Middle/Education/UK",
                    "SQL Injection/Government/Germany",
                    "Malware/Retail/France",
                    "DDoS/Education/USA",
                    "DDoS/Government/Russia",
                    "SQL Injection/Banking/France",
                    "DDoS/Healthcare/USA",
                    "DDoS/IT/Australia",
                    "DDoS/Retail/India",
                    "Phishing/Retail/Japan",
                    "SQL Injection/Healthcare/USA",
                    "SQL Injection/Retail/UK",
                    "Man-in-the-Middle/IT/UK",
                    "Ransomware/Healthcare/China",
                    "Phishing/Telecommunications/USA",
                    "SQL Injection/Telecommunications/China",
                    "Phishing/Healthcare/Australia",
                    "Ransomware/IT/India",
                    "Ransomware/Government/China",
                    "Ransomware/Banking/India",
                    "Man-in-the-Middle/Government/Germany",
                    "Malware/Telecommunications/Germany",
                    "SQL Injection/Education/Australia",
                    "Ransomware/Healthcare/Japan",
                    "SQL Injection/Education/Japan",
                    "DDoS/Education/France",
                    "Ransomware/Telecommunications/Australia",
                    "Man-in-the-Middle/Retail/Russia",
                    "Ransomware/Education/China",
                    "DDoS/Education/China",
                    "Phishing/Banking/India",
                    "Man-in-the-Middle/Retail/USA",
                    "Ransomware/Education/Japan",
                    "Phishing/Government/USA",
                    "SQL Injection/Telecommunications/India",
                    "Man-in-the-Middle/Telecommunications/UK",
                    "Phishing/IT/France",
                    "Ransomware/Healthcare/France",
                    "Ransomware/Banking/Brazil",
                    "Man-in-the-Middle/Banking/UK",
                    "Malware/Banking/India",
                    "SQL Injection/Healthcare/India",
                    "Ransomware/Education/UK",
                    "Phishing/Government/Brazil",
                    "Phishing/Government/Russia",
                    "Phishing/Healthcare/USA",
                    "SQL Injection/Government/Russia",
                    "Man-in-the-Middle/Education/Brazil",
                    "DDoS/IT/Japan",
                    "SQL Injection/IT/USA",
                    "Malware/Education/USA",
                    "SQL Injection/Banking/India",
                    "Malware/Government/China",
                    "Ransomware/Healthcare/Germany",
                    "Ransomware/Healthcare/USA",
                    "SQL Injection/Government/Brazil",
                    "Man-in-the-Middle/Healthcare/France",
                    "DDoS/Banking/China",
                    "Man-in-the-Middle/Education/France",
                    "Man-in-the-Middle/Government/Japan",
                    "Man-in-the-Middle/Telecommunications/France",
                    "Man-in-the-Middle/IT/Australia",
                    "DDoS/Retail/Russia",
                    "SQL Injection/Government/Japan",
                    "Malware/IT/UK",
                    "Ransomware/IT/Russia",
                    "DDoS/Telecommunications/Japan",
                    "Malware/IT/Japan",
                    "Phishing/Education/India",
                    "DDoS/Education/Russia",
                    "Phishing/Telecommunications/France",
                    "Ransomware/Education/Brazil",
                    "Man-in-the-Middle/Government/Russia",
                    "DDoS/IT/Russia",
                    "Man-in-the-Middle/Healthcare/Brazil",
                    "SQL Injection/Telecommunications/France",
                    "Malware/Banking/France",
                    "SQL Injection/Healthcare/Germany",
                    "Phishing/Education/Brazil",
                    "DDoS/Healthcare/Germany",
                    "Ransomware/Telecommunications/Germany",
                    "Ransomware/Telecommunications/Brazil",
                    "Phishing/IT/Australia",
                    "DDoS/Retail/France",
                    "Ransomware/Retail/Germany",
                    "SQL Injection/Education/China",
                    "Phishing/Healthcare/Russia",
                    "Malware/Government/Russia",
                    "Man-in-the-Middle/Government/China",
                    "SQL Injection/Banking/China",
                    "Malware/IT/Germany",
                    "Malware/IT/Australia",
                    "Man-in-the-Middle/Government/USA",
                    "Ransomware/Banking/Australia",
                    "Man-in-the-Middle/Education/Japan",
                    "Man-in-the-Middle/Education/Germany",
                    "Malware/Retail/Germany",
                    "Ransomware/Government/India",
                    "DDoS/Banking/USA",
                    "Ransomware/Government/Japan",
                    "Ransomware/Government/Germany",
                    "Man-in-the-Middle/Education/Australia",
                    "Ransomware/Government/France",
                    "Man-in-the-Middle/Government/France",
                    "SQL Injection/Retail/Russia",
                    "SQL Injection/Retail/China",
                    "Malware/Banking/USA",
                    "Phishing/Government/India",
                    "SQL Injection/IT/Russia",
                    "Ransomware/Telecommunications/Japan",
                    "Man-in-the-Middle/Healthcare/USA",
                    "Malware/Government/Japan",
                    "Malware/Education/Germany",
                    "DDoS/Education/Germany",
                    "Phishing/Education",
                    "Ransomware/Retail",
                    "Man-in-the-Middle/IT",
                    "Ransomware/Telecommunications",
                    "Man-in-the-Middle/Retail",
                    "DDoS/Telecommunications",
                    "SQL Injection/Government",
                    "Man-in-the-Middle/Banking",
                    "DDoS/Healthcare",
                    "Phishing/Telecommunications",
                    "SQL Injection/Healthcare",
                    "Ransomware/Education",
                    "DDoS/IT",
                    "Phishing/Banking",
                    "Man-in-the-Middle/Healthcare",
                    "Malware/Telecommunications",
                    "DDoS/Government",
                    "Phishing/Retail",
                    "Malware/Education",
                    "Ransomware/Banking",
                    "Malware/IT",
                    "SQL Injection/Education",
                    "SQL Injection/IT",
                    "Phishing/Healthcare",
                    "Man-in-the-Middle/Education",
                    "SQL Injection/Retail",
                    "DDoS/Retail",
                    "DDoS/Education",
                    "DDoS/Banking",
                    "Malware/Healthcare",
                    "Malware/Government",
                    "Phishing/IT",
                    "Phishing/Government",
                    "Malware/Retail",
                    "SQL Injection/Banking",
                    "Malware/Banking",
                    "Ransomware/IT",
                    "SQL Injection/Telecommunications",
                    "Man-in-the-Middle/Government",
                    "Man-in-the-Middle/Telecommunications",
                    "Ransomware/Government",
                    "Ransomware/Healthcare",
                    "Phishing",
                    "Ransomware",
                    "Man-in-the-Middle",
                    "DDoS",
                    "SQL Injection",
                    "Malware"
                  ],
                  "labels": [
                    "China",
                    "China",
                    "India",
                    "UK",
                    "Germany",
                    "Germany",
                    "Germany",
                    "France",
                    "India",
                    "UK",
                    "China",
                    "China",
                    "India",
                    "France",
                    "France",
                    "Australia",
                    "Russia",
                    "India",
                    "UK",
                    "Brazil",
                    "France",
                    "India",
                    "Japan",
                    "Brazil",
                    "China",
                    "Japan",
                    "Japan",
                    "France",
                    "Australia",
                    "UK",
                    "France",
                    "India",
                    "Japan",
                    "Brazil",
                    "Brazil",
                    "China",
                    "Japan",
                    "USA",
                    "Brazil",
                    "Russia",
                    "UK",
                    "USA",
                    "Australia",
                    "France",
                    "Australia",
                    "India",
                    "Australia",
                    "UK",
                    "France",
                    "India",
                    "India",
                    "UK",
                    "India",
                    "Australia",
                    "India",
                    "China",
                    "UK",
                    "China",
                    "UK",
                    "Australia",
                    "Russia",
                    "France",
                    "China",
                    "Brazil",
                    "USA",
                    "Brazil",
                    "Germany",
                    "Australia",
                    "France",
                    "USA",
                    "Russia",
                    "Brazil",
                    "France",
                    "Germany",
                    "Japan",
                    "France",
                    "Japan",
                    "UK",
                    "Brazil",
                    "India",
                    "Australia",
                    "France",
                    "Australia",
                    "UK",
                    "Germany",
                    "UK",
                    "India",
                    "Japan",
                    "Australia",
                    "Japan",
                    "Brazil",
                    "Germany",
                    "Germany",
                    "Brazil",
                    "UK",
                    "Brazil",
                    "Japan",
                    "Russia",
                    "USA",
                    "Australia",
                    "UK",
                    "China",
                    "Russia",
                    "UK",
                    "Russia",
                    "Russia",
                    "Russia",
                    "Germany",
                    "China",
                    "India",
                    "China",
                    "France",
                    "Japan",
                    "France",
                    "USA",
                    "Japan",
                    "UK",
                    "UK",
                    "France",
                    "Germany",
                    "USA",
                    "Germany",
                    "USA",
                    "Australia",
                    "France",
                    "USA",
                    "USA",
                    "Brazil",
                    "India",
                    "Germany",
                    "Australia",
                    "Japan",
                    "Australia",
                    "Russia",
                    "Australia",
                    "UK",
                    "Germany",
                    "Russia",
                    "Germany",
                    "USA",
                    "Japan",
                    "Australia",
                    "China",
                    "India",
                    "Brazil",
                    "UK",
                    "USA",
                    "UK",
                    "Japan",
                    "Australia",
                    "Russia",
                    "Brazil",
                    "Brazil",
                    "India",
                    "Australia",
                    "India",
                    "Russia",
                    "Russia",
                    "Russia",
                    "China",
                    "Germany",
                    "USA",
                    "USA",
                    "Japan",
                    "Russia",
                    "UK",
                    "Germany",
                    "UK",
                    "Brazil",
                    "Germany",
                    "UK",
                    "UK",
                    "Brazil",
                    "China",
                    "Australia",
                    "Brazil",
                    "France",
                    "Japan",
                    "USA",
                    "Japan",
                    "UK",
                    "Australia",
                    "China",
                    "Brazil",
                    "Germany",
                    "UK",
                    "Japan",
                    "China",
                    "India",
                    "France",
                    "Germany",
                    "Brazil",
                    "Japan",
                    "Russia",
                    "Russia",
                    "Japan",
                    "France",
                    "Brazil",
                    "Russia",
                    "India",
                    "Germany",
                    "China",
                    "China",
                    "Russia",
                    "Japan",
                    "Russia",
                    "Australia",
                    "Germany",
                    "USA",
                    "France",
                    "Brazil",
                    "India",
                    "Japan",
                    "China",
                    "Japan",
                    "India",
                    "Brazil",
                    "Brazil",
                    "Russia",
                    "Japan",
                    "India",
                    "Brazil",
                    "Brazil",
                    "Russia",
                    "India",
                    "Brazil",
                    "France",
                    "UK",
                    "India",
                    "USA",
                    "China",
                    "UK",
                    "Australia",
                    "China",
                    "India",
                    "UK",
                    "UK",
                    "India",
                    "Brazil",
                    "Russia",
                    "China",
                    "India",
                    "Germany",
                    "Germany",
                    "France",
                    "Russia",
                    "USA",
                    "UK",
                    "Australia",
                    "UK",
                    "Australia",
                    "France",
                    "France",
                    "UK",
                    "Brazil",
                    "Australia",
                    "Japan",
                    "Australia",
                    "Russia",
                    "China",
                    "Germany",
                    "India",
                    "Australia",
                    "Japan",
                    "USA",
                    "UK",
                    "France",
                    "USA",
                    "Germany",
                    "USA",
                    "Germany",
                    "France",
                    "Russia",
                    "Australia",
                    "China",
                    "China",
                    "Australia",
                    "China",
                    "Germany",
                    "Australia",
                    "Australia",
                    "Japan",
                    "China",
                    "USA",
                    "UK",
                    "USA",
                    "India",
                    "Brazil",
                    "USA",
                    "USA",
                    "USA",
                    "China",
                    "USA",
                    "Russia",
                    "China",
                    "USA",
                    "Brazil",
                    "India",
                    "Japan",
                    "Australia",
                    "Russia",
                    "France",
                    "Germany",
                    "Brazil",
                    "Brazil",
                    "China",
                    "UK",
                    "Germany",
                    "France",
                    "USA",
                    "Russia",
                    "France",
                    "USA",
                    "Australia",
                    "India",
                    "Japan",
                    "USA",
                    "UK",
                    "UK",
                    "China",
                    "USA",
                    "China",
                    "Australia",
                    "India",
                    "China",
                    "India",
                    "Germany",
                    "Germany",
                    "Australia",
                    "Japan",
                    "Japan",
                    "France",
                    "Australia",
                    "Russia",
                    "China",
                    "China",
                    "India",
                    "USA",
                    "Japan",
                    "USA",
                    "India",
                    "UK",
                    "France",
                    "France",
                    "Brazil",
                    "UK",
                    "India",
                    "India",
                    "UK",
                    "Brazil",
                    "Russia",
                    "USA",
                    "Russia",
                    "Brazil",
                    "Japan",
                    "USA",
                    "USA",
                    "India",
                    "China",
                    "Germany",
                    "USA",
                    "Brazil",
                    "France",
                    "China",
                    "France",
                    "Japan",
                    "France",
                    "Australia",
                    "Russia",
                    "Japan",
                    "UK",
                    "Russia",
                    "Japan",
                    "Japan",
                    "India",
                    "Russia",
                    "France",
                    "Brazil",
                    "Russia",
                    "Russia",
                    "Brazil",
                    "France",
                    "France",
                    "Germany",
                    "Brazil",
                    "Germany",
                    "Germany",
                    "Brazil",
                    "Australia",
                    "France",
                    "Germany",
                    "China",
                    "Russia",
                    "Russia",
                    "China",
                    "China",
                    "Germany",
                    "Australia",
                    "USA",
                    "Australia",
                    "Japan",
                    "Germany",
                    "Germany",
                    "India",
                    "USA",
                    "Japan",
                    "Germany",
                    "Australia",
                    "France",
                    "France",
                    "Russia",
                    "China",
                    "USA",
                    "India",
                    "Russia",
                    "Japan",
                    "USA",
                    "Japan",
                    "Germany",
                    "Germany",
                    "Education",
                    "Retail",
                    "IT",
                    "Telecommunications",
                    "Retail",
                    "Telecommunications",
                    "Government",
                    "Banking",
                    "Healthcare",
                    "Telecommunications",
                    "Healthcare",
                    "Education",
                    "IT",
                    "Banking",
                    "Healthcare",
                    "Telecommunications",
                    "Government",
                    "Retail",
                    "Education",
                    "Banking",
                    "IT",
                    "Education",
                    "IT",
                    "Healthcare",
                    "Education",
                    "Retail",
                    "Retail",
                    "Education",
                    "Banking",
                    "Healthcare",
                    "Government",
                    "IT",
                    "Government",
                    "Retail",
                    "Banking",
                    "Banking",
                    "IT",
                    "Telecommunications",
                    "Government",
                    "Telecommunications",
                    "Government",
                    "Healthcare",
                    "Phishing",
                    "Ransomware",
                    "Man-in-the-Middle",
                    "DDoS",
                    "SQL Injection",
                    "Malware"
                  ],
                  "marker": {
                    "coloraxis": "coloraxis",
                    "colors": {
                      "bdata": "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",
                      "dtype": "f8"
                    }
                  },
                  "name": "",
                  "parents": [
                    "Phishing/Education",
                    "Ransomware/Retail",
                    "Man-in-the-Middle/IT",
                    "Ransomware/Telecommunications",
                    "Man-in-the-Middle/IT",
                    "Man-in-the-Middle/Retail",
                    "DDoS/Telecommunications",
                    "SQL Injection/Government",
                    "Man-in-the-Middle/Banking",
                    "DDoS/Healthcare",
                    "Phishing/Telecommunications",
                    "SQL Injection/Healthcare",
                    "Ransomware/Education",
                    "DDoS/Healthcare",
                    "DDoS/IT",
                    "Phishing/Banking",
                    "Man-in-the-Middle/Healthcare",
                    "DDoS/IT",
                    "Malware/Telecommunications",
                    "Ransomware/Retail",
                    "Ransomware/Education",
                    "DDoS/Government",
                    "Phishing/Telecommunications",
                    "DDoS/Telecommunications",
                    "Phishing/Retail",
                    "Malware/Education",
                    "Ransomware/Banking",
                    "Malware/IT",
                    "DDoS/Government",
                    "SQL Injection/Education",
                    "Malware/Telecommunications",
                    "SQL Injection/IT",
                    "Phishing/Banking",
                    "Phishing/Healthcare",
                    "Phishing/Banking",
                    "Man-in-the-Middle/Education",
                    "SQL Injection/Retail",
                    "DDoS/Retail",
                    "DDoS/Education",
                    "DDoS/Telecommunications",
                    "Man-in-the-Middle/Retail",
                    "DDoS/IT",
                    "DDoS/Banking",
                    "Malware/Healthcare",
                    "SQL Injection/Government",
                    "DDoS/Education",
                    "Malware/Government",
                    "Phishing/IT",
                    "Phishing/Healthcare",
                    "Man-in-the-Middle/Education",
                    "DDoS/Banking",
                    "Malware/Healthcare",
                    "DDoS/Healthcare",
                    "Phishing/Education",
                    "Phishing/Healthcare",
                    "Phishing/Government",
                    "Malware/Retail",
                    "Malware/Education",
                    "DDoS/Banking",
                    "Malware/Healthcare",
                    "Man-in-the-Middle/Education",
                    "DDoS/Banking",
                    "Phishing/Healthcare",
                    "DDoS/IT",
                    "Ransomware/Telecommunications",
                    "Phishing/Telecommunications",
                    "Ransomware/Banking",
                    "Phishing/Telecommunications",
                    "Phishing/Banking",
                    "Ransomware/Education",
                    "SQL Injection/Banking",
                    "Malware/Education",
                    "Phishing/Government",
                    "Man-in-the-Middle/Healthcare",
                    "Malware/Banking",
                    "Malware/Government",
                    "Man-in-the-Middle/Banking",
                    "DDoS/Telecommunications",
                    "DDoS/Retail",
                    "SQL Injection/Education",
                    "SQL Injection/Healthcare",
                    "Man-in-the-Middle/Retail",
                    "Malware/Telecommunications",
                    "Ransomware/Banking",
                    "Phishing/Healthcare",
                    "DDoS/Education",
                    "Ransomware/Retail",
                    "Ransomware/IT",
                    "Malware/Banking",
                    "SQL Injection/IT",
                    "Malware/Retail",
                    "Phishing/Banking",
                    "SQL Injection/Education",
                    "Man-in-the-Middle/IT",
                    "Malware/Education",
                    "DDoS/Banking",
                    "DDoS/Healthcare",
                    "Malware/Telecommunications",
                    "Malware/Retail",
                    "Man-in-the-Middle/Banking",
                    "Phishing/Government",
                    "Ransomware/Telecommunications",
                    "Malware/IT",
                    "SQL Injection/Banking",
                    "Malware/Retail",
                    "Ransomware/Banking",
                    "Malware/Banking",
                    "Malware/Government",
                    "Man-in-the-Middle/Healthcare",
                    "Phishing/IT",
                    "Malware/IT",
                    "Ransomware/Retail",
                    "Malware/Telecommunications",
                    "Malware/Education",
                    "SQL Injection/Telecommunications",
                    "Man-in-the-Middle/Retail",
                    "SQL Injection/IT",
                    "Man-in-the-Middle/Government",
                    "SQL Injection/Healthcare",
                    "DDoS/Banking",
                    "Phishing/Education",
                    "DDoS/IT",
                    "Man-in-the-Middle/Telecommunications",
                    "DDoS/Retail",
                    "SQL Injection/Retail",
                    "Phishing/Retail",
                    "Phishing/Banking",
                    "SQL Injection/Retail",
                    "Phishing/Telecommunications",
                    "Phishing/IT",
                    "Malware/Retail",
                    "SQL Injection/Healthcare",
                    "Ransomware/Education",
                    "SQL Injection/Telecommunications",
                    "Man-in-the-Middle/Government",
                    "SQL Injection/Government",
                    "SQL Injection/Retail",
                    "DDoS/Healthcare",
                    "Ransomware/Education",
                    "Man-in-the-Middle/Education",
                    "DDoS/Education",
                    "Ransomware/Government",
                    "Malware/Retail",
                    "Malware/Government",
                    "SQL Injection/Banking",
                    "DDoS/IT",
                    "SQL Injection/Banking",
                    "SQL Injection/Healthcare",
                    "Phishing/Government",
                    "Man-in-the-Middle/Healthcare",
                    "Malware/Education",
                    "Malware/Telecommunications",
                    "Malware/Healthcare",
                    "Man-in-the-Middle/Telecommunications",
                    "Man-in-the-Middle/Telecommunications",
                    "Man-in-the-Middle/Government",
                    "Phishing/Banking",
                    "Ransomware/Telecommunications",
                    "SQL Injection/Healthcare",
                    "Man-in-the-Middle/Retail",
                    "Phishing/Government",
                    "DDoS/Telecommunications",
                    "Malware/Healthcare",
                    "SQL Injection/Telecommunications",
                    "Man-in-the-Middle/Telecommunications",
                    "Phishing/Retail",
                    "Phishing/Telecommunications",
                    "Phishing/Healthcare",
                    "Malware/IT",
                    "Malware/Banking",
                    "Phishing/Telecommunications",
                    "Ransomware/Government",
                    "Malware/Banking",
                    "DDoS/Retail",
                    "DDoS/Telecommunications",
                    "Man-in-the-Middle/Banking",
                    "Ransomware/Banking",
                    "Phishing/IT",
                    "Malware/IT",
                    "Malware/Healthcare",
                    "Ransomware/IT",
                    "Phishing/Retail",
                    "DDoS/Government",
                    "SQL Injection/Education",
                    "Ransomware/IT",
                    "DDoS/Government",
                    "DDoS/Government",
                    "Phishing/Banking",
                    "Malware/Telecommunications",
                    "Ransomware/Telecommunications",
                    "Malware/Healthcare",
                    "Ransomware/Healthcare",
                    "Phishing/Education",
                    "Phishing/Education",
                    "Phishing/IT",
                    "Ransomware/Retail",
                    "SQL Injection/IT",
                    "SQL Injection/Healthcare",
                    "Malware/Healthcare",
                    "Phishing/Retail",
                    "Man-in-the-Middle/Telecommunications",
                    "Malware/Healthcare",
                    "Ransomware/IT",
                    "Phishing/Retail",
                    "Phishing/Healthcare",
                    "Ransomware/Retail",
                    "Ransomware/Healthcare",
                    "Phishing/Retail",
                    "Malware/Telecommunications",
                    "DDoS/Telecommunications",
                    "Man-in-the-Middle/Retail",
                    "Man-in-the-Middle/Healthcare",
                    "DDoS/Banking",
                    "Phishing/IT",
                    "SQL Injection/Banking",
                    "DDoS/Telecommunications",
                    "Phishing/IT",
                    "Man-in-the-Middle/Government",
                    "SQL Injection/Education",
                    "Man-in-the-Middle/Healthcare",
                    "Malware/Healthcare",
                    "SQL Injection/IT",
                    "Ransomware/IT",
                    "Phishing/Telecommunications",
                    "Ransomware/Telecommunications",
                    "SQL Injection/Telecommunications",
                    "Ransomware/IT",
                    "Ransomware/Healthcare",
                    "Malware/Retail",
                    "Malware/Government",
                    "Malware/Banking",
                    "SQL Injection/Telecommunications",
                    "DDoS/Education",
                    "Man-in-the-Middle/Banking",
                    "Malware/IT",
                    "Malware/Government",
                    "Phishing/Banking",
                    "Man-in-the-Middle/Retail",
                    "Ransomware/Government",
                    "Ransomware/Government",
                    "DDoS/Healthcare",
                    "SQL Injection/Government",
                    "SQL Injection/Telecommunications",
                    "SQL Injection/Banking",
                    "SQL Injection/Education",
                    "Man-in-the-Middle/Banking",
                    "DDoS/Government",
                    "Man-in-the-Middle/Healthcare",
                    "Man-in-the-Middle/Retail",
                    "Phishing/Education",
                    "Phishing/Government",
                    "Phishing/Education",
                    "Man-in-the-Middle/IT",
                    "DDoS/Retail",
                    "DDoS/Healthcare",
                    "Ransomware/Retail",
                    "DDoS/Retail",
                    "SQL Injection/Banking",
                    "Man-in-the-Middle/IT",
                    "Man-in-the-Middle/IT",
                    "SQL Injection/IT",
                    "SQL Injection/Retail",
                    "SQL Injection/IT",
                    "Man-in-the-Middle/IT",
                    "Man-in-the-Middle/IT",
                    "Malware/Banking",
                    "DDoS/Government",
                    "SQL Injection/Government",
                    "DDoS/Retail",
                    "Man-in-the-Middle/Banking",
                    "Phishing/Education",
                    "Phishing/Retail",
                    "Ransomware/Education",
                    "DDoS/Healthcare",
                    "SQL Injection/IT",
                    "SQL Injection/Government",
                    "Malware/Education",
                    "Man-in-the-Middle/Telecommunications",
                    "DDoS/Government",
                    "SQL Injection/Telecommunications",
                    "SQL Injection/Retail",
                    "Malware/Retail",
                    "Ransomware/Banking",
                    "Ransomware/Banking",
                    "Ransomware/Retail",
                    "Ransomware/IT",
                    "Malware/Education",
                    "DDoS/Government",
                    "Phishing/IT",
                    "Ransomware/Government",
                    "SQL Injection/Education",
                    "DDoS/Telecommunications",
                    "Ransomware/Retail",
                    "DDoS/Banking",
                    "DDoS/IT",
                    "SQL Injection/Retail",
                    "Malware/Government",
                    "Ransomware/Healthcare",
                    "Man-in-the-Middle/Telecommunications",
                    "Ransomware/IT",
                    "Ransomware/Healthcare",
                    "Man-in-the-Middle/Banking",
                    "Man-in-the-Middle/Banking",
                    "Phishing/Retail",
                    "Man-in-the-Middle/Telecommunications",
                    "Malware/Telecommunications",
                    "Man-in-the-Middle/Education",
                    "SQL Injection/Government",
                    "Malware/Retail",
                    "DDoS/Education",
                    "DDoS/Government",
                    "SQL Injection/Banking",
                    "DDoS/Healthcare",
                    "DDoS/IT",
                    "DDoS/Retail",
                    "Phishing/Retail",
                    "SQL Injection/Healthcare",
                    "SQL Injection/Retail",
                    "Man-in-the-Middle/IT",
                    "Ransomware/Healthcare",
                    "Phishing/Telecommunications",
                    "SQL Injection/Telecommunications",
                    "Phishing/Healthcare",
                    "Ransomware/IT",
                    "Ransomware/Government",
                    "Ransomware/Banking",
                    "Man-in-the-Middle/Government",
                    "Malware/Telecommunications",
                    "SQL Injection/Education",
                    "Ransomware/Healthcare",
                    "SQL Injection/Education",
                    "DDoS/Education",
                    "Ransomware/Telecommunications",
                    "Man-in-the-Middle/Retail",
                    "Ransomware/Education",
                    "DDoS/Education",
                    "Phishing/Banking",
                    "Man-in-the-Middle/Retail",
                    "Ransomware/Education",
                    "Phishing/Government",
                    "SQL Injection/Telecommunications",
                    "Man-in-the-Middle/Telecommunications",
                    "Phishing/IT",
                    "Ransomware/Healthcare",
                    "Ransomware/Banking",
                    "Man-in-the-Middle/Banking",
                    "Malware/Banking",
                    "SQL Injection/Healthcare",
                    "Ransomware/Education",
                    "Phishing/Government",
                    "Phishing/Government",
                    "Phishing/Healthcare",
                    "SQL Injection/Government",
                    "Man-in-the-Middle/Education",
                    "DDoS/IT",
                    "SQL Injection/IT",
                    "Malware/Education",
                    "SQL Injection/Banking",
                    "Malware/Government",
                    "Ransomware/Healthcare",
                    "Ransomware/Healthcare",
                    "SQL Injection/Government",
                    "Man-in-the-Middle/Healthcare",
                    "DDoS/Banking",
                    "Man-in-the-Middle/Education",
                    "Man-in-the-Middle/Government",
                    "Man-in-the-Middle/Telecommunications",
                    "Man-in-the-Middle/IT",
                    "DDoS/Retail",
                    "SQL Injection/Government",
                    "Malware/IT",
                    "Ransomware/IT",
                    "DDoS/Telecommunications",
                    "Malware/IT",
                    "Phishing/Education",
                    "DDoS/Education",
                    "Phishing/Telecommunications",
                    "Ransomware/Education",
                    "Man-in-the-Middle/Government",
                    "DDoS/IT",
                    "Man-in-the-Middle/Healthcare",
                    "SQL Injection/Telecommunications",
                    "Malware/Banking",
                    "SQL Injection/Healthcare",
                    "Phishing/Education",
                    "DDoS/Healthcare",
                    "Ransomware/Telecommunications",
                    "Ransomware/Telecommunications",
                    "Phishing/IT",
                    "DDoS/Retail",
                    "Ransomware/Retail",
                    "SQL Injection/Education",
                    "Phishing/Healthcare",
                    "Malware/Government",
                    "Man-in-the-Middle/Government",
                    "SQL Injection/Banking",
                    "Malware/IT",
                    "Malware/IT",
                    "Man-in-the-Middle/Government",
                    "Ransomware/Banking",
                    "Man-in-the-Middle/Education",
                    "Man-in-the-Middle/Education",
                    "Malware/Retail",
                    "Ransomware/Government",
                    "DDoS/Banking",
                    "Ransomware/Government",
                    "Ransomware/Government",
                    "Man-in-the-Middle/Education",
                    "Ransomware/Government",
                    "Man-in-the-Middle/Government",
                    "SQL Injection/Retail",
                    "SQL Injection/Retail",
                    "Malware/Banking",
                    "Phishing/Government",
                    "SQL Injection/IT",
                    "Ransomware/Telecommunications",
                    "Man-in-the-Middle/Healthcare",
                    "Malware/Government",
                    "Malware/Education",
                    "DDoS/Education",
                    "Phishing",
                    "Ransomware",
                    "Man-in-the-Middle",
                    "Ransomware",
                    "Man-in-the-Middle",
                    "DDoS",
                    "SQL Injection",
                    "Man-in-the-Middle",
                    "DDoS",
                    "Phishing",
                    "SQL Injection",
                    "Ransomware",
                    "DDoS",
                    "Phishing",
                    "Man-in-the-Middle",
                    "Malware",
                    "DDoS",
                    "Phishing",
                    "Malware",
                    "Ransomware",
                    "Malware",
                    "SQL Injection",
                    "SQL Injection",
                    "Phishing",
                    "Man-in-the-Middle",
                    "SQL Injection",
                    "DDoS",
                    "DDoS",
                    "DDoS",
                    "Malware",
                    "Malware",
                    "Phishing",
                    "Phishing",
                    "Malware",
                    "SQL Injection",
                    "Malware",
                    "Ransomware",
                    "SQL Injection",
                    "Man-in-the-Middle",
                    "Man-in-the-Middle",
                    "Ransomware",
                    "Ransomware",
                    "",
                    "",
                    "",
                    "",
                    "",
                    ""
                  ],
                  "type": "sunburst",
                  "values": {
                    "bdata": "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",
                    "dtype": "f8"
                  }
                }
              ],
              "layout": {
                "coloraxis": {
                  "colorbar": {
                    "title": {
                      "text": "Financial Loss (in Million $)"
                    }
                  },
                  "colorscale": [
                    [
                      0,
                      "#0d0887"
                    ],
                    [
                      0.1111111111111111,
                      "#46039f"
                    ],
                    [
                      0.2222222222222222,
                      "#7201a8"
                    ],
                    [
                      0.3333333333333333,
                      "#9c179e"
                    ],
                    [
                      0.4444444444444444,
                      "#bd3786"
                    ],
                    [
                      0.5555555555555556,
                      "#d8576b"
                    ],
                    [
                      0.6666666666666666,
                      "#ed7953"
                    ],
                    [
                      0.7777777777777778,
                      "#fb9f3a"
                    ],
                    [
                      0.8888888888888888,
                      "#fdca26"
                    ],
                    [
                      1,
                      "#f0f921"
                    ]
                  ]
                },
                "legend": {
                  "tracegroupgap": 0
                },
                "template": {
                  "data": {
                    "bar": [
                      {
                        "error_x": {
                          "color": "#2a3f5f"
                        },
                        "error_y": {
                          "color": "#2a3f5f"
                        },
                        "marker": {
                          "line": {
                            "color": "#E5ECF6",
                            "width": 0.5
                          },
                          "pattern": {
                            "fillmode": "overlay",
                            "size": 10,
                            "solidity": 0.2
                          }
                        },
                        "type": "bar"
                      }
                    ],
                    "barpolar": [
                      {
                        "marker": {
                          "line": {
                            "color": "#E5ECF6",
                            "width": 0.5
                          },
                          "pattern": {
                            "fillmode": "overlay",
                            "size": 10,
                            "solidity": 0.2
                          }
                        },
                        "type": "barpolar"
                      }
                    ],
                    "carpet": [
                      {
                        "aaxis": {
                          "endlinecolor": "#2a3f5f",
                          "gridcolor": "white",
                          "linecolor": "white",
                          "minorgridcolor": "white",
                          "startlinecolor": "#2a3f5f"
                        },
                        "baxis": {
                          "endlinecolor": "#2a3f5f",
                          "gridcolor": "white",
                          "linecolor": "white",
                          "minorgridcolor": "white",
                          "startlinecolor": "#2a3f5f"
                        },
                        "type": "carpet"
                      }
                    ],
                    "choropleth": [
                      {
                        "colorbar": {
                          "outlinewidth": 0,
                          "ticks": ""
                        },
                        "type": "choropleth"
                      }
                    ],
                    "contour": [
                      {
                        "colorbar": {
                          "outlinewidth": 0,
                          "ticks": ""
                        },
                        "colorscale": [
                          [
                            0,
                            "#0d0887"
                          ],
                          [
                            0.1111111111111111,
                            "#46039f"
                          ],
                          [
                            0.2222222222222222,
                            "#7201a8"
                          ],
                          [
                            0.3333333333333333,
                            "#9c179e"
                          ],
                          [
                            0.4444444444444444,
                            "#bd3786"
                          ],
                          [
                            0.5555555555555556,
                            "#d8576b"
                          ],
                          [
                            0.6666666666666666,
                            "#ed7953"
                          ],
                          [
                            0.7777777777777778,
                            "#fb9f3a"
                          ],
                          [
                            0.8888888888888888,
                            "#fdca26"
                          ],
                          [
                            1,
                            "#f0f921"
                          ]
                        ],
                        "type": "contour"
                      }
                    ],
                    "contourcarpet": [
                      {
                        "colorbar": {
                          "outlinewidth": 0,
                          "ticks": ""
                        },
                        "type": "contourcarpet"
                      }
                    ],
                    "heatmap": [
                      {
                        "colorbar": {
                          "outlinewidth": 0,
                          "ticks": ""
                        },
                        "colorscale": [
                          [
                            0,
                            "#0d0887"
                          ],
                          [
                            0.1111111111111111,
                            "#46039f"
                          ],
                          [
                            0.2222222222222222,
                            "#7201a8"
                          ],
                          [
                            0.3333333333333333,
                            "#9c179e"
                          ],
                          [
                            0.4444444444444444,
                            "#bd3786"
                          ],
                          [
                            0.5555555555555556,
                            "#d8576b"
                          ],
                          [
                            0.6666666666666666,
                            "#ed7953"
                          ],
                          [
                            0.7777777777777778,
                            "#fb9f3a"
                          ],
                          [
                            0.8888888888888888,
                            "#fdca26"
                          ],
                          [
                            1,
                            "#f0f921"
                          ]
                        ],
                        "type": "heatmap"
                      }
                    ],
                    "histogram": [
                      {
                        "marker": {
                          "pattern": {
                            "fillmode": "overlay",
                            "size": 10,
                            "solidity": 0.2
                          }
                        },
                        "type": "histogram"
                      }
                    ],
                    "histogram2d": [
                      {
                        "colorbar": {
                          "outlinewidth": 0,
                          "ticks": ""
                        },
                        "colorscale": [
                          [
                            0,
                            "#0d0887"
                          ],
                          [
                            0.1111111111111111,
                            "#46039f"
                          ],
                          [
                            0.2222222222222222,
                            "#7201a8"
                          ],
                          [
                            0.3333333333333333,
                            "#9c179e"
                          ],
                          [
                            0.4444444444444444,
                            "#bd3786"
                          ],
                          [
                            0.5555555555555556,
                            "#d8576b"
                          ],
                          [
                            0.6666666666666666,
                            "#ed7953"
                          ],
                          [
                            0.7777777777777778,
                            "#fb9f3a"
                          ],
                          [
                            0.8888888888888888,
                            "#fdca26"
                          ],
                          [
                            1,
                            "#f0f921"
                          ]
                        ],
                        "type": "histogram2d"
                      }
                    ],
                    "histogram2dcontour": [
                      {
                        "colorbar": {
                          "outlinewidth": 0,
                          "ticks": ""
                        },
                        "colorscale": [
                          [
                            0,
                            "#0d0887"
                          ],
                          [
                            0.1111111111111111,
                            "#46039f"
                          ],
                          [
                            0.2222222222222222,
                            "#7201a8"
                          ],
                          [
                            0.3333333333333333,
                            "#9c179e"
                          ],
                          [
                            0.4444444444444444,
                            "#bd3786"
                          ],
                          [
                            0.5555555555555556,
                            "#d8576b"
                          ],
                          [
                            0.6666666666666666,
                            "#ed7953"
                          ],
                          [
                            0.7777777777777778,
                            "#fb9f3a"
                          ],
                          [
                            0.8888888888888888,
                            "#fdca26"
                          ],
                          [
                            1,
                            "#f0f921"
                          ]
                        ],
                        "type": "histogram2dcontour"
                      }
                    ],
                    "mesh3d": [
                      {
                        "colorbar": {
                          "outlinewidth": 0,
                          "ticks": ""
                        },
                        "type": "mesh3d"
                      }
                    ],
                    "parcoords": [
                      {
                        "line": {
                          "colorbar": {
                            "outlinewidth": 0,
                            "ticks": ""
                          }
                        },
                        "type": "parcoords"
                      }
                    ],
                    "pie": [
                      {
                        "automargin": true,
                        "type": "pie"
                      }
                    ],
                    "scatter": [
                      {
                        "fillpattern": {
                          "fillmode": "overlay",
                          "size": 10,
                          "solidity": 0.2
                        },
                        "type": "scatter"
                      }
                    ],
                    "scatter3d": [
                      {
                        "line": {
                          "colorbar": {
                            "outlinewidth": 0,
                            "ticks": ""
                          }
                        },
                        "marker": {
                          "colorbar": {
                            "outlinewidth": 0,
                            "ticks": ""
                          }
                        },
                        "type": "scatter3d"
                      }
                    ],
                    "scattercarpet": [
                      {
                        "marker": {
                          "colorbar": {
                            "outlinewidth": 0,
                            "ticks": ""
                          }
                        },
                        "type": "scattercarpet"
                      }
                    ],
                    "scattergeo": [
                      {
                        "marker": {
                          "colorbar": {
                            "outlinewidth": 0,
                            "ticks": ""
                          }
                        },
                        "type": "scattergeo"
                      }
                    ],
                    "scattergl": [
                      {
                        "marker": {
                          "colorbar": {
                            "outlinewidth": 0,
                            "ticks": ""
                          }
                        },
                        "type": "scattergl"
                      }
                    ],
                    "scattermap": [
                      {
                        "marker": {
                          "colorbar": {
                            "outlinewidth": 0,
                            "ticks": ""
                          }
                        },
                        "type": "scattermap"
                      }
                    ],
                    "scattermapbox": [
                      {
                        "marker": {
                          "colorbar": {
                            "outlinewidth": 0,
                            "ticks": ""
                          }
                        },
                        "type": "scattermapbox"
                      }
                    ],
                    "scatterpolar": [
                      {
                        "marker": {
                          "colorbar": {
                            "outlinewidth": 0,
                            "ticks": ""
                          }
                        },
                        "type": "scatterpolar"
                      }
                    ],
                    "scatterpolargl": [
                      {
                        "marker": {
                          "colorbar": {
                            "outlinewidth": 0,
                            "ticks": ""
                          }
                        },
                        "type": "scatterpolargl"
                      }
                    ],
                    "scatterternary": [
                      {
                        "marker": {
                          "colorbar": {
                            "outlinewidth": 0,
                            "ticks": ""
                          }
                        },
                        "type": "scatterternary"
                      }
                    ],
                    "surface": [
                      {
                        "colorbar": {
                          "outlinewidth": 0,
                          "ticks": ""
                        },
                        "colorscale": [
                          [
                            0,
                            "#0d0887"
                          ],
                          [
                            0.1111111111111111,
                            "#46039f"
                          ],
                          [
                            0.2222222222222222,
                            "#7201a8"
                          ],
                          [
                            0.3333333333333333,
                            "#9c179e"
                          ],
                          [
                            0.4444444444444444,
                            "#bd3786"
                          ],
                          [
                            0.5555555555555556,
                            "#d8576b"
                          ],
                          [
                            0.6666666666666666,
                            "#ed7953"
                          ],
                          [
                            0.7777777777777778,
                            "#fb9f3a"
                          ],
                          [
                            0.8888888888888888,
                            "#fdca26"
                          ],
                          [
                            1,
                            "#f0f921"
                          ]
                        ],
                        "type": "surface"
                      }
                    ],
                    "table": [
                      {
                        "cells": {
                          "fill": {
                            "color": "#EBF0F8"
                          },
                          "line": {
                            "color": "white"
                          }
                        },
                        "header": {
                          "fill": {
                            "color": "#C8D4E3"
                          },
                          "line": {
                            "color": "white"
                          }
                        },
                        "type": "table"
                      }
                    ]
                  },
                  "layout": {
                    "annotationdefaults": {
                      "arrowcolor": "#2a3f5f",
                      "arrowhead": 0,
                      "arrowwidth": 1
                    },
                    "autotypenumbers": "strict",
                    "coloraxis": {
                      "colorbar": {
                        "outlinewidth": 0,
                        "ticks": ""
                      }
                    },
                    "colorscale": {
                      "diverging": [
                        [
                          0,
                          "#8e0152"
                        ],
                        [
                          0.1,
                          "#c51b7d"
                        ],
                        [
                          0.2,
                          "#de77ae"
                        ],
                        [
                          0.3,
                          "#f1b6da"
                        ],
                        [
                          0.4,
                          "#fde0ef"
                        ],
                        [
                          0.5,
                          "#f7f7f7"
                        ],
                        [
                          0.6,
                          "#e6f5d0"
                        ],
                        [
                          0.7,
                          "#b8e186"
                        ],
                        [
                          0.8,
                          "#7fbc41"
                        ],
                        [
                          0.9,
                          "#4d9221"
                        ],
                        [
                          1,
                          "#276419"
                        ]
                      ],
                      "sequential": [
                        [
                          0,
                          "#0d0887"
                        ],
                        [
                          0.1111111111111111,
                          "#46039f"
                        ],
                        [
                          0.2222222222222222,
                          "#7201a8"
                        ],
                        [
                          0.3333333333333333,
                          "#9c179e"
                        ],
                        [
                          0.4444444444444444,
                          "#bd3786"
                        ],
                        [
                          0.5555555555555556,
                          "#d8576b"
                        ],
                        [
                          0.6666666666666666,
                          "#ed7953"
                        ],
                        [
                          0.7777777777777778,
                          "#fb9f3a"
                        ],
                        [
                          0.8888888888888888,
                          "#fdca26"
                        ],
                        [
                          1,
                          "#f0f921"
                        ]
                      ],
                      "sequentialminus": [
                        [
                          0,
                          "#0d0887"
                        ],
                        [
                          0.1111111111111111,
                          "#46039f"
                        ],
                        [
                          0.2222222222222222,
                          "#7201a8"
                        ],
                        [
                          0.3333333333333333,
                          "#9c179e"
                        ],
                        [
                          0.4444444444444444,
                          "#bd3786"
                        ],
                        [
                          0.5555555555555556,
                          "#d8576b"
                        ],
                        [
                          0.6666666666666666,
                          "#ed7953"
                        ],
                        [
                          0.7777777777777778,
                          "#fb9f3a"
                        ],
                        [
                          0.8888888888888888,
                          "#fdca26"
                        ],
                        [
                          1,
                          "#f0f921"
                        ]
                      ]
                    },
                    "colorway": [
                      "#636efa",
                      "#EF553B",
                      "#00cc96",
                      "#ab63fa",
                      "#FFA15A",
                      "#19d3f3",
                      "#FF6692",
                      "#B6E880",
                      "#FF97FF",
                      "#FECB52"
                    ],
                    "font": {
                      "color": "#2a3f5f"
                    },
                    "geo": {
                      "bgcolor": "white",
                      "lakecolor": "white",
                      "landcolor": "#E5ECF6",
                      "showlakes": true,
                      "showland": true,
                      "subunitcolor": "white"
                    },
                    "hoverlabel": {
                      "align": "left"
                    },
                    "hovermode": "closest",
                    "mapbox": {
                      "style": "light"
                    },
                    "paper_bgcolor": "white",
                    "plot_bgcolor": "#E5ECF6",
                    "polar": {
                      "angularaxis": {
                        "gridcolor": "white",
                        "linecolor": "white",
                        "ticks": ""
                      },
                      "bgcolor": "#E5ECF6",
                      "radialaxis": {
                        "gridcolor": "white",
                        "linecolor": "white",
                        "ticks": ""
                      }
                    },
                    "scene": {
                      "xaxis": {
                        "backgroundcolor": "#E5ECF6",
                        "gridcolor": "white",
                        "gridwidth": 2,
                        "linecolor": "white",
                        "showbackground": true,
                        "ticks": "",
                        "zerolinecolor": "white"
                      },
                      "yaxis": {
                        "backgroundcolor": "#E5ECF6",
                        "gridcolor": "white",
                        "gridwidth": 2,
                        "linecolor": "white",
                        "showbackground": true,
                        "ticks": "",
                        "zerolinecolor": "white"
                      },
                      "zaxis": {
                        "backgroundcolor": "#E5ECF6",
                        "gridcolor": "white",
                        "gridwidth": 2,
                        "linecolor": "white",
                        "showbackground": true,
                        "ticks": "",
                        "zerolinecolor": "white"
                      }
                    },
                    "shapedefaults": {
                      "line": {
                        "color": "#2a3f5f"
                      }
                    },
                    "ternary": {
                      "aaxis": {
                        "gridcolor": "white",
                        "linecolor": "white",
                        "ticks": ""
                      },
                      "baxis": {
                        "gridcolor": "white",
                        "linecolor": "white",
                        "ticks": ""
                      },
                      "bgcolor": "#E5ECF6",
                      "caxis": {
                        "gridcolor": "white",
                        "linecolor": "white",
                        "ticks": ""
                      }
                    },
                    "title": {
                      "x": 0.05
                    },
                    "xaxis": {
                      "automargin": true,
                      "gridcolor": "white",
                      "linecolor": "white",
                      "ticks": "",
                      "title": {
                        "standoff": 15
                      },
                      "zerolinecolor": "white",
                      "zerolinewidth": 2
                    },
                    "yaxis": {
                      "automargin": true,
                      "gridcolor": "white",
                      "linecolor": "white",
                      "ticks": "",
                      "title": {
                        "standoff": 15
                      },
                      "zerolinecolor": "white",
                      "zerolinewidth": 2
                    }
                  }
                },
                "title": {
                  "text": "Attack Distribution by Type, Industry, and Country"
                }
              }
            }
          },
          "metadata": {},
          "output_type": "display_data"
        }
      ],
      "source": [
        "fig3 = px.sunburst(\n",
        "    df,\n",
        "    path=[\"Attack Type\", \"Target Industry\", \"Country\"],\n",
        "    values=\"Financial Loss (in Million $)\",\n",
        "    title=\"Attack Distribution by Type, Industry, and Country\",\n",
        "    color=\"Financial Loss (in Million $)\",\n",
        "    hover_data={\"Financial Loss (in Million $)\":\":.2f\"}\n",
        ")\n",
        "\n",
        "fig3.show()"
      ]
    },
    {
      "cell_type": "markdown",
      "metadata": {
        "id": "vMce5M5Zl6T1"
      },
      "source": [
        "##### What are the insight found from the chart?"
      ]
    },
    {
      "cell_type": "markdown",
      "metadata": {
        "id": "ALlYFEJ1l8Qt"
      },
      "source": [
        "Dominant Attack Type: The largest center slice shows which attack type causes the highest global losses.\n",
        "\n",
        "Industry Impact: Bigger slices within each attack type = industries most targeted.\n",
        "\n",
        "Country Hotspots: Outer ring highlights countries with the highest losses in each industry.\n",
        "\n",
        "Risk Patterns: Some industries appear under multiple attack types, showing a broad attack surface.\n",
        "\n",
        "In short: The chart reveals which attack type dominates, which industries and countries are hit hardest, and which sectors face multiple threats."
      ]
    },
    {
      "cell_type": "markdown",
      "metadata": {
        "id": "EawouJnFmZLR"
      },
      "source": [
        "### Scatter plot - Financial Loss vs Affected Users"
      ]
    },
    {
      "cell_type": "code",
      "execution_count": 44,
      "metadata": {
        "id": "HpaeZMAPmZjA"
      },
      "outputs": [
        {
          "data": {
            "application/vnd.plotly.v1+json": {
              "config": {
                "plotlyServerURL": "https://plot.ly"
              },
              "data": [
                {
                  "hovertemplate": "<b>%{hovertext}</b><br><br>Attack Type=Phishing<br>Number of Affected Users=%{x}<br>Financial Loss (in Million $)=%{marker.size}<extra></extra>",
                  "hovertext": [
                    "China",
                    "China",
                    "Australia",
                    "Japan",
                    "China",
                    "Japan",
                    "Brazil",
                    "Brazil",
                    "Japan",
                    "UK",
                    "France",
                    "Brazil",
                    "Australia",
                    "India",
                    "China",
                    "China",
                    "UK",
                    "Brazil",
                    "Australia",
                    "France",
                    "France",
                    "Germany",
                    "Germany",
                    "Australia",
                    "UK",
                    "India",
                    "France",
                    "USA",
                    "USA",
                    "USA",
                    "India",
                    "Germany",
                    "Japan",
                    "Russia",
                    "Germany",
                    "UK",
                    "Germany",
                    "UK",
                    "India",
                    "UK",
                    "Japan",
                    "France",
                    "Australia",
                    "China",
                    "Japan",
                    "Russia",
                    "Russia",
                    "UK",
                    "India",
                    "China",
                    "Russia",
                    "Japan",
                    "India",
                    "Germany",
                    "Japan",
                    "Brazil",
                    "China",
                    "Australia",
                    "Brazil",
                    "Brazil",
                    "France",
                    "Russia",
                    "Germany",
                    "Germany",
                    "Australia",
                    "UK",
                    "Russia",
                    "UK",
                    "Australia",
                    "France",
                    "Japan",
                    "UK",
                    "India",
                    "UK",
                    "Germany",
                    "Brazil",
                    "UK",
                    "Brazil",
                    "UK",
                    "Germany",
                    "UK",
                    "China",
                    "China",
                    "UK",
                    "Brazil",
                    "Germany",
                    "France",
                    "UK",
                    "Germany",
                    "Russia",
                    "France",
                    "Germany",
                    "Japan",
                    "France",
                    "UK",
                    "Russia",
                    "USA",
                    "Japan",
                    "USA",
                    "Germany",
                    "France",
                    "Brazil",
                    "China",
                    "UK",
                    "Germany",
                    "France",
                    "UK",
                    "Japan",
                    "Australia",
                    "UK",
                    "USA",
                    "Brazil",
                    "UK",
                    "Australia",
                    "Japan",
                    "USA",
                    "Brazil",
                    "Australia",
                    "Japan",
                    "France",
                    "Australia",
                    "France",
                    "India",
                    "Australia",
                    "China",
                    "China",
                    "USA",
                    "France",
                    "UK",
                    "India",
                    "China",
                    "Brazil",
                    "Russia",
                    "USA",
                    "Japan",
                    "Japan",
                    "India",
                    "France",
                    "UK",
                    "UK",
                    "USA",
                    "Japan",
                    "Brazil",
                    "USA",
                    "Australia",
                    "Brazil",
                    "India",
                    "Australia",
                    "Germany",
                    "India",
                    "China",
                    "Australia",
                    "UK",
                    "India",
                    "USA",
                    "Australia",
                    "France",
                    "Russia",
                    "UK",
                    "USA",
                    "UK",
                    "Australia",
                    "Germany",
                    "Japan",
                    "France",
                    "UK",
                    "Australia",
                    "Russia",
                    "Brazil",
                    "Germany",
                    "India",
                    "China",
                    "USA",
                    "France",
                    "USA",
                    "Russia",
                    "Australia",
                    "USA",
                    "China",
                    "China",
                    "France",
                    "Germany",
                    "France",
                    "UK",
                    "Brazil",
                    "Germany",
                    "Brazil",
                    "Brazil",
                    "Brazil",
                    "Russia",
                    "Brazil",
                    "Japan",
                    "Russia",
                    "USA",
                    "Australia",
                    "India",
                    "Australia",
                    "UK",
                    "Brazil",
                    "India",
                    "France",
                    "UK",
                    "Russia",
                    "France",
                    "Japan",
                    "Australia",
                    "UK",
                    "China",
                    "Germany",
                    "USA",
                    "Brazil",
                    "Russia",
                    "India",
                    "China",
                    "Japan",
                    "USA",
                    "Japan",
                    "Germany",
                    "Australia",
                    "France",
                    "Australia",
                    "Brazil",
                    "China",
                    "China",
                    "Russia",
                    "UK",
                    "France",
                    "France",
                    "USA",
                    "China",
                    "Brazil",
                    "Russia",
                    "UK",
                    "UK",
                    "Australia",
                    "Japan",
                    "Russia",
                    "USA",
                    "UK",
                    "UK",
                    "Brazil",
                    "Germany",
                    "France",
                    "India",
                    "Germany",
                    "Russia",
                    "Germany",
                    "Japan",
                    "India",
                    "UK",
                    "Australia",
                    "Russia",
                    "UK",
                    "Brazil",
                    "India",
                    "Japan",
                    "USA",
                    "China",
                    "USA",
                    "USA",
                    "Germany",
                    "Australia",
                    "France",
                    "USA",
                    "Brazil",
                    "India",
                    "Germany",
                    "India",
                    "China",
                    "Japan",
                    "India",
                    "Brazil",
                    "USA",
                    "UK",
                    "Russia",
                    "USA",
                    "Germany",
                    "UK",
                    "Japan",
                    "France",
                    "France",
                    "China",
                    "Japan",
                    "India",
                    "India",
                    "Australia",
                    "Japan",
                    "Japan",
                    "USA",
                    "USA",
                    "UK",
                    "UK",
                    "Australia",
                    "India",
                    "Japan",
                    "France",
                    "Brazil",
                    "UK",
                    "UK",
                    "USA",
                    "Australia",
                    "USA",
                    "France",
                    "China",
                    "France",
                    "UK",
                    "USA",
                    "China",
                    "Brazil",
                    "UK",
                    "UK",
                    "China",
                    "China",
                    "Australia",
                    "USA",
                    "USA",
                    "Japan",
                    "UK",
                    "Japan",
                    "Brazil",
                    "Japan",
                    "Brazil",
                    "Brazil",
                    "China",
                    "France",
                    "USA",
                    "Australia",
                    "India",
                    "Australia",
                    "France",
                    "Australia",
                    "China",
                    "India",
                    "Russia",
                    "China",
                    "Russia",
                    "France",
                    "India",
                    "Germany",
                    "France",
                    "Brazil",
                    "India",
                    "France",
                    "Brazil",
                    "USA",
                    "France",
                    "India",
                    "Brazil",
                    "France",
                    "Germany",
                    "USA",
                    "Germany",
                    "Brazil",
                    "China",
                    "Russia",
                    "USA",
                    "UK",
                    "Australia",
                    "Germany",
                    "Brazil",
                    "Japan",
                    "USA",
                    "Japan",
                    "Germany",
                    "USA",
                    "USA",
                    "Japan",
                    "Brazil",
                    "India",
                    "India",
                    "France",
                    "USA",
                    "Australia",
                    "Brazil",
                    "Japan",
                    "Japan",
                    "USA",
                    "Japan",
                    "India",
                    "Russia",
                    "USA",
                    "Brazil",
                    "Germany",
                    "France",
                    "Germany",
                    "UK",
                    "Russia",
                    "Japan",
                    "Japan",
                    "Japan",
                    "France",
                    "Australia",
                    "Russia",
                    "India",
                    "China",
                    "Germany",
                    "France",
                    "India",
                    "France",
                    "USA",
                    "Japan",
                    "India",
                    "Brazil",
                    "France",
                    "Australia",
                    "UK",
                    "China",
                    "France",
                    "USA",
                    "France",
                    "India",
                    "Japan",
                    "Brazil",
                    "Australia",
                    "India",
                    "France",
                    "India",
                    "India",
                    "India",
                    "France",
                    "Russia",
                    "Germany",
                    "Brazil",
                    "China",
                    "Russia",
                    "Brazil",
                    "France",
                    "Germany",
                    "Japan",
                    "France",
                    "Russia",
                    "USA",
                    "UK",
                    "Japan",
                    "Japan",
                    "India",
                    "Australia",
                    "Japan",
                    "Russia",
                    "France",
                    "Australia",
                    "France",
                    "India",
                    "France",
                    "Brazil",
                    "China",
                    "UK",
                    "Germany",
                    "Brazil",
                    "France",
                    "UK",
                    "India",
                    "France",
                    "UK",
                    "UK",
                    "USA",
                    "India",
                    "Russia",
                    "Brazil",
                    "Germany",
                    "India",
                    "Brazil",
                    "USA",
                    "France",
                    "USA",
                    "UK",
                    "Brazil",
                    "China",
                    "Germany",
                    "India",
                    "Australia",
                    "UK",
                    "Russia",
                    "UK",
                    "China",
                    "Brazil",
                    "USA",
                    "Russia",
                    "UK",
                    "Australia",
                    "France",
                    "France",
                    "Japan",
                    "Australia",
                    "Germany",
                    "Japan",
                    "Australia",
                    "France",
                    "Germany",
                    "Japan",
                    "USA",
                    "Germany",
                    "Japan",
                    "China",
                    "China",
                    "UK",
                    "Germany",
                    "Germany",
                    "India",
                    "Japan",
                    "Australia",
                    "UK",
                    "USA",
                    "Japan",
                    "China",
                    "Australia",
                    "UK",
                    "Australia",
                    "China",
                    "Russia",
                    "Australia",
                    "Russia",
                    "USA",
                    "Japan",
                    "Russia",
                    "Russia",
                    "China",
                    "France",
                    "Brazil",
                    "Australia",
                    "China",
                    "China",
                    "China",
                    "India",
                    "China",
                    "Japan",
                    "India",
                    "France",
                    "France"
                  ],
                  "legendgroup": "Phishing",
                  "marker": {
                    "color": "#636efa",
                    "size": {
                      "bdata": "UrgeheshVEB7FK5H4SpWQKRwPQrXE1BA7FG4HoVrNEBI4XoUrodJQK5H4XoUnlhAhetRuB4FLUAAAAAAAMAxQPYoXI/C9VJAhetRuB5lVUDXo3A9CsdSQDMzMzMzs0VAFK5H4XpUV0DNzMzMzMxBQD0K16NwXUVAhetRuB6FS0Bcj8L1KIxTQIXrUbgeBT1AZmZmZmamOEDhehSuR+ExQDMzMzMzMxdAUrgeheshVUBI4XoUrscmQMP1KFyPMldAcT0K16NQVEBSuB6F60FRQDMzMzMzMztArkfhehSuREBcj8L1KPxSQDMzMzMz80tAH4XrUbjOUkBxPQrXo3APQEjhehSux1FAcT0K16NAVUD2KFyPwnVHQLgehetRiFZAmpmZmZk5VUBcj8L1KMxRQHE9CtejcCdAFK5H4XoUO0BI4XoUrmdQQFyPwvUonFdA7FG4HoVbUkBSuB6F65FIQFyPwvUoPEtAuB6F61H4VUCuR+F6FE5WQMP1KFyPQj5ArkfhehSuTUAK16NwPQoQQHsUrkfhylBAmpmZmZm5QkCkcD0K12NCQGZmZmZmZldAUrgeheuxR0AAAAAAALBYQOxRuB6F6x5APQrXo3C9JUBI4XoUrscrQClcj8L1yFhA4XoUrkdxVkBxPQrXo1BSQPYoXI/CtVNApHA9CtdjTUApXI/C9YhCQEjhehSuJ0pAFK5H4Xo0QUDXo3A9CtcgQAAAAAAAIFdASOF6FK4HP0DNzMzMzAxSQJqZmZmZGTlA4XoUrkfBSECkcD0K11NWQDMzMzMzI1ZAcT0K16PAUkCamZmZmZn1P4/C9ShcP1FAj8L1KFzvTkCuR+F6FP5YQClcj8L1KAhA9ihcj8J1O0BmZmZmZuYiQKRwPQrXQ0xApHA9CteDWEApXI/C9UhIQAAAAAAAAAhASOF6FK6HQECPwvUoXA9DQBSuR+F6lDRACtejcD1KOkDhehSuR8FAQFK4HoXrEVFAhetRuB4lRkB7FK5H4apWQDMzMzMzszlAUrgeheshV0DXo3A9CtciQJqZmZmZ2U1APQrXo3CNVkBxPQrXo/BEQD0K16Nw/TtAmpmZmZlZP0CkcD0K16MKQD0K16NwfU1ACtejcD16VUDhehSuRzFVQAAAAAAAsFdA4XoUrkehUUAAAAAAAHBUQHsUrkfhOkVArkfhehTuM0CkcD0K19NSQJqZmZmZGVNAj8L1KFyPFECF61G4HgU9QNejcD0Kt0xAexSuR+G6NkD2KFyPwpVIQFK4HoXr8VhAzczMzMzMV0BmZmZmZuYsQFK4HoXrUTdAuB6F61G4BkCamZmZmdlRQLgehetRODRA7FG4HoWrS0AzMzMzM/NLQK5H4XoUrj5ASOF6FK53WEC4HoXrUdhAQBSuR+F6JFJAzczMzMxsV0CamZmZmVlKQHE9Ctej8DZAw/UoXI9CUkD2KFyPwiVYQAAAAAAAQEtAMzMzMzMTQkApXI/C9ag3QOF6FK5HITRAcT0K16NQVECF61G4HsVSQOF6FK5HEVhAcT0K16PwLUC4HoXrUfhBQB+F61G4DlBAuB6F61H4Q0ApXI/C9chKQIXrUbgeBVNACtejcD3qRkBI4XoUrudKQKRwPQrXY1hAUrgehetxQ0BSuB6F64FRQGZmZmZmpkNAXI/C9SisVkCamZmZmYlXQM3MzMzM3FhAKVyPwvVITUDD9Shcj/JTQAAAAAAAoFZAzczMzMzMAEBSuB6F6zFAQAAAAAAAwDlAKVyPwvUITkDD9Shcj8ItQFK4HoXrkT5A16NwPQr3UUAUrkfhepQtQFyPwvUo3ENAw/UoXI+CVkApXI/C9ehYQOF6FK5H4TxAH4XrUbieTECamZmZmZkJQD0K16NwPSJAexSuR+EqUEDsUbgehes4QOF6FK5H8VFA9ihcj8KlUUAfhetRuK5QQKRwPQrXA0pAXI/C9ShcK0CuR+F6FB5WQIXrUbgehTNAj8L1KFw/VEDNzMzMzFxRQLgehetRKFdAuB6F61E4TEDD9Shcj/JUQAAAAAAA4FVAuB6F61GYWEBxPQrXo3DtPx+F61G4HldA7FG4HoVrMkBcj8L1KNwoQBSuR+F6lDVAAAAAAACAIkDNzMzMzIxCQOF6FK5HAVNA7FG4HoUrOED2KFyPwvUtQEjhehSuJ1BAcT0K16MAUkCkcD0K16MyQD0K16NwvSpAKVyPwvUoV0CkcD0K1zNYQHE9CtejoFJAKVyPwvUoBECamZmZmZkxQEjhehSu50VApHA9CtcDUkDsUbgehbtUQArXo3A9CkZAPQrXo3DtVkBmZmZmZnZRQNejcD0KB1RAhetRuB7lTUAAAAAAAEA4QHE9CtejcDBAj8L1KFwPMUAzMzMzMzMUQHsUrkfheiJArkfhehSuI0BSuB6F69FNQI/C9Shcf1FAMzMzMzOTVUCPwvUoXB9VQLgehetRWEVAKVyPwvWISkAK16NwPYpIQAAAAAAAIFVAFK5H4XoU8j+F61G4HsVBQArXo3A9CiNA9ihcj8L1Q0AK16NwPYo8QFyPwvUo3EVAhetRuB4lV0CkcD0K1yNHQEjhehSuRy5AUrgehetRSUB7FK5H4bo/QOxRuB6Fe1JAj8L1KFxPREAAAAAAACBIQGZmZmZmtlFAexSuR+F69D/NzMzMzAxMQLgehetReFBAMzMzMzNzMkB7FK5H4dpSQJqZmZmZmQlACtejcD2qQ0B7FK5H4XpIQNejcD0Kd0VACtejcD1KQ0AfhetRuA5RQM3MzMzMzAZAUrgehetRR0DD9ShcjyJQQBSuR+F61EdACtejcD3KMkCF61G4HuVRQJqZmZmZ2TtAPQrXo3AtVkAK16NwPcpFQHsUrkfhekNApHA9CtcjPkB7FK5H4TpFQM3MzMzMTC1AzczMzMzMUUCamZmZmZlRQJqZmZmZmVRAFK5H4XoUJECPwvUoXI9DQI/C9Shcj0hA7FG4HoXrSECuR+F6FO5XQLgehetR2EBAXI/C9SjcS0AK16NwPco5QLgehetRGENArkfhehSuI0C4HoXrUchSQGZmZmZmtlRAZmZmZmZ2VkDD9ShcjyJXQKRwPQrXYz5AMzMzMzOjUEBcj8L1KPxOQM3MzMzMLFBArkfhehR+VkC4HoXrUbg2QB+F61G4fklAXI/C9Si8Q0DNzMzMzMw1QI/C9Shcb1ZA9ihcj8IVUkCamZmZmRlDQHE9CtejsEJAZmZmZmZmGUBxPQrXo/AqQFK4HoXr8UxAzczMzMzMH0BxPQrXo3AtQFyPwvUonD1AuB6F61G4DkD2KFyPwmVWQOxRuB6Fay5Aw/UoXI+iQEDXo3A9CpdLQAAAAAAAwDxAmpmZmZmZM0BmZmZmZnZWQJqZmZmZWUZAcT0K16NwA0DsUbgehctMQClcj8L1qEhAZmZmZmamNUAAAAAAAEBBQJqZmZmZmVFAhetRuB6FP0B7FK5H4XouQFK4HoXrIVJA7FG4HoXrLEBSuB6F61ExQLgehetRGEpA4XoUrkdxUkCPwvUoXM9CQM3MzMzMjERACtejcD0KRkDNzMzMzIxRQAAAAAAAABVAH4XrUbjeRkAAAAAAAFBYQB+F61G4LlZASOF6FK6HU0DD9Shcj2JUQEjhehSuRylAmpmZmZmZRUAfhetRuJ46QB+F61G4Hi9Aw/UoXI8iUkCamZmZmRkqQPYoXI/CdSJAzczMzMyMU0BSuB6F65FLQBSuR+F6VFhAMzMzMzPjVUCF61G4HgU6QB+F61G4vkVAXI/C9ShcEkDXo3A9CvdXQGZmZmZmZk9A7FG4HoWLVEAfhetRuB4lQClcj8L1aEVAKVyPwvWoOUCamZmZmVk9QBSuR+F6lFdA9ihcj8J1NkCkcD0K16MxQGZmZmZmpkJAZmZmZmZ2UkDhehSuR9FVQDMzMzMzk0BAAAAAAABAQ0DNzMzMzLxYQHsUrkfh2lVArkfhehSeVEAfhetRuH5YQOxRuB6FG1ZA9ihcj8L1GUB7FK5H4VpIQMP1KFyPokFASOF6FK5nV0CPwvUoXA84QOxRuB6Faz1A4XoUrkeBV0A9CtejcD0pQMP1KFyPwipAH4XrUbj+WEAAAAAAACBRQFyPwvUo/EZA7FG4HoVrPkDXo3A9CndAQNejcD0K1wVA4XoUrkfRVEDXo3A9CldOQEjhehSux0dAXI/C9Sg8SkDhehSuR2FLQKRwPQrXw0NACtejcD1aU0ApXI/C9YhKQPYoXI/C1UZAzczMzMxsQkCF61G4HsVAQIXrUbgexUVAZmZmZmamUUCPwvUoXL9TQMP1KFyPclVAuB6F61EYVkDNzMzMzPxSQD0K16NwfUZACtejcD1qQ0AzMzMzMzMXQEjhehSu51VAUrgehetRDEDNzMzMzFxYQKRwPQrXc1RA16NwPQpXQ0CuR+F6FF5UQJqZmZmZmTxArkfhehRuMUAUrkfhehQVQLgehetRuBRAzczMzMycU0AAAAAAAABIQIXrUbgeNVVApHA9CtdjMkC4HoXrUTg1QHE9CtejcAlACtejcD2qQECF61G4HoVHQMP1KFyPklhAKVyPwvXIRkDsUbgehesFQArXo3A9ChhAPQrXo3B9PUBmZmZmZlZSQBSuR+F65FhAcT0K16NwFEBI4XoUrudPQNejcD0Kl1RAw/UoXI/CAUB7FK5H4fouQArXo3A9WlZASOF6FK6nS0ApXI/C9SgZQClcj8L1yEJASOF6FK7HPEBI4XoUrudEQHE9CtejsElA16NwPQpnV0DD9Shcj0JUQDMzMzMzk0NAMzMzMzPTV0AfhetRuB5XQNejcD0KF0pApHA9Ctej+D8pXI/C9XhVQJqZmZmZ+UdAmpmZmZn5SkAAAAAAAJBQQM3MzMzMPFNA4XoUrkcxVUBmZmZmZuYjQIXrUbgeFVJAKVyPwvVITkCuR+F6FK4+QClcj8L1yFFAhetRuB5lU0AUrkfheoRQQOF6FK5H4UlACtejcD26VkC4HoXrUXg5QKRwPQrXA0VAzczMzMzsQEBmZmZmZqZXQIXrUbgepUJAj8L1KFxvQ0DD9ShcjwI3QFK4HoXrUU1AFK5H4XqUJkDhehSuR6E6QAAAAAAAsFJAAAAAAADgSED2KFyPwvVEQLgehetRSFJArkfhehSuWEDXo3A9ChdEQNejcD0K1yhApHA9CtcjRUDXo3A9CjdVQOxRuB6FK0JASOF6FK4HQUAUrkfhetRCQM3MzMzMTFFACtejcD2qTkA9CtejcP0xQJqZmZmZ+U1A9ihcj8KVTEDD9Shcj8IwQHsUrkfh2khAH4XrUbhuVUDNzMzMzMwMQFK4HoXrkVNAmpmZmZmpUEDNzMzMzKxPQOF6FK5H4VZAuB6F61H4S0DhehSuR8FWQArXo3A9ii5AXI/C9Si8TkBSuB6F69EwQB+F61G4vkBAFK5H4XoEUEAzMzMzM5NDQLgehetRuBhAmpmZmZnZS0BxPQrXozBNQFK4HoXr0StAXI/C9Sj8REDD9Shcj8IsQK5H4XoUzkFAzczMzMzMWEC4HoXrUVhDQHE9CtejEFNASOF6FK6HS0Bcj8L1KNwhQHE9CtejcCdArkfhehRuTUDhehSuR+FCQHsUrkfhehNACtejcD1KUEA=",
                      "dtype": "f8"
                    },
                    "sizemode": "area",
                    "sizeref": 0.24997499999999997,
                    "symbol": "circle"
                  },
                  "mode": "markers",
                  "name": "Phishing",
                  "showlegend": true,
                  "type": "scattergl",
                  "x": {
                    "bdata": "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",
                    "dtype": "i4"
                  },
                  "xaxis": "x",
                  "y": {
                    "bdata": "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",
                    "dtype": "f8"
                  },
                  "yaxis": "y"
                },
                {
                  "hovertemplate": "<b>%{hovertext}</b><br><br>Attack Type=Ransomware<br>Number of Affected Users=%{x}<br>Financial Loss (in Million $)=%{marker.size}<extra></extra>",
                  "hovertext": [
                    "China",
                    "UK",
                    "India",
                    "Brazil",
                    "France",
                    "Japan",
                    "USA",
                    "Germany",
                    "USA",
                    "UK",
                    "India",
                    "Japan",
                    "China",
                    "Russia",
                    "France",
                    "China",
                    "Australia",
                    "France",
                    "Germany",
                    "Australia",
                    "China",
                    "China",
                    "Russia",
                    "UK",
                    "India",
                    "UK",
                    "France",
                    "UK",
                    "Germany",
                    "India",
                    "France",
                    "Brazil",
                    "China",
                    "Japan",
                    "Japan",
                    "Japan",
                    "China",
                    "Russia",
                    "Australia",
                    "Russia",
                    "Russia",
                    "Germany",
                    "Germany",
                    "Brazil",
                    "India",
                    "France",
                    "UK",
                    "USA",
                    "Brazil",
                    "Russia",
                    "Brazil",
                    "China",
                    "China",
                    "UK",
                    "Japan",
                    "India",
                    "Australia",
                    "India",
                    "India",
                    "China",
                    "France",
                    "UK",
                    "Japan",
                    "Russia",
                    "Brazil",
                    "China",
                    "USA",
                    "UK",
                    "Australia",
                    "USA",
                    "USA",
                    "USA",
                    "France",
                    "Japan",
                    "UK",
                    "India",
                    "USA",
                    "Australia",
                    "UK",
                    "Russia",
                    "China",
                    "Brazil",
                    "USA",
                    "Brazil",
                    "UK",
                    "USA",
                    "USA",
                    "India",
                    "UK",
                    "India",
                    "USA",
                    "China",
                    "China",
                    "Australia",
                    "India",
                    "China",
                    "India",
                    "UK",
                    "India",
                    "Germany",
                    "Japan",
                    "USA",
                    "India",
                    "India",
                    "Australia",
                    "Russia",
                    "China",
                    "USA",
                    "France",
                    "India",
                    "Australia",
                    "China",
                    "Japan",
                    "France",
                    "Germany",
                    "Japan",
                    "France",
                    "Brazil",
                    "Russia",
                    "Brazil",
                    "UK",
                    "Australia",
                    "Brazil",
                    "USA",
                    "India",
                    "France",
                    "France",
                    "Australia",
                    "Germany",
                    "USA",
                    "Russia",
                    "USA",
                    "UK",
                    "India",
                    "USA",
                    "Japan",
                    "India",
                    "Russia",
                    "USA",
                    "USA",
                    "India",
                    "India",
                    "Germany",
                    "Russia",
                    "India",
                    "Australia",
                    "Brazil",
                    "China",
                    "India",
                    "UK",
                    "Japan",
                    "India",
                    "Russia",
                    "Australia",
                    "Japan",
                    "USA",
                    "USA",
                    "Brazil",
                    "Germany",
                    "China",
                    "China",
                    "Japan",
                    "UK",
                    "USA",
                    "Russia",
                    "USA",
                    "Germany",
                    "Brazil",
                    "Brazil",
                    "Russia",
                    "Russia",
                    "USA",
                    "India",
                    "USA",
                    "Germany",
                    "Germany",
                    "Russia",
                    "Japan",
                    "Germany",
                    "USA",
                    "Brazil",
                    "China",
                    "Australia",
                    "India",
                    "Russia",
                    "Australia",
                    "Russia",
                    "Germany",
                    "Russia",
                    "France",
                    "India",
                    "Russia",
                    "France",
                    "Japan",
                    "India",
                    "Australia",
                    "Brazil",
                    "Australia",
                    "India",
                    "Russia",
                    "France",
                    "India",
                    "Brazil",
                    "China",
                    "China",
                    "Australia",
                    "Australia",
                    "France",
                    "USA",
                    "China",
                    "UK",
                    "India",
                    "Brazil",
                    "Germany",
                    "India",
                    "Russia",
                    "India",
                    "Brazil",
                    "Russia",
                    "Australia",
                    "France",
                    "UK",
                    "Russia",
                    "China",
                    "UK",
                    "Brazil",
                    "France",
                    "Germany",
                    "USA",
                    "India",
                    "UK",
                    "Germany",
                    "Japan",
                    "UK",
                    "China",
                    "Russia",
                    "Japan",
                    "Brazil",
                    "Russia",
                    "Germany",
                    "Russia",
                    "France",
                    "Russia",
                    "Russia",
                    "India",
                    "Germany",
                    "Australia",
                    "India",
                    "Japan",
                    "Germany",
                    "USA",
                    "France",
                    "USA",
                    "India",
                    "Australia",
                    "India",
                    "Japan",
                    "Brazil",
                    "India",
                    "China",
                    "France",
                    "China",
                    "Australia",
                    "Brazil",
                    "China",
                    "China",
                    "China",
                    "USA",
                    "Australia",
                    "Australia",
                    "USA",
                    "China",
                    "China",
                    "UK",
                    "Japan",
                    "USA",
                    "UK",
                    "France",
                    "France",
                    "UK",
                    "Brazil",
                    "UK",
                    "UK",
                    "UK",
                    "Australia",
                    "Russia",
                    "India",
                    "France",
                    "Brazil",
                    "China",
                    "China",
                    "China",
                    "UK",
                    "China",
                    "Germany",
                    "Brazil",
                    "Japan",
                    "Brazil",
                    "China",
                    "USA",
                    "USA",
                    "Australia",
                    "UK",
                    "Germany",
                    "India",
                    "France",
                    "UK",
                    "USA",
                    "Russia",
                    "Japan",
                    "USA",
                    "China",
                    "UK",
                    "India",
                    "Russia",
                    "Japan",
                    "Germany",
                    "Japan",
                    "France",
                    "UK",
                    "USA",
                    "Germany",
                    "France",
                    "UK",
                    "France",
                    "UK",
                    "Germany",
                    "Japan",
                    "Australia",
                    "Russia",
                    "USA",
                    "Russia",
                    "Germany",
                    "Russia",
                    "France",
                    "USA",
                    "India",
                    "UK",
                    "Australia",
                    "Australia",
                    "Japan",
                    "India",
                    "USA",
                    "UK",
                    "Russia",
                    "Germany",
                    "Russia",
                    "UK",
                    "India",
                    "USA",
                    "Russia",
                    "India",
                    "India",
                    "UK",
                    "UK",
                    "France",
                    "France",
                    "UK",
                    "China",
                    "France",
                    "France",
                    "Russia",
                    "France",
                    "Brazil",
                    "USA",
                    "Australia",
                    "India",
                    "Germany",
                    "USA",
                    "Japan",
                    "Germany",
                    "Australia",
                    "Germany",
                    "UK",
                    "India",
                    "China",
                    "China",
                    "India",
                    "Japan",
                    "China",
                    "France",
                    "India",
                    "Japan",
                    "Germany",
                    "USA",
                    "India",
                    "Russia",
                    "Russia",
                    "India",
                    "France",
                    "Japan",
                    "Germany",
                    "Germany",
                    "India",
                    "Germany",
                    "Germany",
                    "Brazil",
                    "Brazil",
                    "Germany",
                    "Russia",
                    "India",
                    "France",
                    "Brazil",
                    "Russia",
                    "Russia",
                    "Japan",
                    "Brazil",
                    "Australia",
                    "USA",
                    "France",
                    "Brazil",
                    "Australia",
                    "UK",
                    "France",
                    "Germany",
                    "Brazil",
                    "China",
                    "Japan",
                    "Japan",
                    "USA",
                    "UK",
                    "Germany",
                    "UK",
                    "Russia",
                    "Germany",
                    "China",
                    "France",
                    "Australia",
                    "Russia",
                    "Brazil",
                    "USA",
                    "China",
                    "Brazil",
                    "China",
                    "UK",
                    "Germany",
                    "Japan",
                    "Brazil",
                    "USA",
                    "Japan",
                    "India",
                    "France",
                    "UK",
                    "Japan",
                    "Russia",
                    "USA",
                    "China",
                    "Russia",
                    "Russia",
                    "France",
                    "Russia",
                    "France",
                    "France",
                    "France",
                    "France",
                    "Japan",
                    "Australia",
                    "Australia",
                    "Australia",
                    "Brazil",
                    "Germany",
                    "Brazil",
                    "China",
                    "Australia",
                    "China",
                    "UK",
                    "China",
                    "UK",
                    "Germany",
                    "France",
                    "France",
                    "India",
                    "USA",
                    "France",
                    "Germany",
                    "Japan",
                    "Russia",
                    "USA",
                    "Russia",
                    "Russia",
                    "Brazil",
                    "Russia",
                    "India",
                    "France",
                    "Japan",
                    "Russia",
                    "Brazil",
                    "Germany",
                    "Australia",
                    "Brazil",
                    "Russia",
                    "Germany",
                    "UK"
                  ],
                  "legendgroup": "Ransomware",
                  "marker": {
                    "color": "#EF553B",
                    "size": {
                      "bdata": "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",
                      "dtype": "f8"
                    },
                    "sizemode": "area",
                    "sizeref": 0.24997499999999997,
                    "symbol": "circle"
                  },
                  "mode": "markers",
                  "name": "Ransomware",
                  "showlegend": true,
                  "type": "scattergl",
                  "x": {
                    "bdata": "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",
                    "dtype": "i4"
                  },
                  "xaxis": "x",
                  "y": {
                    "bdata": "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",
                    "dtype": "f8"
                  },
                  "yaxis": "y"
                },
                {
                  "hovertemplate": "<b>%{hovertext}</b><br><br>Attack Type=Man-in-the-Middle<br>Number of Affected Users=%{x}<br>Financial Loss (in Million $)=%{marker.size}<extra></extra>",
                  "hovertext": [
                    "India",
                    "Germany",
                    "Germany",
                    "India",
                    "Russia",
                    "China",
                    "UK",
                    "UK",
                    "India",
                    "Russia",
                    "Germany",
                    "Japan",
                    "France",
                    "Brazil",
                    "Japan",
                    "Australia",
                    "Germany",
                    "France",
                    "China",
                    "Japan",
                    "UK",
                    "USA",
                    "Australia",
                    "USA",
                    "Australia",
                    "India",
                    "Australia",
                    "Australia",
                    "Japan",
                    "India",
                    "Australia",
                    "China",
                    "Russia",
                    "Brazil",
                    "USA",
                    "Japan",
                    "Russia",
                    "Germany",
                    "India",
                    "Brazil",
                    "India",
                    "Russia",
                    "Brazil",
                    "Japan",
                    "Brazil",
                    "Brazil",
                    "Japan",
                    "China",
                    "India",
                    "Brazil",
                    "Russia",
                    "UK",
                    "Australia",
                    "Japan",
                    "India",
                    "UK",
                    "UK",
                    "France",
                    "Germany",
                    "Germany",
                    "Japan",
                    "Russia",
                    "China",
                    "Japan",
                    "Russia",
                    "Australia",
                    "Japan",
                    "Japan",
                    "USA",
                    "China",
                    "USA",
                    "Japan",
                    "Germany",
                    "China",
                    "USA",
                    "Japan",
                    "Brazil",
                    "France",
                    "Germany",
                    "Brazil",
                    "UK",
                    "India",
                    "India",
                    "Japan",
                    "Australia",
                    "Australia",
                    "UK",
                    "USA",
                    "Japan",
                    "India",
                    "UK",
                    "UK",
                    "Brazil",
                    "UK",
                    "Germany",
                    "UK",
                    "Germany",
                    "France",
                    "Russia",
                    "Brazil",
                    "Brazil",
                    "India",
                    "Brazil",
                    "USA",
                    "UK",
                    "China",
                    "UK",
                    "Australia",
                    "Japan",
                    "Australia",
                    "UK",
                    "Russia",
                    "Brazil",
                    "UK",
                    "USA",
                    "Brazil",
                    "UK",
                    "Australia",
                    "USA",
                    "France",
                    "Japan",
                    "USA",
                    "France",
                    "Russia",
                    "Germany",
                    "France",
                    "Japan",
                    "Japan",
                    "France",
                    "France",
                    "Russia",
                    "Australia",
                    "France",
                    "Brazil",
                    "Russia",
                    "Australia",
                    "China",
                    "Brazil",
                    "UK",
                    "Brazil",
                    "France",
                    "China",
                    "USA",
                    "Russia",
                    "Russia",
                    "China",
                    "France",
                    "Brazil",
                    "Russia",
                    "UK",
                    "France",
                    "India",
                    "Russia",
                    "Australia",
                    "Australia",
                    "Russia",
                    "India",
                    "UK",
                    "Brazil",
                    "Russia",
                    "Brazil",
                    "France",
                    "Germany",
                    "France",
                    "China",
                    "France",
                    "India",
                    "France",
                    "Australia",
                    "Japan",
                    "India",
                    "Australia",
                    "India",
                    "Germany",
                    "China",
                    "France",
                    "Germany",
                    "Brazil",
                    "China",
                    "UK",
                    "Japan",
                    "Japan",
                    "Germany",
                    "Russia",
                    "USA",
                    "USA",
                    "Germany",
                    "Germany",
                    "Australia",
                    "Germany",
                    "Japan",
                    "Australia",
                    "Japan",
                    "France",
                    "France",
                    "USA",
                    "Russia",
                    "China",
                    "Germany",
                    "India",
                    "Germany",
                    "Russia",
                    "Russia",
                    "Brazil",
                    "Russia",
                    "Germany",
                    "Japan",
                    "USA",
                    "USA",
                    "China",
                    "Japan",
                    "Russia",
                    "Australia",
                    "USA",
                    "UK",
                    "China",
                    "France",
                    "USA",
                    "Russia",
                    "France",
                    "China",
                    "UK",
                    "India",
                    "China",
                    "France",
                    "Brazil",
                    "USA",
                    "UK",
                    "UK",
                    "India",
                    "Russia",
                    "Russia",
                    "France",
                    "France",
                    "Russia",
                    "UK",
                    "Australia",
                    "Germany",
                    "Brazil",
                    "India",
                    "China",
                    "India",
                    "Japan",
                    "Russia",
                    "UK",
                    "Japan",
                    "USA",
                    "Australia",
                    "France",
                    "Germany",
                    "Germany",
                    "Germany",
                    "France",
                    "Russia",
                    "Japan",
                    "UK",
                    "Russia",
                    "Brazil",
                    "UK",
                    "Russia",
                    "USA",
                    "India",
                    "Russia",
                    "India",
                    "Brazil",
                    "Australia",
                    "Australia",
                    "Russia",
                    "Germany",
                    "USA",
                    "Japan",
                    "USA",
                    "UK",
                    "UK",
                    "Japan",
                    "China",
                    "Germany",
                    "UK",
                    "Australia",
                    "India",
                    "Australia",
                    "Japan",
                    "Brazil",
                    "India",
                    "India",
                    "China",
                    "Australia",
                    "Brazil",
                    "Australia",
                    "Japan",
                    "USA",
                    "Australia",
                    "Japan",
                    "UK",
                    "China",
                    "UK",
                    "Japan",
                    "France",
                    "France",
                    "Russia",
                    "India",
                    "UK",
                    "France",
                    "India",
                    "UK",
                    "Australia",
                    "Japan",
                    "China",
                    "Brazil",
                    "China",
                    "China",
                    "Germany",
                    "USA",
                    "Japan",
                    "China",
                    "India",
                    "Russia",
                    "Australia",
                    "USA",
                    "Brazil",
                    "China",
                    "China",
                    "Germany",
                    "Australia",
                    "Russia",
                    "Brazil",
                    "Russia",
                    "USA",
                    "Brazil",
                    "France",
                    "Japan",
                    "Australia",
                    "Russia",
                    "UK",
                    "Australia",
                    "USA",
                    "Japan",
                    "USA",
                    "Germany",
                    "Brazil",
                    "Germany",
                    "Russia",
                    "India",
                    "UK",
                    "China",
                    "Japan",
                    "India",
                    "Australia",
                    "China",
                    "UK",
                    "France",
                    "Brazil",
                    "Brazil",
                    "China",
                    "India",
                    "Japan",
                    "China",
                    "UK",
                    "Russia",
                    "Brazil",
                    "Russia",
                    "Japan",
                    "Japan",
                    "Germany",
                    "USA",
                    "UK",
                    "Brazil",
                    "UK",
                    "Australia",
                    "USA",
                    "Australia",
                    "UK",
                    "Brazil",
                    "China",
                    "Germany",
                    "Germany",
                    "Japan",
                    "China",
                    "Australia",
                    "India",
                    "USA",
                    "USA",
                    "Japan",
                    "Australia",
                    "China",
                    "India",
                    "USA",
                    "India",
                    "Germany",
                    "China",
                    "India",
                    "China",
                    "Japan",
                    "Australia",
                    "Russia",
                    "Brazil",
                    "Russia",
                    "India",
                    "Germany",
                    "France",
                    "Japan",
                    "Germany",
                    "Germany",
                    "China",
                    "India",
                    "Japan",
                    "Japan",
                    "Russia",
                    "Germany",
                    "China",
                    "Russia",
                    "Germany",
                    "Australia",
                    "Japan",
                    "USA",
                    "Australia",
                    "Brazil",
                    "India",
                    "USA",
                    "China",
                    "Australia",
                    "USA",
                    "India",
                    "Brazil",
                    "India",
                    "Germany",
                    "China",
                    "UK",
                    "Japan",
                    "UK",
                    "France",
                    "USA",
                    "India",
                    "France",
                    "UK",
                    "China",
                    "UK",
                    "Germany",
                    "Germany",
                    "UK",
                    "Germany",
                    "Russia",
                    "Germany",
                    "Germany",
                    "France",
                    "Japan",
                    "Germany",
                    "France",
                    "Brazil",
                    "Japan",
                    "China",
                    "India",
                    "UK",
                    "USA",
                    "Russia",
                    "India",
                    "Brazil",
                    "Japan",
                    "Germany"
                  ],
                  "legendgroup": "Man-in-the-Middle",
                  "marker": {
                    "color": "#00cc96",
                    "size": {
                      "bdata": "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",
                      "dtype": "f8"
                    },
                    "sizemode": "area",
                    "sizeref": 0.24997499999999997,
                    "symbol": "circle"
                  },
                  "mode": "markers",
                  "name": "Man-in-the-Middle",
                  "showlegend": true,
                  "type": "scattergl",
                  "x": {
                    "bdata": "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",
                    "dtype": "i4"
                  },
                  "xaxis": "x",
                  "y": {
                    "bdata": "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",
                    "dtype": "f8"
                  },
                  "yaxis": "y"
                },
                {
                  "hovertemplate": "<b>%{hovertext}</b><br><br>Attack Type=DDoS<br>Number of Affected Users=%{x}<br>Financial Loss (in Million $)=%{marker.size}<extra></extra>",
                  "hovertext": [
                    "Germany",
                    "UK",
                    "France",
                    "France",
                    "India",
                    "India",
                    "India",
                    "Brazil",
                    "Australia",
                    "USA",
                    "Brazil",
                    "Russia",
                    "USA",
                    "Australia",
                    "India",
                    "USA",
                    "India",
                    "India",
                    "India",
                    "UK",
                    "France",
                    "Brazil",
                    "Brazil",
                    "UK",
                    "Brazil",
                    "UK",
                    "UK",
                    "France",
                    "UK",
                    "Brazil",
                    "Japan",
                    "India",
                    "Germany",
                    "Germany",
                    "Australia",
                    "Brazil",
                    "Australia",
                    "Russia",
                    "Japan",
                    "UK",
                    "India",
                    "Germany",
                    "USA",
                    "Japan",
                    "China",
                    "Australia",
                    "China",
                    "Brazil",
                    "UK",
                    "Japan",
                    "India",
                    "France",
                    "Russia",
                    "Japan",
                    "India",
                    "India",
                    "UK",
                    "UK",
                    "UK",
                    "Germany",
                    "Brazil",
                    "Australia",
                    "France",
                    "Brazil",
                    "China",
                    "UK",
                    "Japan",
                    "USA",
                    "UK",
                    "Russia",
                    "Brazil",
                    "Japan",
                    "India",
                    "China",
                    "Japan",
                    "India",
                    "France",
                    "France",
                    "India",
                    "Brazil",
                    "Germany",
                    "India",
                    "Australia",
                    "Brazil",
                    "USA",
                    "Germany",
                    "Germany",
                    "India",
                    "Brazil",
                    "Australia",
                    "Brazil",
                    "Russia",
                    "Australia",
                    "China",
                    "Germany",
                    "Russia",
                    "China",
                    "Brazil",
                    "Russia",
                    "France",
                    "Germany",
                    "USA",
                    "Russia",
                    "USA",
                    "France",
                    "China",
                    "USA",
                    "Australia",
                    "UK",
                    "India",
                    "Brazil",
                    "Australia",
                    "USA",
                    "France",
                    "UK",
                    "Brazil",
                    "USA",
                    "UK",
                    "Japan",
                    "UK",
                    "France",
                    "Russia",
                    "UK",
                    "China",
                    "France",
                    "Russia",
                    "France",
                    "UK",
                    "UK",
                    "Australia",
                    "France",
                    "China",
                    "France",
                    "Australia",
                    "Japan",
                    "Japan",
                    "Brazil",
                    "China",
                    "USA",
                    "Australia",
                    "Germany",
                    "China",
                    "UK",
                    "China",
                    "UK",
                    "India",
                    "Russia",
                    "Brazil",
                    "China",
                    "Brazil",
                    "India",
                    "France",
                    "Germany",
                    "UK",
                    "Japan",
                    "India",
                    "Japan",
                    "Australia",
                    "France",
                    "USA",
                    "China",
                    "Russia",
                    "France",
                    "Japan",
                    "China",
                    "Brazil",
                    "USA",
                    "Japan",
                    "USA",
                    "India",
                    "Germany",
                    "UK",
                    "Brazil",
                    "Australia",
                    "Germany",
                    "Russia",
                    "Russia",
                    "UK",
                    "Russia",
                    "France",
                    "UK",
                    "Russia",
                    "China",
                    "India",
                    "China",
                    "China",
                    "Australia",
                    "Japan",
                    "Russia",
                    "USA",
                    "Japan",
                    "Japan",
                    "UK",
                    "Brazil",
                    "Japan",
                    "Germany",
                    "Australia",
                    "UK",
                    "Australia",
                    "Brazil",
                    "Australia",
                    "Australia",
                    "France",
                    "Russia",
                    "Australia",
                    "France",
                    "UK",
                    "UK",
                    "Brazil",
                    "India",
                    "Brazil",
                    "Japan",
                    "Australia",
                    "Brazil",
                    "USA",
                    "Brazil",
                    "UK",
                    "Brazil",
                    "Germany",
                    "Australia",
                    "Germany",
                    "Russia",
                    "Russia",
                    "USA",
                    "France",
                    "China",
                    "UK",
                    "Germany",
                    "Brazil",
                    "Brazil",
                    "Australia",
                    "USA",
                    "UK",
                    "India",
                    "Germany",
                    "France",
                    "Brazil",
                    "Japan",
                    "India",
                    "Brazil",
                    "India",
                    "France",
                    "USA",
                    "Japan",
                    "Russia",
                    "Brazil",
                    "Brazil",
                    "USA",
                    "France",
                    "Australia",
                    "Russia",
                    "Japan",
                    "Russia",
                    "USA",
                    "Brazil",
                    "Australia",
                    "Brazil",
                    "India",
                    "USA",
                    "Russia",
                    "Australia",
                    "USA",
                    "UK",
                    "China",
                    "India",
                    "India",
                    "France",
                    "Japan",
                    "Brazil",
                    "Australia",
                    "China",
                    "China",
                    "Russia",
                    "Australia",
                    "China",
                    "Russia",
                    "USA",
                    "Japan",
                    "USA",
                    "USA",
                    "Japan",
                    "Germany",
                    "Russia",
                    "Brazil",
                    "Japan",
                    "China",
                    "Russia",
                    "China",
                    "USA",
                    "Brazil",
                    "China",
                    "Japan",
                    "UK",
                    "USA",
                    "France",
                    "Russia",
                    "China",
                    "Brazil",
                    "China",
                    "Australia",
                    "USA",
                    "USA",
                    "Brazil",
                    "USA",
                    "France",
                    "China",
                    "China",
                    "Germany",
                    "Japan",
                    "India",
                    "China",
                    "Australia",
                    "Germany",
                    "UK",
                    "France",
                    "USA",
                    "USA",
                    "Brazil",
                    "Australia",
                    "USA",
                    "India",
                    "China",
                    "USA",
                    "France",
                    "China",
                    "Russia",
                    "Japan",
                    "France",
                    "Australia",
                    "Russia",
                    "Japan",
                    "Germany",
                    "Germany",
                    "France",
                    "Australia",
                    "Brazil",
                    "USA",
                    "France",
                    "Brazil",
                    "France",
                    "Germany",
                    "China",
                    "China",
                    "India",
                    "Japan",
                    "USA",
                    "UK",
                    "France",
                    "Australia",
                    "Brazil",
                    "Australia",
                    "India",
                    "UK",
                    "USA",
                    "USA",
                    "India",
                    "UK",
                    "Australia",
                    "UK",
                    "USA",
                    "China",
                    "Russia",
                    "UK",
                    "Germany",
                    "Japan",
                    "Russia",
                    "Australia",
                    "Brazil",
                    "UK",
                    "USA",
                    "France",
                    "Japan",
                    "Japan",
                    "France",
                    "USA",
                    "Japan",
                    "Brazil",
                    "Germany",
                    "Russia",
                    "Australia",
                    "France",
                    "Brazil",
                    "UK",
                    "Germany",
                    "Australia",
                    "Japan",
                    "Australia",
                    "China",
                    "Russia",
                    "Japan",
                    "India",
                    "Russia",
                    "Brazil",
                    "Brazil",
                    "UK",
                    "China",
                    "Japan",
                    "Australia",
                    "France",
                    "UK",
                    "Germany",
                    "Russia",
                    "Japan",
                    "Russia",
                    "India",
                    "Brazil",
                    "USA",
                    "China",
                    "Japan",
                    "USA",
                    "Russia",
                    "China",
                    "Australia",
                    "USA",
                    "Germany",
                    "Russia",
                    "Germany",
                    "China",
                    "Australia",
                    "Germany",
                    "Russia",
                    "India",
                    "India",
                    "UK",
                    "India",
                    "India",
                    "India",
                    "Brazil",
                    "Germany",
                    "USA",
                    "UK",
                    "Brazil",
                    "Russia",
                    "Japan",
                    "UK",
                    "Russia",
                    "Russia",
                    "USA",
                    "Brazil",
                    "USA",
                    "UK",
                    "Russia",
                    "France",
                    "India",
                    "USA",
                    "USA",
                    "Brazil",
                    "China",
                    "Japan",
                    "Germany",
                    "Brazil",
                    "Russia",
                    "USA",
                    "India",
                    "France",
                    "UK",
                    "Russia",
                    "Brazil",
                    "USA",
                    "India",
                    "India",
                    "China",
                    "Germany",
                    "Australia",
                    "Australia",
                    "China",
                    "Japan",
                    "UK",
                    "Australia",
                    "Australia",
                    "UK",
                    "UK",
                    "Germany",
                    "Australia",
                    "China",
                    "Germany",
                    "USA",
                    "USA",
                    "Russia",
                    "Germany",
                    "France",
                    "USA",
                    "Japan",
                    "Germany",
                    "Australia",
                    "France",
                    "India",
                    "Russia",
                    "China",
                    "Australia",
                    "India",
                    "Australia",
                    "Australia",
                    "India",
                    "Australia",
                    "France",
                    "China",
                    "USA",
                    "Australia",
                    "Russia",
                    "France",
                    "Japan",
                    "China",
                    "France",
                    "UK",
                    "France",
                    "Japan",
                    "Russia",
                    "USA",
                    "Japan",
                    "USA",
                    "Australia",
                    "France",
                    "Brazil",
                    "France",
                    "Australia",
                    "Australia",
                    "Germany",
                    "Australia",
                    "Germany",
                    "Japan",
                    "Germany",
                    "Brazil",
                    "Germany",
                    "USA",
                    "UK",
                    "Russia",
                    "Russia",
                    "India",
                    "Russia",
                    "Australia"
                  ],
                  "legendgroup": "DDoS",
                  "marker": {
                    "color": "#ab63fa",
                    "size": {
                      "bdata": "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",
                      "dtype": "f8"
                    },
                    "sizemode": "area",
                    "sizeref": 0.24997499999999997,
                    "symbol": "circle"
                  },
                  "mode": "markers",
                  "name": "DDoS",
                  "showlegend": true,
                  "type": "scattergl",
                  "x": {
                    "bdata": "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",
                    "dtype": "i4"
                  },
                  "xaxis": "x",
                  "y": {
                    "bdata": "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",
                    "dtype": "f8"
                  },
                  "yaxis": "y"
                },
                {
                  "hovertemplate": "<b>%{hovertext}</b><br><br>Attack Type=SQL Injection<br>Number of Affected Users=%{x}<br>Financial Loss (in Million $)=%{marker.size}<extra></extra>",
                  "hovertext": [
                    "France",
                    "China",
                    "UK",
                    "India",
                    "Japan",
                    "India",
                    "Australia",
                    "Russia",
                    "India",
                    "Australia",
                    "Japan",
                    "Germany",
                    "UK",
                    "USA",
                    "UK",
                    "France",
                    "France",
                    "France",
                    "Brazil",
                    "Japan",
                    "Russia",
                    "UK",
                    "Germany",
                    "Russia",
                    "Brazil",
                    "USA",
                    "UK",
                    "Russia",
                    "Japan",
                    "Russia",
                    "France",
                    "Australia",
                    "Japan",
                    "Brazil",
                    "UK",
                    "France",
                    "Brazil",
                    "Russia",
                    "UK",
                    "Germany",
                    "Japan",
                    "Russia",
                    "Brazil",
                    "Russia",
                    "France",
                    "Brazil",
                    "France",
                    "UK",
                    "Japan",
                    "India",
                    "UK",
                    "Brazil",
                    "France",
                    "France",
                    "France",
                    "India",
                    "Germany",
                    "Germany",
                    "France",
                    "Germany",
                    "USA",
                    "UK",
                    "Russia",
                    "Brazil",
                    "Australia",
                    "Japan",
                    "Brazil",
                    "Germany",
                    "France",
                    "France",
                    "Germany",
                    "Germany",
                    "India",
                    "UK",
                    "Australia",
                    "UK",
                    "Brazil",
                    "USA",
                    "Russia",
                    "China",
                    "China",
                    "Russia",
                    "Brazil",
                    "Australia",
                    "Australia",
                    "France",
                    "USA",
                    "Japan",
                    "USA",
                    "Germany",
                    "India",
                    "USA",
                    "UK",
                    "USA",
                    "UK",
                    "Japan",
                    "Australia",
                    "Germany",
                    "France",
                    "Japan",
                    "USA",
                    "USA",
                    "UK",
                    "France",
                    "Brazil",
                    "France",
                    "Germany",
                    "China",
                    "China",
                    "Russia",
                    "India",
                    "Australia",
                    "UK",
                    "Germany",
                    "Japan",
                    "Australia",
                    "France",
                    "France",
                    "India",
                    "India",
                    "Japan",
                    "India",
                    "UK",
                    "Germany",
                    "India",
                    "Germany",
                    "Brazil",
                    "Russia",
                    "USA",
                    "Australia",
                    "UK",
                    "Germany",
                    "Brazil",
                    "UK",
                    "USA",
                    "Germany",
                    "France",
                    "India",
                    "Japan",
                    "Germany",
                    "Brazil",
                    "USA",
                    "Japan",
                    "Germany",
                    "India",
                    "India",
                    "Brazil",
                    "Japan",
                    "USA",
                    "Germany",
                    "UK",
                    "Australia",
                    "USA",
                    "USA",
                    "France",
                    "Australia",
                    "China",
                    "France",
                    "India",
                    "Japan",
                    "France",
                    "Japan",
                    "Japan",
                    "Russia",
                    "Russia",
                    "France",
                    "Japan",
                    "India",
                    "Russia",
                    "France",
                    "Australia",
                    "Australia",
                    "Germany",
                    "Germany",
                    "USA",
                    "USA",
                    "Brazil",
                    "India",
                    "Japan",
                    "Germany",
                    "Australia",
                    "China",
                    "Brazil",
                    "USA",
                    "France",
                    "UK",
                    "France",
                    "Brazil",
                    "Japan",
                    "China",
                    "Australia",
                    "China",
                    "India",
                    "UK",
                    "Japan",
                    "India",
                    "Japan",
                    "China",
                    "UK",
                    "Germany",
                    "USA",
                    "Australia",
                    "India",
                    "India",
                    "China",
                    "Germany",
                    "USA",
                    "UK",
                    "Germany",
                    "UK",
                    "UK",
                    "Germany",
                    "Japan",
                    "Japan",
                    "Brazil",
                    "Australia",
                    "France",
                    "Russia",
                    "India",
                    "Germany",
                    "Germany",
                    "Germany",
                    "Germany",
                    "China",
                    "UK",
                    "India",
                    "China",
                    "India",
                    "India",
                    "Brazil",
                    "France",
                    "USA",
                    "Australia",
                    "Brazil",
                    "Australia",
                    "USA",
                    "Germany",
                    "India",
                    "UK",
                    "USA",
                    "Germany",
                    "China",
                    "India",
                    "Australia",
                    "UK",
                    "Russia",
                    "USA",
                    "India",
                    "Brazil",
                    "Japan",
                    "Russia",
                    "Russia",
                    "India",
                    "Brazil",
                    "Australia",
                    "France",
                    "Brazil",
                    "Brazil",
                    "China",
                    "India",
                    "Germany",
                    "India",
                    "Brazil",
                    "France",
                    "Germany",
                    "France",
                    "China",
                    "China",
                    "Brazil",
                    "China",
                    "China",
                    "Japan",
                    "India",
                    "China",
                    "India",
                    "UK",
                    "France",
                    "Brazil",
                    "Russia",
                    "Japan",
                    "Brazil",
                    "China",
                    "Russia",
                    "Germany",
                    "France",
                    "Australia",
                    "India",
                    "Australia",
                    "Japan",
                    "Brazil",
                    "China",
                    "India",
                    "Brazil",
                    "China",
                    "Russia",
                    "India",
                    "USA",
                    "France",
                    "Japan",
                    "Brazil",
                    "Russia",
                    "France",
                    "Brazil",
                    "China",
                    "Australia",
                    "Russia",
                    "Japan",
                    "Brazil",
                    "Brazil",
                    "UK",
                    "Japan",
                    "USA",
                    "Australia",
                    "Japan",
                    "Germany",
                    "Russia",
                    "USA",
                    "China",
                    "Australia",
                    "Brazil",
                    "Japan",
                    "Japan",
                    "USA",
                    "China",
                    "France",
                    "France",
                    "Brazil",
                    "Japan",
                    "Germany",
                    "India",
                    "Russia",
                    "Germany",
                    "Germany",
                    "UK",
                    "UK",
                    "China",
                    "Australia",
                    "India",
                    "Japan",
                    "India",
                    "Japan",
                    "USA",
                    "Germany",
                    "Japan",
                    "USA",
                    "Germany",
                    "Brazil",
                    "USA",
                    "Germany",
                    "France",
                    "France",
                    "India",
                    "Japan",
                    "Germany",
                    "France",
                    "China",
                    "Australia",
                    "Germany",
                    "India",
                    "Brazil",
                    "UK",
                    "Germany",
                    "India",
                    "India",
                    "Germany",
                    "Germany",
                    "Brazil",
                    "Germany",
                    "Germany",
                    "Brazil",
                    "Japan",
                    "Japan",
                    "Germany",
                    "UK",
                    "India",
                    "USA",
                    "UK",
                    "UK",
                    "UK",
                    "UK",
                    "Germany",
                    "USA",
                    "Brazil",
                    "Russia",
                    "Japan",
                    "India",
                    "China",
                    "China",
                    "Australia",
                    "Russia",
                    "China",
                    "Brazil",
                    "Japan",
                    "China",
                    "France",
                    "Japan",
                    "China",
                    "India",
                    "France",
                    "China",
                    "China",
                    "Australia",
                    "China",
                    "Japan",
                    "Russia",
                    "Brazil",
                    "UK",
                    "Brazil",
                    "Brazil",
                    "Brazil",
                    "Russia",
                    "China",
                    "China",
                    "Australia",
                    "UK",
                    "USA",
                    "Russia",
                    "Germany",
                    "Australia",
                    "Germany",
                    "France",
                    "Japan",
                    "Australia",
                    "Russia",
                    "China",
                    "Russia",
                    "Brazil",
                    "France",
                    "Japan",
                    "Germany",
                    "Russia",
                    "Brazil",
                    "Japan",
                    "UK",
                    "Germany",
                    "Australia",
                    "India",
                    "Russia",
                    "China",
                    "Germany",
                    "China",
                    "Russia",
                    "Russia",
                    "Russia",
                    "Brazil",
                    "Australia",
                    "Japan",
                    "Brazil",
                    "UK",
                    "Japan",
                    "USA",
                    "France",
                    "Brazil",
                    "Australia",
                    "France",
                    "India",
                    "Brazil",
                    "Japan",
                    "Russia",
                    "UK",
                    "France",
                    "UK",
                    "Germany",
                    "Japan",
                    "France",
                    "India",
                    "Russia",
                    "Germany",
                    "India",
                    "China",
                    "France",
                    "Brazil",
                    "India",
                    "Russia",
                    "India",
                    "India",
                    "Russia",
                    "Australia",
                    "Russia",
                    "China",
                    "France",
                    "UK",
                    "UK",
                    "Russia",
                    "UK",
                    "Germany",
                    "France",
                    "Russia",
                    "China",
                    "Russia",
                    "USA",
                    "France",
                    "India",
                    "Russia",
                    "France",
                    "China",
                    "Russia",
                    "USA",
                    "Germany",
                    "Brazil",
                    "Brazil",
                    "UK",
                    "Germany"
                  ],
                  "legendgroup": "SQL Injection",
                  "marker": {
                    "color": "#FFA15A",
                    "size": {
                      "bdata": "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",
                      "dtype": "f8"
                    },
                    "sizemode": "area",
                    "sizeref": 0.24997499999999997,
                    "symbol": "circle"
                  },
                  "mode": "markers",
                  "name": "SQL Injection",
                  "showlegend": true,
                  "type": "scattergl",
                  "x": {
                    "bdata": "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",
                    "dtype": "i4"
                  },
                  "xaxis": "x",
                  "y": {
                    "bdata": "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",
                    "dtype": "f8"
                  },
                  "yaxis": "y"
                },
                {
                  "hovertemplate": "<b>%{hovertext}</b><br><br>Attack Type=Malware<br>Number of Affected Users=%{x}<br>Financial Loss (in Million $)=%{marker.size}<extra></extra>",
                  "hovertext": [
                    "UK",
                    "Japan",
                    "France",
                    "France",
                    "France",
                    "Australia",
                    "UK",
                    "UK",
                    "China",
                    "Australia",
                    "Brazil",
                    "Australia",
                    "Japan",
                    "France",
                    "Australia",
                    "Japan",
                    "Australia",
                    "Brazil",
                    "UK",
                    "Russia",
                    "USA",
                    "Russia",
                    "Russia",
                    "Australia",
                    "Russia",
                    "Germany",
                    "China",
                    "Japan",
                    "France",
                    "Germany",
                    "Australia",
                    "USA",
                    "China",
                    "France",
                    "India",
                    "Australia",
                    "Russia",
                    "Russia",
                    "Brazil",
                    "Brazil",
                    "Brazil",
                    "USA",
                    "Brazil",
                    "Germany",
                    "Brazil",
                    "Brazil",
                    "USA",
                    "Japan",
                    "France",
                    "India",
                    "Germany",
                    "Japan",
                    "Russia",
                    "China",
                    "Russia",
                    "France",
                    "USA",
                    "Germany",
                    "Russia",
                    "China",
                    "France",
                    "India",
                    "India",
                    "India",
                    "USA",
                    "China",
                    "Australia",
                    "Germany",
                    "Japan",
                    "India",
                    "UK",
                    "Brazil",
                    "USA",
                    "Russia",
                    "Germany",
                    "USA",
                    "Australia",
                    "China",
                    "Australia",
                    "UK",
                    "France",
                    "Australia",
                    "UK",
                    "Australia",
                    "Germany",
                    "France",
                    "Russia",
                    "Japan",
                    "India",
                    "UK",
                    "Brazil",
                    "Russia",
                    "Australia",
                    "Russia",
                    "Brazil",
                    "Australia",
                    "India",
                    "USA",
                    "China",
                    "France",
                    "China",
                    "Germany",
                    "India",
                    "UK",
                    "Germany",
                    "UK",
                    "Brazil",
                    "China",
                    "UK",
                    "Brazil",
                    "Japan",
                    "Japan",
                    "Russia",
                    "Australia",
                    "India",
                    "China",
                    "Australia",
                    "Australia",
                    "China",
                    "Brazil",
                    "Brazil",
                    "USA",
                    "China",
                    "Germany",
                    "Brazil",
                    "Japan",
                    "Brazil",
                    "USA",
                    "Australia",
                    "India",
                    "Australia",
                    "UK",
                    "France",
                    "China",
                    "Japan",
                    "USA",
                    "USA",
                    "Australia",
                    "China",
                    "UK",
                    "Russia",
                    "France",
                    "China",
                    "China",
                    "China",
                    "Brazil",
                    "China",
                    "China",
                    "Japan",
                    "India",
                    "Brazil",
                    "Russia",
                    "Brazil",
                    "Australia",
                    "UK",
                    "Germany",
                    "UK",
                    "India",
                    "France",
                    "Japan",
                    "China",
                    "China",
                    "Russia",
                    "China",
                    "Australia",
                    "UK",
                    "Germany",
                    "UK",
                    "USA",
                    "India",
                    "France",
                    "Japan",
                    "India",
                    "UK",
                    "France",
                    "Japan",
                    "UK",
                    "Russia",
                    "Australia",
                    "Russia",
                    "Germany",
                    "Australia",
                    "Australia",
                    "Australia",
                    "Australia",
                    "China",
                    "Russia",
                    "UK",
                    "Australia",
                    "India",
                    "Australia",
                    "India",
                    "Australia",
                    "France",
                    "UK",
                    "Japan",
                    "Japan",
                    "Russia",
                    "Russia",
                    "India",
                    "Germany",
                    "Japan",
                    "China",
                    "France",
                    "Australia",
                    "Japan",
                    "Australia",
                    "Germany",
                    "USA",
                    "India",
                    "USA",
                    "Germany",
                    "Japan",
                    "UK",
                    "Japan",
                    "UK",
                    "USA",
                    "Australia",
                    "Germany",
                    "India",
                    "Brazil",
                    "Japan",
                    "USA",
                    "India",
                    "Japan",
                    "Australia",
                    "China",
                    "Japan",
                    "UK",
                    "France",
                    "Australia",
                    "France",
                    "Russia",
                    "USA",
                    "France",
                    "Australia",
                    "Australia",
                    "China",
                    "Germany",
                    "UK",
                    "France",
                    "Australia",
                    "France",
                    "France",
                    "Germany",
                    "UK",
                    "UK",
                    "China",
                    "Japan",
                    "UK",
                    "India",
                    "Japan",
                    "Japan",
                    "Russia",
                    "France",
                    "France",
                    "USA",
                    "USA",
                    "Russia",
                    "France",
                    "India",
                    "Brazil",
                    "Japan",
                    "Australia",
                    "Germany",
                    "Japan",
                    "Brazil",
                    "USA",
                    "Australia",
                    "Brazil",
                    "India",
                    "India",
                    "Brazil",
                    "India",
                    "Australia",
                    "India",
                    "UK",
                    "USA",
                    "China",
                    "Australia",
                    "Japan",
                    "USA",
                    "Germany",
                    "China",
                    "China",
                    "UK",
                    "UK",
                    "UK",
                    "Russia",
                    "UK",
                    "Japan",
                    "Russia",
                    "UK",
                    "Australia",
                    "Germany",
                    "France",
                    "UK",
                    "Brazil",
                    "Australia",
                    "India",
                    "Australia",
                    "Japan",
                    "Brazil",
                    "Germany",
                    "Japan",
                    "Germany",
                    "USA",
                    "China",
                    "Brazil",
                    "Germany",
                    "France",
                    "Brazil",
                    "France",
                    "France",
                    "India",
                    "Brazil",
                    "Germany",
                    "Brazil",
                    "Brazil",
                    "France",
                    "Australia",
                    "Japan",
                    "UK",
                    "Japan",
                    "France",
                    "China",
                    "UK",
                    "India",
                    "Japan",
                    "Japan",
                    "Germany",
                    "China",
                    "Brazil",
                    "India",
                    "Germany",
                    "Australia",
                    "Germany",
                    "Russia",
                    "France",
                    "Germany",
                    "India",
                    "USA",
                    "Russia",
                    "Brazil",
                    "India",
                    "Australia",
                    "France",
                    "Germany",
                    "China",
                    "Brazil",
                    "Russia",
                    "Japan",
                    "Germany",
                    "Russia",
                    "France",
                    "France",
                    "Australia",
                    "Australia",
                    "Japan",
                    "Australia",
                    "UK",
                    "UK",
                    "China",
                    "India",
                    "India",
                    "UK",
                    "France",
                    "China",
                    "UK",
                    "France",
                    "Brazil",
                    "UK",
                    "USA",
                    "UK",
                    "Russia",
                    "Brazil",
                    "Germany",
                    "Australia",
                    "Russia",
                    "Brazil",
                    "USA",
                    "Australia",
                    "China",
                    "Brazil",
                    "India",
                    "India",
                    "UK",
                    "Brazil",
                    "Germany",
                    "Japan",
                    "Australia",
                    "Brazil",
                    "Germany",
                    "Australia",
                    "USA",
                    "China",
                    "France",
                    "Russia",
                    "USA",
                    "USA",
                    "UK",
                    "USA",
                    "Russia",
                    "Brazil",
                    "Brazil",
                    "Japan",
                    "Brazil",
                    "UK",
                    "Russia",
                    "India",
                    "Germany",
                    "USA",
                    "India",
                    "USA",
                    "India",
                    "India",
                    "Brazil",
                    "Japan",
                    "China",
                    "USA",
                    "India",
                    "Japan",
                    "USA",
                    "Australia",
                    "Australia",
                    "Japan",
                    "Russia",
                    "USA",
                    "China",
                    "USA",
                    "Brazil",
                    "UK",
                    "France",
                    "Germany",
                    "Brazil",
                    "France",
                    "USA",
                    "Germany",
                    "Brazil",
                    "UK",
                    "Russia",
                    "USA",
                    "India",
                    "India",
                    "Japan",
                    "USA",
                    "Australia",
                    "France",
                    "Russia",
                    "Japan",
                    "UK",
                    "France",
                    "UK",
                    "Germany",
                    "Russia",
                    "UK",
                    "Japan",
                    "China",
                    "Russia",
                    "Germany",
                    "Germany",
                    "France",
                    "China",
                    "Brazil",
                    "Australia",
                    "India",
                    "India",
                    "Russia",
                    "Russia",
                    "Australia",
                    "USA",
                    "Russia",
                    "Brazil",
                    "Japan",
                    "Germany",
                    "Russia",
                    "Russia",
                    "France",
                    "UK",
                    "Germany",
                    "India",
                    "China",
                    "Germany",
                    "Brazil",
                    "UK"
                  ],
                  "legendgroup": "Malware",
                  "marker": {
                    "color": "#19d3f3",
                    "size": {
                      "bdata": "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",
                      "dtype": "f8"
                    },
                    "sizemode": "area",
                    "sizeref": 0.24997499999999997,
                    "symbol": "circle"
                  },
                  "mode": "markers",
                  "name": "Malware",
                  "showlegend": true,
                  "type": "scattergl",
                  "x": {
                    "bdata": "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",
                    "dtype": "i4"
                  },
                  "xaxis": "x",
                  "y": {
                    "bdata": "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",
                    "dtype": "f8"
                  },
                  "yaxis": "y"
                }
              ],
              "layout": {
                "legend": {
                  "itemsizing": "constant",
                  "title": {
                    "text": "Attack Type"
                  },
                  "tracegroupgap": 0
                },
                "template": {
                  "data": {
                    "bar": [
                      {
                        "error_x": {
                          "color": "#2a3f5f"
                        },
                        "error_y": {
                          "color": "#2a3f5f"
                        },
                        "marker": {
                          "line": {
                            "color": "#E5ECF6",
                            "width": 0.5
                          },
                          "pattern": {
                            "fillmode": "overlay",
                            "size": 10,
                            "solidity": 0.2
                          }
                        },
                        "type": "bar"
                      }
                    ],
                    "barpolar": [
                      {
                        "marker": {
                          "line": {
                            "color": "#E5ECF6",
                            "width": 0.5
                          },
                          "pattern": {
                            "fillmode": "overlay",
                            "size": 10,
                            "solidity": 0.2
                          }
                        },
                        "type": "barpolar"
                      }
                    ],
                    "carpet": [
                      {
                        "aaxis": {
                          "endlinecolor": "#2a3f5f",
                          "gridcolor": "white",
                          "linecolor": "white",
                          "minorgridcolor": "white",
                          "startlinecolor": "#2a3f5f"
                        },
                        "baxis": {
                          "endlinecolor": "#2a3f5f",
                          "gridcolor": "white",
                          "linecolor": "white",
                          "minorgridcolor": "white",
                          "startlinecolor": "#2a3f5f"
                        },
                        "type": "carpet"
                      }
                    ],
                    "choropleth": [
                      {
                        "colorbar": {
                          "outlinewidth": 0,
                          "ticks": ""
                        },
                        "type": "choropleth"
                      }
                    ],
                    "contour": [
                      {
                        "colorbar": {
                          "outlinewidth": 0,
                          "ticks": ""
                        },
                        "colorscale": [
                          [
                            0,
                            "#0d0887"
                          ],
                          [
                            0.1111111111111111,
                            "#46039f"
                          ],
                          [
                            0.2222222222222222,
                            "#7201a8"
                          ],
                          [
                            0.3333333333333333,
                            "#9c179e"
                          ],
                          [
                            0.4444444444444444,
                            "#bd3786"
                          ],
                          [
                            0.5555555555555556,
                            "#d8576b"
                          ],
                          [
                            0.6666666666666666,
                            "#ed7953"
                          ],
                          [
                            0.7777777777777778,
                            "#fb9f3a"
                          ],
                          [
                            0.8888888888888888,
                            "#fdca26"
                          ],
                          [
                            1,
                            "#f0f921"
                          ]
                        ],
                        "type": "contour"
                      }
                    ],
                    "contourcarpet": [
                      {
                        "colorbar": {
                          "outlinewidth": 0,
                          "ticks": ""
                        },
                        "type": "contourcarpet"
                      }
                    ],
                    "heatmap": [
                      {
                        "colorbar": {
                          "outlinewidth": 0,
                          "ticks": ""
                        },
                        "colorscale": [
                          [
                            0,
                            "#0d0887"
                          ],
                          [
                            0.1111111111111111,
                            "#46039f"
                          ],
                          [
                            0.2222222222222222,
                            "#7201a8"
                          ],
                          [
                            0.3333333333333333,
                            "#9c179e"
                          ],
                          [
                            0.4444444444444444,
                            "#bd3786"
                          ],
                          [
                            0.5555555555555556,
                            "#d8576b"
                          ],
                          [
                            0.6666666666666666,
                            "#ed7953"
                          ],
                          [
                            0.7777777777777778,
                            "#fb9f3a"
                          ],
                          [
                            0.8888888888888888,
                            "#fdca26"
                          ],
                          [
                            1,
                            "#f0f921"
                          ]
                        ],
                        "type": "heatmap"
                      }
                    ],
                    "histogram": [
                      {
                        "marker": {
                          "pattern": {
                            "fillmode": "overlay",
                            "size": 10,
                            "solidity": 0.2
                          }
                        },
                        "type": "histogram"
                      }
                    ],
                    "histogram2d": [
                      {
                        "colorbar": {
                          "outlinewidth": 0,
                          "ticks": ""
                        },
                        "colorscale": [
                          [
                            0,
                            "#0d0887"
                          ],
                          [
                            0.1111111111111111,
                            "#46039f"
                          ],
                          [
                            0.2222222222222222,
                            "#7201a8"
                          ],
                          [
                            0.3333333333333333,
                            "#9c179e"
                          ],
                          [
                            0.4444444444444444,
                            "#bd3786"
                          ],
                          [
                            0.5555555555555556,
                            "#d8576b"
                          ],
                          [
                            0.6666666666666666,
                            "#ed7953"
                          ],
                          [
                            0.7777777777777778,
                            "#fb9f3a"
                          ],
                          [
                            0.8888888888888888,
                            "#fdca26"
                          ],
                          [
                            1,
                            "#f0f921"
                          ]
                        ],
                        "type": "histogram2d"
                      }
                    ],
                    "histogram2dcontour": [
                      {
                        "colorbar": {
                          "outlinewidth": 0,
                          "ticks": ""
                        },
                        "colorscale": [
                          [
                            0,
                            "#0d0887"
                          ],
                          [
                            0.1111111111111111,
                            "#46039f"
                          ],
                          [
                            0.2222222222222222,
                            "#7201a8"
                          ],
                          [
                            0.3333333333333333,
                            "#9c179e"
                          ],
                          [
                            0.4444444444444444,
                            "#bd3786"
                          ],
                          [
                            0.5555555555555556,
                            "#d8576b"
                          ],
                          [
                            0.6666666666666666,
                            "#ed7953"
                          ],
                          [
                            0.7777777777777778,
                            "#fb9f3a"
                          ],
                          [
                            0.8888888888888888,
                            "#fdca26"
                          ],
                          [
                            1,
                            "#f0f921"
                          ]
                        ],
                        "type": "histogram2dcontour"
                      }
                    ],
                    "mesh3d": [
                      {
                        "colorbar": {
                          "outlinewidth": 0,
                          "ticks": ""
                        },
                        "type": "mesh3d"
                      }
                    ],
                    "parcoords": [
                      {
                        "line": {
                          "colorbar": {
                            "outlinewidth": 0,
                            "ticks": ""
                          }
                        },
                        "type": "parcoords"
                      }
                    ],
                    "pie": [
                      {
                        "automargin": true,
                        "type": "pie"
                      }
                    ],
                    "scatter": [
                      {
                        "fillpattern": {
                          "fillmode": "overlay",
                          "size": 10,
                          "solidity": 0.2
                        },
                        "type": "scatter"
                      }
                    ],
                    "scatter3d": [
                      {
                        "line": {
                          "colorbar": {
                            "outlinewidth": 0,
                            "ticks": ""
                          }
                        },
                        "marker": {
                          "colorbar": {
                            "outlinewidth": 0,
                            "ticks": ""
                          }
                        },
                        "type": "scatter3d"
                      }
                    ],
                    "scattercarpet": [
                      {
                        "marker": {
                          "colorbar": {
                            "outlinewidth": 0,
                            "ticks": ""
                          }
                        },
                        "type": "scattercarpet"
                      }
                    ],
                    "scattergeo": [
                      {
                        "marker": {
                          "colorbar": {
                            "outlinewidth": 0,
                            "ticks": ""
                          }
                        },
                        "type": "scattergeo"
                      }
                    ],
                    "scattergl": [
                      {
                        "marker": {
                          "colorbar": {
                            "outlinewidth": 0,
                            "ticks": ""
                          }
                        },
                        "type": "scattergl"
                      }
                    ],
                    "scattermap": [
                      {
                        "marker": {
                          "colorbar": {
                            "outlinewidth": 0,
                            "ticks": ""
                          }
                        },
                        "type": "scattermap"
                      }
                    ],
                    "scattermapbox": [
                      {
                        "marker": {
                          "colorbar": {
                            "outlinewidth": 0,
                            "ticks": ""
                          }
                        },
                        "type": "scattermapbox"
                      }
                    ],
                    "scatterpolar": [
                      {
                        "marker": {
                          "colorbar": {
                            "outlinewidth": 0,
                            "ticks": ""
                          }
                        },
                        "type": "scatterpolar"
                      }
                    ],
                    "scatterpolargl": [
                      {
                        "marker": {
                          "colorbar": {
                            "outlinewidth": 0,
                            "ticks": ""
                          }
                        },
                        "type": "scatterpolargl"
                      }
                    ],
                    "scatterternary": [
                      {
                        "marker": {
                          "colorbar": {
                            "outlinewidth": 0,
                            "ticks": ""
                          }
                        },
                        "type": "scatterternary"
                      }
                    ],
                    "surface": [
                      {
                        "colorbar": {
                          "outlinewidth": 0,
                          "ticks": ""
                        },
                        "colorscale": [
                          [
                            0,
                            "#0d0887"
                          ],
                          [
                            0.1111111111111111,
                            "#46039f"
                          ],
                          [
                            0.2222222222222222,
                            "#7201a8"
                          ],
                          [
                            0.3333333333333333,
                            "#9c179e"
                          ],
                          [
                            0.4444444444444444,
                            "#bd3786"
                          ],
                          [
                            0.5555555555555556,
                            "#d8576b"
                          ],
                          [
                            0.6666666666666666,
                            "#ed7953"
                          ],
                          [
                            0.7777777777777778,
                            "#fb9f3a"
                          ],
                          [
                            0.8888888888888888,
                            "#fdca26"
                          ],
                          [
                            1,
                            "#f0f921"
                          ]
                        ],
                        "type": "surface"
                      }
                    ],
                    "table": [
                      {
                        "cells": {
                          "fill": {
                            "color": "#EBF0F8"
                          },
                          "line": {
                            "color": "white"
                          }
                        },
                        "header": {
                          "fill": {
                            "color": "#C8D4E3"
                          },
                          "line": {
                            "color": "white"
                          }
                        },
                        "type": "table"
                      }
                    ]
                  },
                  "layout": {
                    "annotationdefaults": {
                      "arrowcolor": "#2a3f5f",
                      "arrowhead": 0,
                      "arrowwidth": 1
                    },
                    "autotypenumbers": "strict",
                    "coloraxis": {
                      "colorbar": {
                        "outlinewidth": 0,
                        "ticks": ""
                      }
                    },
                    "colorscale": {
                      "diverging": [
                        [
                          0,
                          "#8e0152"
                        ],
                        [
                          0.1,
                          "#c51b7d"
                        ],
                        [
                          0.2,
                          "#de77ae"
                        ],
                        [
                          0.3,
                          "#f1b6da"
                        ],
                        [
                          0.4,
                          "#fde0ef"
                        ],
                        [
                          0.5,
                          "#f7f7f7"
                        ],
                        [
                          0.6,
                          "#e6f5d0"
                        ],
                        [
                          0.7,
                          "#b8e186"
                        ],
                        [
                          0.8,
                          "#7fbc41"
                        ],
                        [
                          0.9,
                          "#4d9221"
                        ],
                        [
                          1,
                          "#276419"
                        ]
                      ],
                      "sequential": [
                        [
                          0,
                          "#0d0887"
                        ],
                        [
                          0.1111111111111111,
                          "#46039f"
                        ],
                        [
                          0.2222222222222222,
                          "#7201a8"
                        ],
                        [
                          0.3333333333333333,
                          "#9c179e"
                        ],
                        [
                          0.4444444444444444,
                          "#bd3786"
                        ],
                        [
                          0.5555555555555556,
                          "#d8576b"
                        ],
                        [
                          0.6666666666666666,
                          "#ed7953"
                        ],
                        [
                          0.7777777777777778,
                          "#fb9f3a"
                        ],
                        [
                          0.8888888888888888,
                          "#fdca26"
                        ],
                        [
                          1,
                          "#f0f921"
                        ]
                      ],
                      "sequentialminus": [
                        [
                          0,
                          "#0d0887"
                        ],
                        [
                          0.1111111111111111,
                          "#46039f"
                        ],
                        [
                          0.2222222222222222,
                          "#7201a8"
                        ],
                        [
                          0.3333333333333333,
                          "#9c179e"
                        ],
                        [
                          0.4444444444444444,
                          "#bd3786"
                        ],
                        [
                          0.5555555555555556,
                          "#d8576b"
                        ],
                        [
                          0.6666666666666666,
                          "#ed7953"
                        ],
                        [
                          0.7777777777777778,
                          "#fb9f3a"
                        ],
                        [
                          0.8888888888888888,
                          "#fdca26"
                        ],
                        [
                          1,
                          "#f0f921"
                        ]
                      ]
                    },
                    "colorway": [
                      "#636efa",
                      "#EF553B",
                      "#00cc96",
                      "#ab63fa",
                      "#FFA15A",
                      "#19d3f3",
                      "#FF6692",
                      "#B6E880",
                      "#FF97FF",
                      "#FECB52"
                    ],
                    "font": {
                      "color": "#2a3f5f"
                    },
                    "geo": {
                      "bgcolor": "white",
                      "lakecolor": "white",
                      "landcolor": "#E5ECF6",
                      "showlakes": true,
                      "showland": true,
                      "subunitcolor": "white"
                    },
                    "hoverlabel": {
                      "align": "left"
                    },
                    "hovermode": "closest",
                    "mapbox": {
                      "style": "light"
                    },
                    "paper_bgcolor": "white",
                    "plot_bgcolor": "#E5ECF6",
                    "polar": {
                      "angularaxis": {
                        "gridcolor": "white",
                        "linecolor": "white",
                        "ticks": ""
                      },
                      "bgcolor": "#E5ECF6",
                      "radialaxis": {
                        "gridcolor": "white",
                        "linecolor": "white",
                        "ticks": ""
                      }
                    },
                    "scene": {
                      "xaxis": {
                        "backgroundcolor": "#E5ECF6",
                        "gridcolor": "white",
                        "gridwidth": 2,
                        "linecolor": "white",
                        "showbackground": true,
                        "ticks": "",
                        "zerolinecolor": "white"
                      },
                      "yaxis": {
                        "backgroundcolor": "#E5ECF6",
                        "gridcolor": "white",
                        "gridwidth": 2,
                        "linecolor": "white",
                        "showbackground": true,
                        "ticks": "",
                        "zerolinecolor": "white"
                      },
                      "zaxis": {
                        "backgroundcolor": "#E5ECF6",
                        "gridcolor": "white",
                        "gridwidth": 2,
                        "linecolor": "white",
                        "showbackground": true,
                        "ticks": "",
                        "zerolinecolor": "white"
                      }
                    },
                    "shapedefaults": {
                      "line": {
                        "color": "#2a3f5f"
                      }
                    },
                    "ternary": {
                      "aaxis": {
                        "gridcolor": "white",
                        "linecolor": "white",
                        "ticks": ""
                      },
                      "baxis": {
                        "gridcolor": "white",
                        "linecolor": "white",
                        "ticks": ""
                      },
                      "bgcolor": "#E5ECF6",
                      "caxis": {
                        "gridcolor": "white",
                        "linecolor": "white",
                        "ticks": ""
                      }
                    },
                    "title": {
                      "x": 0.05
                    },
                    "xaxis": {
                      "automargin": true,
                      "gridcolor": "white",
                      "linecolor": "white",
                      "ticks": "",
                      "title": {
                        "standoff": 15
                      },
                      "zerolinecolor": "white",
                      "zerolinewidth": 2
                    },
                    "yaxis": {
                      "automargin": true,
                      "gridcolor": "white",
                      "linecolor": "white",
                      "ticks": "",
                      "title": {
                        "standoff": 15
                      },
                      "zerolinecolor": "white",
                      "zerolinewidth": 2
                    }
                  }
                },
                "title": {
                  "text": "Financial Loss vs Affected Users (Colored by Attack Type)"
                },
                "xaxis": {
                  "anchor": "y",
                  "domain": [
                    0,
                    1
                  ],
                  "title": {
                    "text": "Number of Affected Users"
                  },
                  "type": "log"
                },
                "yaxis": {
                  "anchor": "x",
                  "domain": [
                    0,
                    1
                  ],
                  "title": {
                    "text": "Financial Loss (in Million $)"
                  },
                  "type": "log"
                }
              }
            }
          },
          "metadata": {},
          "output_type": "display_data"
        }
      ],
      "source": [
        "fig4 = px.scatter(\n",
        "    df,\n",
        "    x=\"Number of Affected Users\",\n",
        "    y=\"Financial Loss (in Million $)\",\n",
        "    color=\"Attack Type\",\n",
        "    size=\"Financial Loss (in Million $)\",\n",
        "    hover_name=\"Country\",\n",
        "    title=\"Financial Loss vs Affected Users (Colored by Attack Type)\",\n",
        "    log_x=True,  # log scale to handle large variation\n",
        "    log_y=True\n",
        ")\n",
        "\n",
        "fig4.show()"
      ]
    },
    {
      "cell_type": "markdown",
      "metadata": {
        "id": "CHpIZ80tmfoy"
      },
      "source": [
        "##### What are the insight found from the chart?"
      ]
    },
    {
      "cell_type": "markdown",
      "metadata": {
        "id": "VSX_vvUymgJ4"
      },
      "source": [
        "The chart reveals a trade-off between financial loss and user exposure — some attacks are “wide but shallow,” others are “narrow but deep,” and the outliers show the most devastating breaches."
      ]
    },
    {
      "cell_type": "markdown",
      "metadata": {
        "id": "EAX8aMRpubjW"
      },
      "source": [
        "# Thank you"
      ]
    }
  ],
  "metadata": {
    "colab": {
      "collapsed_sections": [
        "vncDsAP0Gaoa",
        "FJNUwmbgGyua",
        "yQaldy8SH6Dl",
        "H0kj-8xxnORC",
        "O_i_v8NEhb9l",
        "Y3lxredqlCYt",
        "lQ7QKXXCp7Bj",
        "vNBQ7pf0Y38p",
        "ijmpgYnKYklI",
        "85gYPyotYoAp",
        "F6T5p64dYrdO"
      ],
      "private_outputs": true,
      "provenance": []
    },
    "kernelspec": {
      "display_name": "Python 3",
      "name": "python3"
    },
    "language_info": {
      "codemirror_mode": {
        "name": "ipython",
        "version": 3
      },
      "file_extension": ".py",
      "mimetype": "text/x-python",
      "name": "python",
      "nbconvert_exporter": "python",
      "pygments_lexer": "ipython3",
      "version": "3.13.5"
    }
  },
  "nbformat": 4,
  "nbformat_minor": 0
}
